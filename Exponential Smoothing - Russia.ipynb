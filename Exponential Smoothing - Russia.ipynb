{
 "cells": [
  {
   "cell_type": "markdown",
   "id": "a3b24605-53a4-4d75-9863-a1547676bb4d",
   "metadata": {},
   "source": [
    "Exponential Smoothing "
   ]
  },
  {
   "cell_type": "markdown",
   "id": "d759df7b-29a5-4d85-9026-3a6199990117",
   "metadata": {},
   "source": [
    "**Objective is to forecast stock prices in Q1 2021 with the data from 2020.**"
   ]
  },
  {
   "cell_type": "code",
   "execution_count": 3,
   "id": "a684bdea-f9f4-4a92-97e0-c2068182b0bb",
   "metadata": {},
   "outputs": [],
   "source": [
    "import pandas as pd\n",
    "import numpy as np\n",
    "import matplotlib.pyplot as plt\n",
    "import seaborn as sns\n",
    "%matplotlib inline\n",
    "\n",
    "\n",
    "from statsmodels.tsa.holtwinters import SimpleExpSmoothing\n",
    "from statsmodels.tsa.holtwinters import ExponentialSmoothing"
   ]
  },
  {
   "cell_type": "code",
   "execution_count": 4,
   "id": "78f6bab9-a351-4a83-aae8-fbf3c500c59e",
   "metadata": {},
   "outputs": [],
   "source": [
    "data = pd.read_csv(r'C:\\Users\\dgarb\\OneDrive\\Documents\\APZIVA\\Project 5\\stock_price_data.csv')"
   ]
  },
  {
   "cell_type": "code",
   "execution_count": 5,
   "id": "46cf3511-7ee9-4070-986a-15915717efef",
   "metadata": {},
   "outputs": [
    {
     "data": {
      "text/html": [
       "<div>\n",
       "<style scoped>\n",
       "    .dataframe tbody tr th:only-of-type {\n",
       "        vertical-align: middle;\n",
       "    }\n",
       "\n",
       "    .dataframe tbody tr th {\n",
       "        vertical-align: top;\n",
       "    }\n",
       "\n",
       "    .dataframe thead th {\n",
       "        text-align: right;\n",
       "    }\n",
       "</style>\n",
       "<table border=\"1\" class=\"dataframe\">\n",
       "  <thead>\n",
       "    <tr style=\"text-align: right;\">\n",
       "      <th></th>\n",
       "      <th>Date</th>\n",
       "      <th>Price</th>\n",
       "      <th>Open</th>\n",
       "      <th>High</th>\n",
       "      <th>Low</th>\n",
       "      <th>Vol.</th>\n",
       "      <th>Change %</th>\n",
       "    </tr>\n",
       "  </thead>\n",
       "  <tbody>\n",
       "    <tr>\n",
       "      <th>0</th>\n",
       "      <td>31-Mar-21</td>\n",
       "      <td>291.02</td>\n",
       "      <td>294.00</td>\n",
       "      <td>294.42</td>\n",
       "      <td>290.26</td>\n",
       "      <td>47.00M</td>\n",
       "      <td>-0.76%</td>\n",
       "    </tr>\n",
       "    <tr>\n",
       "      <th>1</th>\n",
       "      <td>30-Mar-21</td>\n",
       "      <td>293.25</td>\n",
       "      <td>294.86</td>\n",
       "      <td>295.72</td>\n",
       "      <td>291.50</td>\n",
       "      <td>38.81M</td>\n",
       "      <td>-0.02%</td>\n",
       "    </tr>\n",
       "    <tr>\n",
       "      <th>2</th>\n",
       "      <td>29-Mar-21</td>\n",
       "      <td>293.30</td>\n",
       "      <td>289.72</td>\n",
       "      <td>294.09</td>\n",
       "      <td>289.26</td>\n",
       "      <td>43.68M</td>\n",
       "      <td>0.71%</td>\n",
       "    </tr>\n",
       "    <tr>\n",
       "      <th>3</th>\n",
       "      <td>26-Mar-21</td>\n",
       "      <td>291.22</td>\n",
       "      <td>288.63</td>\n",
       "      <td>292.75</td>\n",
       "      <td>288.32</td>\n",
       "      <td>56.07M</td>\n",
       "      <td>1.59%</td>\n",
       "    </tr>\n",
       "    <tr>\n",
       "      <th>4</th>\n",
       "      <td>25-Mar-21</td>\n",
       "      <td>286.66</td>\n",
       "      <td>286.50</td>\n",
       "      <td>287.03</td>\n",
       "      <td>283.85</td>\n",
       "      <td>35.22M</td>\n",
       "      <td>0.30%</td>\n",
       "    </tr>\n",
       "  </tbody>\n",
       "</table>\n",
       "</div>"
      ],
      "text/plain": [
       "        Date   Price    Open    High     Low    Vol. Change %\n",
       "0  31-Mar-21  291.02  294.00  294.42  290.26  47.00M   -0.76%\n",
       "1  30-Mar-21  293.25  294.86  295.72  291.50  38.81M   -0.02%\n",
       "2  29-Mar-21  293.30  289.72  294.09  289.26  43.68M    0.71%\n",
       "3  26-Mar-21  291.22  288.63  292.75  288.32  56.07M    1.59%\n",
       "4  25-Mar-21  286.66  286.50  287.03  283.85  35.22M    0.30%"
      ]
     },
     "execution_count": 5,
     "metadata": {},
     "output_type": "execute_result"
    }
   ],
   "source": [
    "data.head()"
   ]
  },
  {
   "cell_type": "code",
   "execution_count": 6,
   "id": "bb3631d5-7ae6-42a6-8dea-7a470c05cd62",
   "metadata": {},
   "outputs": [
    {
     "name": "stdout",
     "output_type": "stream",
     "text": [
      "<class 'pandas.core.frame.DataFrame'>\n",
      "RangeIndex: 311 entries, 0 to 310\n",
      "Data columns (total 7 columns):\n",
      " #   Column    Non-Null Count  Dtype  \n",
      "---  ------    --------------  -----  \n",
      " 0   Date      311 non-null    object \n",
      " 1   Price     311 non-null    float64\n",
      " 2   Open      311 non-null    float64\n",
      " 3   High      311 non-null    float64\n",
      " 4   Low       311 non-null    float64\n",
      " 5   Vol.      311 non-null    object \n",
      " 6   Change %  311 non-null    object \n",
      "dtypes: float64(4), object(3)\n",
      "memory usage: 17.1+ KB\n"
     ]
    }
   ],
   "source": [
    "data.info()"
   ]
  },
  {
   "cell_type": "markdown",
   "id": "d087956a-870a-4863-bd63-54038b0976cd",
   "metadata": {},
   "source": [
    "convert to datetime"
   ]
  },
  {
   "cell_type": "code",
   "execution_count": 8,
   "id": "8bdc8794-b255-49d9-bd2c-69b069848a10",
   "metadata": {},
   "outputs": [],
   "source": [
    "# change 'Date' to a datetime object\n",
    "data['Date'] = pd.to_datetime(data['Date'], format='%d-%b-%y')"
   ]
  },
  {
   "cell_type": "code",
   "execution_count": 9,
   "id": "60a2f7d1-e986-4a82-bd2c-c896cd97400c",
   "metadata": {},
   "outputs": [
    {
     "name": "stdout",
     "output_type": "stream",
     "text": [
      "<class 'pandas.core.frame.DataFrame'>\n",
      "RangeIndex: 311 entries, 0 to 310\n",
      "Data columns (total 7 columns):\n",
      " #   Column    Non-Null Count  Dtype         \n",
      "---  ------    --------------  -----         \n",
      " 0   Date      311 non-null    datetime64[ns]\n",
      " 1   Price     311 non-null    float64       \n",
      " 2   Open      311 non-null    float64       \n",
      " 3   High      311 non-null    float64       \n",
      " 4   Low       311 non-null    float64       \n",
      " 5   Vol.      311 non-null    object        \n",
      " 6   Change %  311 non-null    object        \n",
      "dtypes: datetime64[ns](1), float64(4), object(2)\n",
      "memory usage: 17.1+ KB\n"
     ]
    }
   ],
   "source": [
    "data.info()"
   ]
  },
  {
   "cell_type": "code",
   "execution_count": 10,
   "id": "05c38276-6856-4fcc-ac89-32bf25440f9a",
   "metadata": {},
   "outputs": [
    {
     "data": {
      "text/plain": [
       "Date        2020-01-03 00:00:00\n",
       "Price                    174.27\n",
       "Open                      175.0\n",
       "High                      182.2\n",
       "Low                      172.15\n",
       "Vol.                    100.09M\n",
       "Change %                 -0.01%\n",
       "dtype: object"
      ]
     },
     "execution_count": 10,
     "metadata": {},
     "output_type": "execute_result"
    }
   ],
   "source": [
    "data.min()"
   ]
  },
  {
   "cell_type": "markdown",
   "id": "b033a8fd-c8bb-40df-9624-d9698426e3b1",
   "metadata": {},
   "source": [
    "sort data in ascending order by date"
   ]
  },
  {
   "cell_type": "code",
   "execution_count": 12,
   "id": "3325221b-be0d-499a-8d7e-5b1a0de4e294",
   "metadata": {},
   "outputs": [],
   "source": [
    "# data = \n",
    "data = data.sort_values(by='Date')"
   ]
  },
  {
   "cell_type": "code",
   "execution_count": 13,
   "id": "ced32585-f589-48cc-811f-c8101dc6223f",
   "metadata": {},
   "outputs": [
    {
     "data": {
      "text/html": [
       "<div>\n",
       "<style scoped>\n",
       "    .dataframe tbody tr th:only-of-type {\n",
       "        vertical-align: middle;\n",
       "    }\n",
       "\n",
       "    .dataframe tbody tr th {\n",
       "        vertical-align: top;\n",
       "    }\n",
       "\n",
       "    .dataframe thead th {\n",
       "        text-align: right;\n",
       "    }\n",
       "</style>\n",
       "<table border=\"1\" class=\"dataframe\">\n",
       "  <thead>\n",
       "    <tr style=\"text-align: right;\">\n",
       "      <th></th>\n",
       "      <th>Date</th>\n",
       "      <th>Price</th>\n",
       "      <th>Open</th>\n",
       "      <th>High</th>\n",
       "      <th>Low</th>\n",
       "      <th>Vol.</th>\n",
       "      <th>Change %</th>\n",
       "    </tr>\n",
       "  </thead>\n",
       "  <tbody>\n",
       "    <tr>\n",
       "      <th>310</th>\n",
       "      <td>2020-01-03</td>\n",
       "      <td>255.00</td>\n",
       "      <td>255.99</td>\n",
       "      <td>258.19</td>\n",
       "      <td>253.70</td>\n",
       "      <td>35.85M</td>\n",
       "      <td>0.10%</td>\n",
       "    </tr>\n",
       "    <tr>\n",
       "      <th>309</th>\n",
       "      <td>2020-01-06</td>\n",
       "      <td>253.90</td>\n",
       "      <td>254.75</td>\n",
       "      <td>254.84</td>\n",
       "      <td>251.40</td>\n",
       "      <td>22.35M</td>\n",
       "      <td>-0.43%</td>\n",
       "    </tr>\n",
       "    <tr>\n",
       "      <th>308</th>\n",
       "      <td>2020-01-08</td>\n",
       "      <td>259.15</td>\n",
       "      <td>253.57</td>\n",
       "      <td>259.15</td>\n",
       "      <td>253.03</td>\n",
       "      <td>40.82M</td>\n",
       "      <td>2.07%</td>\n",
       "    </tr>\n",
       "    <tr>\n",
       "      <th>307</th>\n",
       "      <td>2020-01-09</td>\n",
       "      <td>257.99</td>\n",
       "      <td>259.40</td>\n",
       "      <td>261.76</td>\n",
       "      <td>257.01</td>\n",
       "      <td>38.33M</td>\n",
       "      <td>-0.45%</td>\n",
       "    </tr>\n",
       "    <tr>\n",
       "      <th>306</th>\n",
       "      <td>2020-01-10</td>\n",
       "      <td>258.19</td>\n",
       "      <td>257.86</td>\n",
       "      <td>259.25</td>\n",
       "      <td>256.88</td>\n",
       "      <td>18.85M</td>\n",
       "      <td>0.08%</td>\n",
       "    </tr>\n",
       "  </tbody>\n",
       "</table>\n",
       "</div>"
      ],
      "text/plain": [
       "          Date   Price    Open    High     Low    Vol. Change %\n",
       "310 2020-01-03  255.00  255.99  258.19  253.70  35.85M    0.10%\n",
       "309 2020-01-06  253.90  254.75  254.84  251.40  22.35M   -0.43%\n",
       "308 2020-01-08  259.15  253.57  259.15  253.03  40.82M    2.07%\n",
       "307 2020-01-09  257.99  259.40  261.76  257.01  38.33M   -0.45%\n",
       "306 2020-01-10  258.19  257.86  259.25  256.88  18.85M    0.08%"
      ]
     },
     "execution_count": 13,
     "metadata": {},
     "output_type": "execute_result"
    }
   ],
   "source": [
    "data.head()"
   ]
  },
  {
   "cell_type": "code",
   "execution_count": 14,
   "id": "2dc6b722-2970-44cf-924c-2c2a01d91962",
   "metadata": {},
   "outputs": [
    {
     "data": {
      "text/plain": [
       "Index(['Date', 'Price', 'Open', 'High', 'Low', 'Vol.', 'Change %'], dtype='object')"
      ]
     },
     "execution_count": 14,
     "metadata": {},
     "output_type": "execute_result"
    }
   ],
   "source": [
    "data.columns"
   ]
  },
  {
   "cell_type": "code",
   "execution_count": 15,
   "id": "1b0d1889-5948-4d23-8f69-fa7b68d5cf75",
   "metadata": {},
   "outputs": [],
   "source": [
    "data = data.drop(columns = ['Open', 'High', 'Low', 'Vol.', 'Change %'])"
   ]
  },
  {
   "cell_type": "code",
   "execution_count": 16,
   "id": "7083e7c7-edf3-47a2-8979-554a79d79fce",
   "metadata": {},
   "outputs": [],
   "source": [
    "def lineplot(x,y,data_,title_):\n",
    "    sns.set(rc = {'figure.figsize':(15,8)})\n",
    "    # Bigger than normal fonts\n",
    "    sns.set(font_scale=1.5)\n",
    "    sns.set_style('darkgrid')\n",
    "    chart = sns.lineplot(x = x, y = y, data = data_)\n",
    "    chart.set(title=title_)\n",
    "    plt.show()"
   ]
  },
  {
   "cell_type": "code",
   "execution_count": 17,
   "id": "2722b762-599f-4075-9005-66ac7f19591d",
   "metadata": {},
   "outputs": [
    {
     "data": {
      "image/png": "[encoded data removed]",
      "text/plain": [
       "<Figure size 1500x800 with 1 Axes>"
      ]
     },
     "metadata": {},
     "output_type": "display_data"
    }
   ],
   "source": [
    "lineplot(x='Date',y='Price',data_=data,title_='Russia Stock Price Over Time')"
   ]
  },
  {
   "cell_type": "code",
   "execution_count": null,
   "id": "d4a91a65-e590-4d41-8d7b-0efe96870c16",
   "metadata": {},
   "outputs": [],
   "source": []
  },
  {
   "cell_type": "code",
   "execution_count": 18,
   "id": "3e6e2966-9fb6-461a-b415-2030a15775fb",
   "metadata": {},
   "outputs": [],
   "source": [
    "# **create train_data**\n",
    "train_data = data[data.Date <= '2020-03-31']"
   ]
  },
  {
   "cell_type": "code",
   "execution_count": 19,
   "id": "bade7721-138c-40ad-9ab8-b082dee4d888",
   "metadata": {},
   "outputs": [
    {
     "data": {
      "text/plain": [
       "Timestamp('2020-01-03 00:00:00')"
      ]
     },
     "execution_count": 19,
     "metadata": {},
     "output_type": "execute_result"
    }
   ],
   "source": [
    "train_data.Date.min()"
   ]
  },
  {
   "cell_type": "code",
   "execution_count": 20,
   "id": "c6372813-cadc-4c72-9fdf-d93fb6cf30eb",
   "metadata": {},
   "outputs": [
    {
     "data": {
      "text/html": [
       "<div>\n",
       "<style scoped>\n",
       "    .dataframe tbody tr th:only-of-type {\n",
       "        vertical-align: middle;\n",
       "    }\n",
       "\n",
       "    .dataframe tbody tr th {\n",
       "        vertical-align: top;\n",
       "    }\n",
       "\n",
       "    .dataframe thead th {\n",
       "        text-align: right;\n",
       "    }\n",
       "</style>\n",
       "<table border=\"1\" class=\"dataframe\">\n",
       "  <thead>\n",
       "    <tr style=\"text-align: right;\">\n",
       "      <th></th>\n",
       "      <th>Date</th>\n",
       "      <th>Price</th>\n",
       "    </tr>\n",
       "  </thead>\n",
       "  <tbody>\n",
       "    <tr>\n",
       "      <th>310</th>\n",
       "      <td>2020-01-03</td>\n",
       "      <td>255.00</td>\n",
       "    </tr>\n",
       "    <tr>\n",
       "      <th>309</th>\n",
       "      <td>2020-01-06</td>\n",
       "      <td>253.90</td>\n",
       "    </tr>\n",
       "    <tr>\n",
       "      <th>308</th>\n",
       "      <td>2020-01-08</td>\n",
       "      <td>259.15</td>\n",
       "    </tr>\n",
       "    <tr>\n",
       "      <th>307</th>\n",
       "      <td>2020-01-09</td>\n",
       "      <td>257.99</td>\n",
       "    </tr>\n",
       "    <tr>\n",
       "      <th>306</th>\n",
       "      <td>2020-01-10</td>\n",
       "      <td>258.19</td>\n",
       "    </tr>\n",
       "  </tbody>\n",
       "</table>\n",
       "</div>"
      ],
      "text/plain": [
       "          Date   Price\n",
       "310 2020-01-03  255.00\n",
       "309 2020-01-06  253.90\n",
       "308 2020-01-08  259.15\n",
       "307 2020-01-09  257.99\n",
       "306 2020-01-10  258.19"
      ]
     },
     "execution_count": 20,
     "metadata": {},
     "output_type": "execute_result"
    }
   ],
   "source": [
    "train_data.head()"
   ]
  },
  {
   "cell_type": "code",
   "execution_count": 21,
   "id": "53866c84-872c-4976-9f17-64c999bcceb4",
   "metadata": {},
   "outputs": [
    {
     "data": {
      "image/png": "[encoded data removed]",
      "text/plain": [
       "<Figure size 1500x800 with 1 Axes>"
      ]
     },
     "metadata": {},
     "output_type": "display_data"
    }
   ],
   "source": [
    "lineplot(x='Date',y='Price',data_=train_data,title_='Russia Stock Price Over Time Train')"
   ]
  },
  {
   "cell_type": "code",
   "execution_count": 22,
   "id": "9ce5982a-5b30-4232-b2df-f6c666e64b71",
   "metadata": {},
   "outputs": [],
   "source": [
    "# **create test_data**\n",
    "test_data =data[data.Date > '2020-03-31']"
   ]
  },
  {
   "cell_type": "code",
   "execution_count": 23,
   "id": "100347eb-a2af-4018-8fc4-a425f4cb0888",
   "metadata": {},
   "outputs": [
    {
     "name": "stdout",
     "output_type": "stream",
     "text": [
      "min 2020-04-01 00:00:00\n"
     ]
    }
   ],
   "source": [
    "print('min',test_data.Date.min())"
   ]
  },
  {
   "cell_type": "code",
   "execution_count": 24,
   "id": "1127f85e-aef1-4f45-b8f2-b4e3bb0c7cac",
   "metadata": {},
   "outputs": [
    {
     "name": "stdout",
     "output_type": "stream",
     "text": [
      "max   Date     2021-03-31 00:00:00\n",
      "Price                  293.3\n",
      "dtype: object\n"
     ]
    },
    {
     "data": {
      "text/html": [
       "<div>\n",
       "<style scoped>\n",
       "    .dataframe tbody tr th:only-of-type {\n",
       "        vertical-align: middle;\n",
       "    }\n",
       "\n",
       "    .dataframe tbody tr th {\n",
       "        vertical-align: top;\n",
       "    }\n",
       "\n",
       "    .dataframe thead th {\n",
       "        text-align: right;\n",
       "    }\n",
       "</style>\n",
       "<table border=\"1\" class=\"dataframe\">\n",
       "  <thead>\n",
       "    <tr style=\"text-align: right;\">\n",
       "      <th></th>\n",
       "      <th>Date</th>\n",
       "      <th>Price</th>\n",
       "    </tr>\n",
       "  </thead>\n",
       "  <tbody>\n",
       "    <tr>\n",
       "      <th>250</th>\n",
       "      <td>2020-04-01</td>\n",
       "      <td>184.78</td>\n",
       "    </tr>\n",
       "    <tr>\n",
       "      <th>249</th>\n",
       "      <td>2020-04-02</td>\n",
       "      <td>186.95</td>\n",
       "    </tr>\n",
       "    <tr>\n",
       "      <th>248</th>\n",
       "      <td>2020-04-03</td>\n",
       "      <td>185.64</td>\n",
       "    </tr>\n",
       "    <tr>\n",
       "      <th>247</th>\n",
       "      <td>2020-04-06</td>\n",
       "      <td>190.70</td>\n",
       "    </tr>\n",
       "    <tr>\n",
       "      <th>246</th>\n",
       "      <td>2020-04-07</td>\n",
       "      <td>197.63</td>\n",
       "    </tr>\n",
       "  </tbody>\n",
       "</table>\n",
       "</div>"
      ],
      "text/plain": [
       "          Date   Price\n",
       "250 2020-04-01  184.78\n",
       "249 2020-04-02  186.95\n",
       "248 2020-04-03  185.64\n",
       "247 2020-04-06  190.70\n",
       "246 2020-04-07  197.63"
      ]
     },
     "execution_count": 24,
     "metadata": {},
     "output_type": "execute_result"
    }
   ],
   "source": [
    "print('max  ',test_data.max())\n",
    "test_data.head()\n"
   ]
  },
  {
   "cell_type": "code",
   "execution_count": 25,
   "id": "4279b683-9930-4fdf-b45b-3c11b8fa88d4",
   "metadata": {},
   "outputs": [
    {
     "name": "stdout",
     "output_type": "stream",
     "text": [
      "min   Date     2020-04-01 00:00:00\n",
      "Price                 183.81\n",
      "dtype: object\n"
     ]
    },
    {
     "data": {
      "text/html": [
       "<div>\n",
       "<style scoped>\n",
       "    .dataframe tbody tr th:only-of-type {\n",
       "        vertical-align: middle;\n",
       "    }\n",
       "\n",
       "    .dataframe tbody tr th {\n",
       "        vertical-align: top;\n",
       "    }\n",
       "\n",
       "    .dataframe thead th {\n",
       "        text-align: right;\n",
       "    }\n",
       "</style>\n",
       "<table border=\"1\" class=\"dataframe\">\n",
       "  <thead>\n",
       "    <tr style=\"text-align: right;\">\n",
       "      <th></th>\n",
       "      <th>Date</th>\n",
       "      <th>Price</th>\n",
       "    </tr>\n",
       "  </thead>\n",
       "  <tbody>\n",
       "    <tr>\n",
       "      <th>250</th>\n",
       "      <td>2020-04-01</td>\n",
       "      <td>184.78</td>\n",
       "    </tr>\n",
       "    <tr>\n",
       "      <th>249</th>\n",
       "      <td>2020-04-02</td>\n",
       "      <td>186.95</td>\n",
       "    </tr>\n",
       "    <tr>\n",
       "      <th>248</th>\n",
       "      <td>2020-04-03</td>\n",
       "      <td>185.64</td>\n",
       "    </tr>\n",
       "    <tr>\n",
       "      <th>247</th>\n",
       "      <td>2020-04-06</td>\n",
       "      <td>190.70</td>\n",
       "    </tr>\n",
       "    <tr>\n",
       "      <th>246</th>\n",
       "      <td>2020-04-07</td>\n",
       "      <td>197.63</td>\n",
       "    </tr>\n",
       "  </tbody>\n",
       "</table>\n",
       "</div>"
      ],
      "text/plain": [
       "          Date   Price\n",
       "250 2020-04-01  184.78\n",
       "249 2020-04-02  186.95\n",
       "248 2020-04-03  185.64\n",
       "247 2020-04-06  190.70\n",
       "246 2020-04-07  197.63"
      ]
     },
     "execution_count": 25,
     "metadata": {},
     "output_type": "execute_result"
    }
   ],
   "source": [
    "print('min  ',test_data.min())\n",
    "test_data.head()\n"
   ]
  },
  {
   "cell_type": "markdown",
   "id": "af111c84-bf54-402a-bb76-13033e539871",
   "metadata": {},
   "source": [
    "Simple Exponential Smoothing model "
   ]
  },
  {
   "cell_type": "code",
   "execution_count": 27,
   "id": "761f186f-f42d-4081-9b3e-2d260d9b5f0e",
   "metadata": {},
   "outputs": [],
   "source": [
    "# # Fit the model using the 'Price' column\n",
    "\n",
    "# model = ExponentialSmoothing(data['Price'], trend='additive', seasonal=None)\n",
    "# fit = model.fit()\n",
    "\n",
    "# # Forecast for the first quarter of 2021\n",
    "\n",
    "# forecast = fit.forecast(steps=90)  # Assuming 90 days in the first quarter\n",
    "\n",
    "# # Combine the forecast with the dates for the forecast period\n",
    "\n",
    "# forecast_dates = pd.date_range(start=data['Date'].iloc[-1] + pd.Timedelta(days=1), periods=90, freq='B')\n",
    "# forecast_df = pd.DataFrame({'Date': forecast_dates, 'Forecast': forecast})\n",
    "\n",
    "# # Print or plot the forecast\n",
    "\n",
    "# print(forecast_df)\n",
    "# forecast_df.plot(x='Date', y='Forecast', title='Stock Price Forecast')"
   ]
  },
  {
   "cell_type": "code",
   "execution_count": 43,
   "id": "61531242-e06e-4688-bb9f-df786acc7ab0",
   "metadata": {},
   "outputs": [
    {
     "data": {
      "text/html": [
       "<div>\n",
       "<style scoped>\n",
       "    .dataframe tbody tr th:only-of-type {\n",
       "        vertical-align: middle;\n",
       "    }\n",
       "\n",
       "    .dataframe tbody tr th {\n",
       "        vertical-align: top;\n",
       "    }\n",
       "\n",
       "    .dataframe thead th {\n",
       "        text-align: right;\n",
       "    }\n",
       "</style>\n",
       "<table border=\"1\" class=\"dataframe\">\n",
       "  <thead>\n",
       "    <tr style=\"text-align: right;\">\n",
       "      <th></th>\n",
       "      <th>Date</th>\n",
       "      <th>Price</th>\n",
       "    </tr>\n",
       "  </thead>\n",
       "  <tbody>\n",
       "    <tr>\n",
       "      <th>310</th>\n",
       "      <td>2020-01-03</td>\n",
       "      <td>255.00</td>\n",
       "    </tr>\n",
       "    <tr>\n",
       "      <th>309</th>\n",
       "      <td>2020-01-06</td>\n",
       "      <td>253.90</td>\n",
       "    </tr>\n",
       "    <tr>\n",
       "      <th>308</th>\n",
       "      <td>2020-01-08</td>\n",
       "      <td>259.15</td>\n",
       "    </tr>\n",
       "    <tr>\n",
       "      <th>307</th>\n",
       "      <td>2020-01-09</td>\n",
       "      <td>257.99</td>\n",
       "    </tr>\n",
       "    <tr>\n",
       "      <th>306</th>\n",
       "      <td>2020-01-10</td>\n",
       "      <td>258.19</td>\n",
       "    </tr>\n",
       "  </tbody>\n",
       "</table>\n",
       "</div>"
      ],
      "text/plain": [
       "          Date   Price\n",
       "310 2020-01-03  255.00\n",
       "309 2020-01-06  253.90\n",
       "308 2020-01-08  259.15\n",
       "307 2020-01-09  257.99\n",
       "306 2020-01-10  258.19"
      ]
     },
     "execution_count": 43,
     "metadata": {},
     "output_type": "execute_result"
    }
   ],
   "source": [
    "train_data.head()"
   ]
  },
  {
   "cell_type": "code",
   "execution_count": 41,
   "id": "177da8c9-641d-45e0-9208-951b1e3e30bd",
   "metadata": {},
   "outputs": [
    {
     "data": {
      "text/plain": [
       "pandas.core.frame.DataFrame"
      ]
     },
     "execution_count": 41,
     "metadata": {},
     "output_type": "execute_result"
    }
   ],
   "source": [
    "type(train_data)"
   ]
  },
  {
   "cell_type": "code",
   "execution_count": 45,
   "id": "b5a6ab0a-5466-4979-9a9e-1a9c753296dc",
   "metadata": {},
   "outputs": [
    {
     "name": "stdout",
     "output_type": "stream",
     "text": [
      "<class 'pandas.core.frame.DataFrame'>\n",
      "Index: 60 entries, 310 to 251\n",
      "Data columns (total 2 columns):\n",
      " #   Column  Non-Null Count  Dtype         \n",
      "---  ------  --------------  -----         \n",
      " 0   Date    60 non-null     datetime64[ns]\n",
      " 1   Price   60 non-null     float64       \n",
      "dtypes: datetime64[ns](1), float64(1)\n",
      "memory usage: 1.4 KB\n"
     ]
    }
   ],
   "source": [
    "train_data.info()"
   ]
  },
  {
   "cell_type": "code",
   "execution_count": 47,
   "id": "2a12c5b7-113b-4438-bbbd-7b31172f9ccb",
   "metadata": {},
   "outputs": [
    {
     "data": {
      "text/plain": [
       "(60, 2)"
      ]
     },
     "execution_count": 47,
     "metadata": {},
     "output_type": "execute_result"
    }
   ],
   "source": [
    "train_data.shape"
   ]
  },
  {
   "cell_type": "code",
   "execution_count": 31,
   "id": "8fbcdc6a-a0b0-41c0-9bc3-ba9b13ad5871",
   "metadata": {},
   "outputs": [
    {
     "ename": "ValueError",
     "evalue": "Pandas data cast to numpy dtype of object. Check input data with np.asarray(data).",
     "output_type": "error",
     "traceback": [
      "\u001b[1;31m---------------------------------------------------------------------------\u001b[0m",
      "\u001b[1;31mValueError\u001b[0m                                Traceback (most recent call last)",
      "Cell \u001b[1;32mIn[31], line 2\u001b[0m\n\u001b[0;32m      1\u001b[0m \u001b[38;5;66;03m# Build and fit the Simple Exponential Smoothing model with optimized=True\u001b[39;00m\n\u001b[1;32m----> 2\u001b[0m model \u001b[38;5;241m=\u001b[39m SimpleExpSmoothing(train_data)\n\u001b[0;32m      3\u001b[0m fit \u001b[38;5;241m=\u001b[39m model\u001b[38;5;241m.\u001b[39mfit(optimized\u001b[38;5;241m=\u001b[39m\u001b[38;5;28;01mTrue\u001b[39;00m)\n\u001b[0;32m      5\u001b[0m \u001b[38;5;66;03m# Calculate the number of days in the first quarter of 2021 (January 1 to March 31)\u001b[39;00m\n",
      "File \u001b[1;32m~\\anaconda3\\Lib\\site-packages\\statsmodels\\tsa\\holtwinters\\model.py:1547\u001b[0m, in \u001b[0;36mSimpleExpSmoothing.__init__\u001b[1;34m(self, endog, initialization_method, initial_level)\u001b[0m\n\u001b[0;32m   1541\u001b[0m \u001b[38;5;28;01mdef\u001b[39;00m \u001b[38;5;21m__init__\u001b[39m(\n\u001b[0;32m   1542\u001b[0m     \u001b[38;5;28mself\u001b[39m,\n\u001b[0;32m   1543\u001b[0m     endog,\n\u001b[0;32m   1544\u001b[0m     initialization_method\u001b[38;5;241m=\u001b[39m\u001b[38;5;28;01mNone\u001b[39;00m,  \u001b[38;5;66;03m# Future: 'estimated',\u001b[39;00m\n\u001b[0;32m   1545\u001b[0m     initial_level\u001b[38;5;241m=\u001b[39m\u001b[38;5;28;01mNone\u001b[39;00m,\n\u001b[0;32m   1546\u001b[0m ):\n\u001b[1;32m-> 1547\u001b[0m     \u001b[38;5;28msuper\u001b[39m()\u001b[38;5;241m.\u001b[39m\u001b[38;5;21m__init__\u001b[39m(\n\u001b[0;32m   1548\u001b[0m         endog,\n\u001b[0;32m   1549\u001b[0m         initialization_method\u001b[38;5;241m=\u001b[39minitialization_method,\n\u001b[0;32m   1550\u001b[0m         initial_level\u001b[38;5;241m=\u001b[39minitial_level,\n\u001b[0;32m   1551\u001b[0m     )\n",
      "File \u001b[1;32m~\\anaconda3\\Lib\\site-packages\\pandas\\util\\_decorators.py:213\u001b[0m, in \u001b[0;36mdeprecate_kwarg.<locals>._deprecate_kwarg.<locals>.wrapper\u001b[1;34m(*args, **kwargs)\u001b[0m\n\u001b[0;32m    211\u001b[0m         \u001b[38;5;28;01mraise\u001b[39;00m \u001b[38;5;167;01mTypeError\u001b[39;00m(msg)\n\u001b[0;32m    212\u001b[0m     kwargs[new_arg_name] \u001b[38;5;241m=\u001b[39m new_arg_value\n\u001b[1;32m--> 213\u001b[0m \u001b[38;5;28;01mreturn\u001b[39;00m func(\u001b[38;5;241m*\u001b[39margs, \u001b[38;5;241m*\u001b[39m\u001b[38;5;241m*\u001b[39mkwargs)\n",
      "File \u001b[1;32m~\\anaconda3\\Lib\\site-packages\\statsmodels\\tsa\\holtwinters\\model.py:227\u001b[0m, in \u001b[0;36mExponentialSmoothing.__init__\u001b[1;34m(self, endog, trend, damped_trend, seasonal, seasonal_periods, initialization_method, initial_level, initial_trend, initial_seasonal, use_boxcox, bounds, dates, freq, missing)\u001b[0m\n\u001b[0;32m    208\u001b[0m \u001b[38;5;129m@deprecate_kwarg\u001b[39m(\u001b[38;5;124m\"\u001b[39m\u001b[38;5;124mdamped\u001b[39m\u001b[38;5;124m\"\u001b[39m, \u001b[38;5;124m\"\u001b[39m\u001b[38;5;124mdamped_trend\u001b[39m\u001b[38;5;124m\"\u001b[39m)\n\u001b[0;32m    209\u001b[0m \u001b[38;5;28;01mdef\u001b[39;00m \u001b[38;5;21m__init__\u001b[39m(\n\u001b[0;32m    210\u001b[0m     \u001b[38;5;28mself\u001b[39m,\n\u001b[1;32m   (...)\u001b[0m\n\u001b[0;32m    225\u001b[0m     missing\u001b[38;5;241m=\u001b[39m\u001b[38;5;124m\"\u001b[39m\u001b[38;5;124mnone\u001b[39m\u001b[38;5;124m\"\u001b[39m,\n\u001b[0;32m    226\u001b[0m ):\n\u001b[1;32m--> 227\u001b[0m     \u001b[38;5;28msuper\u001b[39m()\u001b[38;5;241m.\u001b[39m\u001b[38;5;21m__init__\u001b[39m(endog, \u001b[38;5;28;01mNone\u001b[39;00m, dates, freq, missing\u001b[38;5;241m=\u001b[39mmissing)\n\u001b[0;32m    228\u001b[0m     \u001b[38;5;28mself\u001b[39m\u001b[38;5;241m.\u001b[39m_y \u001b[38;5;241m=\u001b[39m \u001b[38;5;28mself\u001b[39m\u001b[38;5;241m.\u001b[39m_data \u001b[38;5;241m=\u001b[39m array_like(\n\u001b[0;32m    229\u001b[0m         endog, \u001b[38;5;124m\"\u001b[39m\u001b[38;5;124mendog\u001b[39m\u001b[38;5;124m\"\u001b[39m, ndim\u001b[38;5;241m=\u001b[39m\u001b[38;5;241m1\u001b[39m, contiguous\u001b[38;5;241m=\u001b[39m\u001b[38;5;28;01mTrue\u001b[39;00m, order\u001b[38;5;241m=\u001b[39m\u001b[38;5;124m\"\u001b[39m\u001b[38;5;124mC\u001b[39m\u001b[38;5;124m\"\u001b[39m\n\u001b[0;32m    230\u001b[0m     )\n\u001b[0;32m    231\u001b[0m     options \u001b[38;5;241m=\u001b[39m (\u001b[38;5;124m\"\u001b[39m\u001b[38;5;124madd\u001b[39m\u001b[38;5;124m\"\u001b[39m, \u001b[38;5;124m\"\u001b[39m\u001b[38;5;124mmul\u001b[39m\u001b[38;5;124m\"\u001b[39m, \u001b[38;5;124m\"\u001b[39m\u001b[38;5;124madditive\u001b[39m\u001b[38;5;124m\"\u001b[39m, \u001b[38;5;124m\"\u001b[39m\u001b[38;5;124mmultiplicative\u001b[39m\u001b[38;5;124m\"\u001b[39m)\n",
      "File \u001b[1;32m~\\anaconda3\\Lib\\site-packages\\statsmodels\\tsa\\base\\tsa_model.py:470\u001b[0m, in \u001b[0;36mTimeSeriesModel.__init__\u001b[1;34m(self, endog, exog, dates, freq, missing, **kwargs)\u001b[0m\n\u001b[0;32m    467\u001b[0m \u001b[38;5;28;01mdef\u001b[39;00m \u001b[38;5;21m__init__\u001b[39m(\n\u001b[0;32m    468\u001b[0m     \u001b[38;5;28mself\u001b[39m, endog, exog\u001b[38;5;241m=\u001b[39m\u001b[38;5;28;01mNone\u001b[39;00m, dates\u001b[38;5;241m=\u001b[39m\u001b[38;5;28;01mNone\u001b[39;00m, freq\u001b[38;5;241m=\u001b[39m\u001b[38;5;28;01mNone\u001b[39;00m, missing\u001b[38;5;241m=\u001b[39m\u001b[38;5;124m\"\u001b[39m\u001b[38;5;124mnone\u001b[39m\u001b[38;5;124m\"\u001b[39m, \u001b[38;5;241m*\u001b[39m\u001b[38;5;241m*\u001b[39mkwargs\n\u001b[0;32m    469\u001b[0m ):\n\u001b[1;32m--> 470\u001b[0m     \u001b[38;5;28msuper\u001b[39m()\u001b[38;5;241m.\u001b[39m\u001b[38;5;21m__init__\u001b[39m(endog, exog, missing\u001b[38;5;241m=\u001b[39mmissing, \u001b[38;5;241m*\u001b[39m\u001b[38;5;241m*\u001b[39mkwargs)\n\u001b[0;32m    472\u001b[0m     \u001b[38;5;66;03m# Date handling in indexes\u001b[39;00m\n\u001b[0;32m    473\u001b[0m     \u001b[38;5;28mself\u001b[39m\u001b[38;5;241m.\u001b[39m_init_dates(dates, freq)\n",
      "File \u001b[1;32m~\\anaconda3\\Lib\\site-packages\\statsmodels\\base\\model.py:270\u001b[0m, in \u001b[0;36mLikelihoodModel.__init__\u001b[1;34m(self, endog, exog, **kwargs)\u001b[0m\n\u001b[0;32m    269\u001b[0m \u001b[38;5;28;01mdef\u001b[39;00m \u001b[38;5;21m__init__\u001b[39m(\u001b[38;5;28mself\u001b[39m, endog, exog\u001b[38;5;241m=\u001b[39m\u001b[38;5;28;01mNone\u001b[39;00m, \u001b[38;5;241m*\u001b[39m\u001b[38;5;241m*\u001b[39mkwargs):\n\u001b[1;32m--> 270\u001b[0m     \u001b[38;5;28msuper\u001b[39m()\u001b[38;5;241m.\u001b[39m\u001b[38;5;21m__init__\u001b[39m(endog, exog, \u001b[38;5;241m*\u001b[39m\u001b[38;5;241m*\u001b[39mkwargs)\n\u001b[0;32m    271\u001b[0m     \u001b[38;5;28mself\u001b[39m\u001b[38;5;241m.\u001b[39minitialize()\n",
      "File \u001b[1;32m~\\anaconda3\\Lib\\site-packages\\statsmodels\\base\\model.py:95\u001b[0m, in \u001b[0;36mModel.__init__\u001b[1;34m(self, endog, exog, **kwargs)\u001b[0m\n\u001b[0;32m     93\u001b[0m missing \u001b[38;5;241m=\u001b[39m kwargs\u001b[38;5;241m.\u001b[39mpop(\u001b[38;5;124m'\u001b[39m\u001b[38;5;124mmissing\u001b[39m\u001b[38;5;124m'\u001b[39m, \u001b[38;5;124m'\u001b[39m\u001b[38;5;124mnone\u001b[39m\u001b[38;5;124m'\u001b[39m)\n\u001b[0;32m     94\u001b[0m hasconst \u001b[38;5;241m=\u001b[39m kwargs\u001b[38;5;241m.\u001b[39mpop(\u001b[38;5;124m'\u001b[39m\u001b[38;5;124mhasconst\u001b[39m\u001b[38;5;124m'\u001b[39m, \u001b[38;5;28;01mNone\u001b[39;00m)\n\u001b[1;32m---> 95\u001b[0m \u001b[38;5;28mself\u001b[39m\u001b[38;5;241m.\u001b[39mdata \u001b[38;5;241m=\u001b[39m \u001b[38;5;28mself\u001b[39m\u001b[38;5;241m.\u001b[39m_handle_data(endog, exog, missing, hasconst,\n\u001b[0;32m     96\u001b[0m                               \u001b[38;5;241m*\u001b[39m\u001b[38;5;241m*\u001b[39mkwargs)\n\u001b[0;32m     97\u001b[0m \u001b[38;5;28mself\u001b[39m\u001b[38;5;241m.\u001b[39mk_constant \u001b[38;5;241m=\u001b[39m \u001b[38;5;28mself\u001b[39m\u001b[38;5;241m.\u001b[39mdata\u001b[38;5;241m.\u001b[39mk_constant\n\u001b[0;32m     98\u001b[0m \u001b[38;5;28mself\u001b[39m\u001b[38;5;241m.\u001b[39mexog \u001b[38;5;241m=\u001b[39m \u001b[38;5;28mself\u001b[39m\u001b[38;5;241m.\u001b[39mdata\u001b[38;5;241m.\u001b[39mexog\n",
      "File \u001b[1;32m~\\anaconda3\\Lib\\site-packages\\statsmodels\\base\\model.py:135\u001b[0m, in \u001b[0;36mModel._handle_data\u001b[1;34m(self, endog, exog, missing, hasconst, **kwargs)\u001b[0m\n\u001b[0;32m    134\u001b[0m \u001b[38;5;28;01mdef\u001b[39;00m \u001b[38;5;21m_handle_data\u001b[39m(\u001b[38;5;28mself\u001b[39m, endog, exog, missing, hasconst, \u001b[38;5;241m*\u001b[39m\u001b[38;5;241m*\u001b[39mkwargs):\n\u001b[1;32m--> 135\u001b[0m     data \u001b[38;5;241m=\u001b[39m handle_data(endog, exog, missing, hasconst, \u001b[38;5;241m*\u001b[39m\u001b[38;5;241m*\u001b[39mkwargs)\n\u001b[0;32m    136\u001b[0m     \u001b[38;5;66;03m# kwargs arrays could have changed, easier to just attach here\u001b[39;00m\n\u001b[0;32m    137\u001b[0m     \u001b[38;5;28;01mfor\u001b[39;00m key \u001b[38;5;129;01min\u001b[39;00m kwargs:\n",
      "File \u001b[1;32m~\\anaconda3\\Lib\\site-packages\\statsmodels\\base\\data.py:675\u001b[0m, in \u001b[0;36mhandle_data\u001b[1;34m(endog, exog, missing, hasconst, **kwargs)\u001b[0m\n\u001b[0;32m    672\u001b[0m     exog \u001b[38;5;241m=\u001b[39m np\u001b[38;5;241m.\u001b[39masarray(exog)\n\u001b[0;32m    674\u001b[0m klass \u001b[38;5;241m=\u001b[39m handle_data_class_factory(endog, exog)\n\u001b[1;32m--> 675\u001b[0m \u001b[38;5;28;01mreturn\u001b[39;00m klass(endog, exog\u001b[38;5;241m=\u001b[39mexog, missing\u001b[38;5;241m=\u001b[39mmissing, hasconst\u001b[38;5;241m=\u001b[39mhasconst,\n\u001b[0;32m    676\u001b[0m              \u001b[38;5;241m*\u001b[39m\u001b[38;5;241m*\u001b[39mkwargs)\n",
      "File \u001b[1;32m~\\anaconda3\\Lib\\site-packages\\statsmodels\\base\\data.py:84\u001b[0m, in \u001b[0;36mModelData.__init__\u001b[1;34m(self, endog, exog, missing, hasconst, **kwargs)\u001b[0m\n\u001b[0;32m     82\u001b[0m     \u001b[38;5;28mself\u001b[39m\u001b[38;5;241m.\u001b[39morig_endog \u001b[38;5;241m=\u001b[39m endog\n\u001b[0;32m     83\u001b[0m     \u001b[38;5;28mself\u001b[39m\u001b[38;5;241m.\u001b[39morig_exog \u001b[38;5;241m=\u001b[39m exog\n\u001b[1;32m---> 84\u001b[0m     \u001b[38;5;28mself\u001b[39m\u001b[38;5;241m.\u001b[39mendog, \u001b[38;5;28mself\u001b[39m\u001b[38;5;241m.\u001b[39mexog \u001b[38;5;241m=\u001b[39m \u001b[38;5;28mself\u001b[39m\u001b[38;5;241m.\u001b[39m_convert_endog_exog(endog, exog)\n\u001b[0;32m     86\u001b[0m \u001b[38;5;28mself\u001b[39m\u001b[38;5;241m.\u001b[39mconst_idx \u001b[38;5;241m=\u001b[39m \u001b[38;5;28;01mNone\u001b[39;00m\n\u001b[0;32m     87\u001b[0m \u001b[38;5;28mself\u001b[39m\u001b[38;5;241m.\u001b[39mk_constant \u001b[38;5;241m=\u001b[39m \u001b[38;5;241m0\u001b[39m\n",
      "File \u001b[1;32m~\\anaconda3\\Lib\\site-packages\\statsmodels\\base\\data.py:509\u001b[0m, in \u001b[0;36mPandasData._convert_endog_exog\u001b[1;34m(self, endog, exog)\u001b[0m\n\u001b[0;32m    507\u001b[0m exog \u001b[38;5;241m=\u001b[39m exog \u001b[38;5;28;01mif\u001b[39;00m exog \u001b[38;5;129;01mis\u001b[39;00m \u001b[38;5;28;01mNone\u001b[39;00m \u001b[38;5;28;01melse\u001b[39;00m np\u001b[38;5;241m.\u001b[39masarray(exog)\n\u001b[0;32m    508\u001b[0m \u001b[38;5;28;01mif\u001b[39;00m endog\u001b[38;5;241m.\u001b[39mdtype \u001b[38;5;241m==\u001b[39m \u001b[38;5;28mobject\u001b[39m \u001b[38;5;129;01mor\u001b[39;00m exog \u001b[38;5;129;01mis\u001b[39;00m \u001b[38;5;129;01mnot\u001b[39;00m \u001b[38;5;28;01mNone\u001b[39;00m \u001b[38;5;129;01mand\u001b[39;00m exog\u001b[38;5;241m.\u001b[39mdtype \u001b[38;5;241m==\u001b[39m \u001b[38;5;28mobject\u001b[39m:\n\u001b[1;32m--> 509\u001b[0m     \u001b[38;5;28;01mraise\u001b[39;00m \u001b[38;5;167;01mValueError\u001b[39;00m(\u001b[38;5;124m\"\u001b[39m\u001b[38;5;124mPandas data cast to numpy dtype of object. \u001b[39m\u001b[38;5;124m\"\u001b[39m\n\u001b[0;32m    510\u001b[0m                      \u001b[38;5;124m\"\u001b[39m\u001b[38;5;124mCheck input data with np.asarray(data).\u001b[39m\u001b[38;5;124m\"\u001b[39m)\n\u001b[0;32m    511\u001b[0m \u001b[38;5;28;01mreturn\u001b[39;00m \u001b[38;5;28msuper\u001b[39m()\u001b[38;5;241m.\u001b[39m_convert_endog_exog(endog, exog)\n",
      "\u001b[1;31mValueError\u001b[0m: Pandas data cast to numpy dtype of object. Check input data with np.asarray(data)."
     ]
    }
   ],
   "source": [
    "# Build and fit the Simple Exponential Smoothing model with optimized=True\n",
    "model = SimpleExpSmoothing(train_data)\n",
    "fit = model.fit(optimized=True)\n",
    "\n",
    "# Calculate the number of days in the first quarter of 2021 (January 1 to March 31)\n",
    "forecast_period = pd.date_range(start='2021-01-01', end='2021-03-31', freq='B')  # 'B' for business days\n",
    "forecast_steps = len(forecast_period)\n",
    "\n",
    "# Forecast for the first quarter of 2021\n",
    "forecast = fit.forecast(steps=forecast_steps)\n",
    "forecast.index = forecast_period\n",
    "\n",
    "# Plot the results\n",
    "plt.figure(figsize=(10, 6))\n",
    "plt.plot(data['Close'], label='Observed')"
   ]
  },
  {
   "cell_type": "code",
   "execution_count": null,
   "id": "c602630b-9740-4331-aabb-3c2a8c86e0fc",
   "metadata": {},
   "outputs": [],
   "source": [
    "def lineplot2 (x, y, hue, data_, title_):\n",
    "    sns.set(rc={'figure.figsize': (15, 8)})\n",
    "    sns.set(font_scale=1.5)\n",
    "    sns.set_style('darkgrid')\n",
    "    chart = sns.lineplot(x=x, y=y, hue=hue, data=data_)\n",
    "    chart.set(title=title_)\n",
    "    plt.show()"
   ]
  },
  {
   "cell_type": "markdown",
   "id": "3fa192cc-b556-4faf-81e2-1513bfc2288e",
   "metadata": {},
   "source": [
    "# Merge test_data with forecast_df on 'Date'\n",
    "merged_data = pd.merge(test_data, forecast_df, on='Date', how='outer')\n",
    "merged_data.head()"
   ]
  },
  {
   "cell_type": "code",
   "execution_count": null,
   "id": "b63f7384-3971-4a0b-aa6b-7f8e6c0e6dda",
   "metadata": {},
   "outputs": [],
   "source": [
    "# Melt the data for easier plotting with Seaborn\n",
    "melted_data = pd.melt(merged_data, id_vars=['Date'], value_vars=['Price', 'Forecast'], \n",
    "                      var_name='Type', value_name='Value')"
   ]
  },
  {
   "cell_type": "code",
   "execution_count": null,
   "id": "1754c25e-1800-4aff-ba45-06cb6c8f050b",
   "metadata": {},
   "outputs": [],
   "source": [
    "lineplot2(x='Date', y='Value', hue='Type', data_=melted_data, title_='Stock Price Forecast vs Actual for Q1 2021')"
   ]
  },
  {
   "cell_type": "markdown",
   "id": "b0a52c2f-7480-4a00-a1e1-01fcf5e86969",
   "metadata": {},
   "source": [
    "### correct"
   ]
  },
  {
   "cell_type": "code",
   "execution_count": null,
   "id": "a3df7b4c-d6b2-4bea-91be-72ddfc622e15",
   "metadata": {},
   "outputs": [],
   "source": [
    "# Fit the model using the 'Price' column\n",
    "model = ExponentialSmoothing(data['Price'], trend='additive', seasonal=None)\n",
    "fit = model.fit()\n",
    "\n",
    "# Forecast for the first quarter of 2021\n",
    "forecast = fit.forecast(steps=90)  # Assuming 90 days in the first quarter\n",
    "\n",
    "# Combine the forecast with the dates for the forecast period\n",
    "forecast_dates = pd.date_range(start=data['Date'].iloc[-1] + pd.Timedelta(days=1), periods=90, freq='B')\n",
    "forecast_df = pd.DataFrame({'Date': forecast_dates, 'Forecast': forecast})\n",
    "\n",
    "# Print or plot the forecast\n",
    "print(forecast_df)\n",
    "forecast_df.plot(x='Date', y='Forecast', title='Stock Price Forecast')"
   ]
  },
  {
   "cell_type": "code",
   "execution_count": null,
   "id": "3301ed53-b8bc-45d2-a6b2-2e129bc89aef",
   "metadata": {},
   "outputs": [],
   "source": [
    "# Merge test_data with forecast_df on 'Date'\n",
    "merged_data = pd.merge(test_data, forecast_df, on='Date', how='outer')\n",
    "merged_data.head()\n",
    "\n",
    "# Melt the data for easier plotting with Seaborn\n",
    "melted_data = pd.melt(merged_data, id_vars=['Date'], value_vars=['Price', 'Forecast'], \n",
    "                      var_name='Type', value_name='Value')"
   ]
  },
  {
   "cell_type": "code",
   "execution_count": null,
   "id": "4addb6b1-3c13-4497-91ae-abe49606a665",
   "metadata": {},
   "outputs": [],
   "source": [
    "def lineplot2 (x, y, hue, data_, title_):\n",
    "    sns.set(rc={'figure.figsize': (15, 8)})\n",
    "    sns.set(font_scale=1.5)\n",
    "    sns.set_style('darkgrid')\n",
    "    chart = sns.lineplot(x=x, y=y, hue=hue, data=data_)\n",
    "    chart.set(title=title_)\n",
    "    plt.show()"
   ]
  },
  {
   "cell_type": "code",
   "execution_count": null,
   "id": "03d6b80e-1a94-4c7d-9528-047ed356790c",
   "metadata": {},
   "outputs": [],
   "source": [
    "lineplot2(x='Date', y='Value', hue='Type', data_=melted_data, title_='Stock Price Forecast vs Actual for Q1 2021')\n"
   ]
  },
  {
   "cell_type": "code",
   "execution_count": null,
   "id": "d85eeaa1-e5ab-4d0c-a815-df96cdc2bb1f",
   "metadata": {},
   "outputs": [],
   "source": [
    "import pandas as pd\n",
    "import matplotlib.pyplot as plt\n",
    "from statsmodels.tsa.holtwinters import SimpleExpSmoothing\n",
    "\n",
    "# Load stock price data\n",
    "# Example CSV should have columns: 'Date', 'Close'\n",
    "data = pd.read_csv('stock_prices.csv', index_col='Date', parse_dates=True)\n",
    "\n",
    "# Split data into training and test sets\n",
    "# train_data = data['Close'][:-30]  # Use all data except the last 30 days for training\n",
    "# test_data = data['Close'][-30:]   # Use the last 30 days for testing\n",
    "\n",
    "# Build and fit the Simple Exponential Smoothing model\n",
    "model = SimpleExpSmoothing(train_data)\n",
    "fit = model.fit(smoothing_level=0.5, optimized=False)\n",
    "\n",
    "# Forecast for the next 30 periods\n",
    "forecast = fit.forecast(steps=30)"
   ]
  },
  {
   "cell_type": "code",
   "execution_count": null,
   "id": "9be9aa1f-6951-41ba-a7f2-d9d3bcacc10c",
   "metadata": {},
   "outputs": [],
   "source": []
  }
 ],
 "metadata": {
  "kernelspec": {
   "display_name": "Python 3 (ipykernel)",
   "language": "python",
   "name": "python3"
  },
  "language_info": {
   "codemirror_mode": {
    "name": "ipython",
    "version": 3
   },
   "file_extension": ".py",
   "mimetype": "text/x-python",
   "name": "python",
   "nbconvert_exporter": "python",
   "pygments_lexer": "ipython3",
   "version": "3.12.4"
  }
 },
 "nbformat": 4,
 "nbformat_minor": 5
}
