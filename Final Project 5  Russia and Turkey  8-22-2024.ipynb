{
 "cells": [
  {
   "cell_type": "markdown",
   "id": "d1618913-7d14-44d7-ad07-35ab062fb520",
   "metadata": {},
   "source": [
    "# **Russia Models**"
   ]
  },
  {
   "cell_type": "code",
   "execution_count": 2,
   "id": "be54e757-bc54-4c2a-a96d-8528346417f4",
   "metadata": {},
   "outputs": [],
   "source": [
    "import pandas as pd\n",
    "import numpy as np\n",
    "import matplotlib.pyplot as plt\n",
    "import seaborn as sns\n",
    "%matplotlib inline\n",
    "import pandas as pd\n",
    "from statsmodels.tsa.holtwinters import ExponentialSmoothing\n",
    "from prophet import Prophet\n",
    "from prophet.plot import add_changepoints_to_plot\n",
    "from pmdarima.arima import auto_arima\n",
    "from sklearn.preprocessing import MinMaxScaler\n",
    "from tensorflow.keras.models import Sequential\n",
    "from tensorflow.keras.layers import LSTM, Dense, Dropout"
   ]
  },
  {
   "cell_type": "code",
   "execution_count": 3,
   "id": "735e7c57-4a56-4e64-9d20-5e5404eee358",
   "metadata": {},
   "outputs": [],
   "source": [
    "data = pd.read_csv(r'C:\\Users\\dgarb\\OneDrive\\Documents\\APZIVA\\Project 5\\stock_price_data.csv')"
   ]
  },
  {
   "cell_type": "code",
   "execution_count": 4,
   "id": "51a0ab38-063d-43f6-b60e-63eea2fc28db",
   "metadata": {},
   "outputs": [],
   "source": [
    "def calculate_mape(actual=None, forecast= None):\n",
    "    actual = np.array(actual)\n",
    "    forecast = np.array(forecast)\n",
    "    return np.mean(np.abs((actual - forecast) / actual)) * 100\n",
    "\n",
    "# calculate_mape(actual= merged_data.y, forecast= merged_data.yhat)"
   ]
  },
  {
   "cell_type": "code",
   "execution_count": 5,
   "id": "876380ae-1105-4c83-b54a-c33260d76bc0",
   "metadata": {},
   "outputs": [],
   "source": [
    "def bollinger_bands(dataframe=None, forecast=None):\n",
    "    # Create a copy of the dataframe to avoid modifying the original one\n",
    "    dataframe = dataframe.copy()\n",
    "\n",
    "    # Calculate the 20-period Simple Moving Average (SMA)\n",
    "    dataframe['SMA'] = dataframe[forecast].rolling(window=20).mean()\n",
    "    \n",
    "    # Calculate the 20-period Standard Deviation (SD)\n",
    "    dataframe['SD'] = dataframe[forecast].rolling(window=20).std()\n",
    "    \n",
    "    # Calculate the Upper Bollinger Band (UB) and Lower Bollinger Band (LB)\n",
    "    dataframe['UB'] = dataframe['SMA'] + 2 * dataframe['SD']\n",
    "    dataframe['LB'] = dataframe['SMA'] - 2 * dataframe['SD']\n",
    "\n",
    "    print(dataframe.tail())\n",
    "    return dataframe\n"
   ]
  },
  {
   "cell_type": "code",
   "execution_count": 6,
   "id": "247f46e4-42c3-43b9-9b11-3e3dc93d3e41",
   "metadata": {},
   "outputs": [],
   "source": [
    "def plot_bollinger_bands (dataframe = None,mdl_type = None, savefig = 'figure.png'):\n",
    "    \n",
    "    plt.figure(figsize=(15,8))\n",
    "    \n",
    "    # Plot y values\n",
    "    plt.plot(dataframe['Date'], dataframe['Price'], label='Price', color='blue')\n",
    "    \n",
    "    # Plot Upper Bollinger Band (UB)\n",
    "    plt.plot(dataframe['Date'], dataframe['UB'], label='Upper Bollinger Band (UB)', color='green', linestyle='--')\n",
    "    \n",
    "    # Plot Lower Bollinger Band (LB)\n",
    "    plt.plot(dataframe['Date'], dataframe['LB'], label='Lower Bollinger Band (LB)', color='red', linestyle='--')\n",
    "    \n",
    "    # Add labels and title\n",
    "    plt.xlabel('Date')\n",
    "    plt.ylabel('Price')\n",
    "    plt.title(mdl_type + ':  '   +'Price, Upper Bollinger Band (UB) and Lower Bollinger Band (LB)')\n",
    "    \n",
    "    # Add legend\n",
    "    plt.legend()\n",
    "\n",
    "    # save graph\n",
    "    plt.savefig(savefig)\n",
    "    \n",
    "    # Show plot\n",
    "    plt.show()\n"
   ]
  },
  {
   "cell_type": "code",
   "execution_count": 7,
   "id": "b24892bf-3645-4b0e-a4a1-685570ab709e",
   "metadata": {},
   "outputs": [
    {
     "data": {
      "text/html": [
       "<div>\n",
       "<style scoped>\n",
       "    .dataframe tbody tr th:only-of-type {\n",
       "        vertical-align: middle;\n",
       "    }\n",
       "\n",
       "    .dataframe tbody tr th {\n",
       "        vertical-align: top;\n",
       "    }\n",
       "\n",
       "    .dataframe thead th {\n",
       "        text-align: right;\n",
       "    }\n",
       "</style>\n",
       "<table border=\"1\" class=\"dataframe\">\n",
       "  <thead>\n",
       "    <tr style=\"text-align: right;\">\n",
       "      <th></th>\n",
       "      <th>Date</th>\n",
       "      <th>Price</th>\n",
       "      <th>Open</th>\n",
       "      <th>High</th>\n",
       "      <th>Low</th>\n",
       "      <th>Vol.</th>\n",
       "      <th>Change %</th>\n",
       "    </tr>\n",
       "  </thead>\n",
       "  <tbody>\n",
       "    <tr>\n",
       "      <th>0</th>\n",
       "      <td>31-Mar-21</td>\n",
       "      <td>291.02</td>\n",
       "      <td>294.00</td>\n",
       "      <td>294.42</td>\n",
       "      <td>290.26</td>\n",
       "      <td>47.00M</td>\n",
       "      <td>-0.76%</td>\n",
       "    </tr>\n",
       "    <tr>\n",
       "      <th>1</th>\n",
       "      <td>30-Mar-21</td>\n",
       "      <td>293.25</td>\n",
       "      <td>294.86</td>\n",
       "      <td>295.72</td>\n",
       "      <td>291.50</td>\n",
       "      <td>38.81M</td>\n",
       "      <td>-0.02%</td>\n",
       "    </tr>\n",
       "    <tr>\n",
       "      <th>2</th>\n",
       "      <td>29-Mar-21</td>\n",
       "      <td>293.30</td>\n",
       "      <td>289.72</td>\n",
       "      <td>294.09</td>\n",
       "      <td>289.26</td>\n",
       "      <td>43.68M</td>\n",
       "      <td>0.71%</td>\n",
       "    </tr>\n",
       "    <tr>\n",
       "      <th>3</th>\n",
       "      <td>26-Mar-21</td>\n",
       "      <td>291.22</td>\n",
       "      <td>288.63</td>\n",
       "      <td>292.75</td>\n",
       "      <td>288.32</td>\n",
       "      <td>56.07M</td>\n",
       "      <td>1.59%</td>\n",
       "    </tr>\n",
       "    <tr>\n",
       "      <th>4</th>\n",
       "      <td>25-Mar-21</td>\n",
       "      <td>286.66</td>\n",
       "      <td>286.50</td>\n",
       "      <td>287.03</td>\n",
       "      <td>283.85</td>\n",
       "      <td>35.22M</td>\n",
       "      <td>0.30%</td>\n",
       "    </tr>\n",
       "  </tbody>\n",
       "</table>\n",
       "</div>"
      ],
      "text/plain": [
       "        Date   Price    Open    High     Low    Vol. Change %\n",
       "0  31-Mar-21  291.02  294.00  294.42  290.26  47.00M   -0.76%\n",
       "1  30-Mar-21  293.25  294.86  295.72  291.50  38.81M   -0.02%\n",
       "2  29-Mar-21  293.30  289.72  294.09  289.26  43.68M    0.71%\n",
       "3  26-Mar-21  291.22  288.63  292.75  288.32  56.07M    1.59%\n",
       "4  25-Mar-21  286.66  286.50  287.03  283.85  35.22M    0.30%"
      ]
     },
     "execution_count": 7,
     "metadata": {},
     "output_type": "execute_result"
    }
   ],
   "source": [
    "data.head()"
   ]
  },
  {
   "cell_type": "code",
   "execution_count": 8,
   "id": "7aaf55f3-a654-49e9-af5d-dc7967c0a0b9",
   "metadata": {},
   "outputs": [
    {
     "name": "stdout",
     "output_type": "stream",
     "text": [
      "<class 'pandas.core.frame.DataFrame'>\n",
      "RangeIndex: 311 entries, 0 to 310\n",
      "Data columns (total 7 columns):\n",
      " #   Column    Non-Null Count  Dtype  \n",
      "---  ------    --------------  -----  \n",
      " 0   Date      311 non-null    object \n",
      " 1   Price     311 non-null    float64\n",
      " 2   Open      311 non-null    float64\n",
      " 3   High      311 non-null    float64\n",
      " 4   Low       311 non-null    float64\n",
      " 5   Vol.      311 non-null    object \n",
      " 6   Change %  311 non-null    object \n",
      "dtypes: float64(4), object(3)\n",
      "memory usage: 17.1+ KB\n"
     ]
    }
   ],
   "source": [
    "data.info()"
   ]
  },
  {
   "cell_type": "code",
   "execution_count": 9,
   "id": "287e450b-0424-4f63-b9bd-2e38685142c5",
   "metadata": {},
   "outputs": [],
   "source": [
    "# change 'Date' to a datetime object\n",
    "data['Date'] = pd.to_datetime(data['Date'], format='%d-%b-%y')"
   ]
  },
  {
   "cell_type": "code",
   "execution_count": 10,
   "id": "0a11f34c-3190-4548-8054-85a5da3d1ea7",
   "metadata": {},
   "outputs": [
    {
     "data": {
      "text/plain": [
       "Date        datetime64[ns]\n",
       "Price              float64\n",
       "Open               float64\n",
       "High               float64\n",
       "Low                float64\n",
       "Vol.                object\n",
       "Change %            object\n",
       "dtype: object"
      ]
     },
     "execution_count": 10,
     "metadata": {},
     "output_type": "execute_result"
    }
   ],
   "source": [
    "data.dtypes"
   ]
  },
  {
   "cell_type": "code",
   "execution_count": 11,
   "id": "273262f7-291c-4192-be7c-90fc825b59e1",
   "metadata": {},
   "outputs": [],
   "source": [
    "# sort data by Date\n",
    "\n",
    "data = data.sort_values(by='Date')"
   ]
  },
  {
   "cell_type": "code",
   "execution_count": 12,
   "id": "6298c539-4d3f-4254-aff8-cd3ecc968fb7",
   "metadata": {},
   "outputs": [
    {
     "name": "stdout",
     "output_type": "stream",
     "text": [
      "          Date   Price\n",
      "310 2020-01-03  255.00\n",
      "309 2020-01-06  253.90\n",
      "308 2020-01-08  259.15\n",
      "307 2020-01-09  257.99\n",
      "306 2020-01-10  258.19\n",
      "        Date   Price\n",
      "4 2021-03-25  286.66\n",
      "3 2021-03-26  291.22\n",
      "2 2021-03-29  293.30\n",
      "1 2021-03-30  293.25\n",
      "0 2021-03-31  291.02\n"
     ]
    }
   ],
   "source": [
    "# keep columnns\n",
    "data = data[['Date', 'Price' ]]\n",
    "print(data.head())\n",
    "print(data.tail())"
   ]
  },
  {
   "cell_type": "code",
   "execution_count": 13,
   "id": "b1258c2f-5606-416f-a2d8-ae29ebddc373",
   "metadata": {},
   "outputs": [
    {
     "name": "stdout",
     "output_type": "stream",
     "text": [
      "2020-01-03 00:00:00\n",
      "2020-12-30 00:00:00\n"
     ]
    }
   ],
   "source": [
    "# **create train_data**\n",
    "train_data = data[data.Date <= '2020-12-31']\n",
    "\n",
    "print(train_data.Date.min())\n",
    "print(train_data.Date.max())"
   ]
  },
  {
   "cell_type": "code",
   "execution_count": 14,
   "id": "c4145bd8-395c-408d-9663-b69c19bca415",
   "metadata": {},
   "outputs": [
    {
     "name": "stdout",
     "output_type": "stream",
     "text": [
      "min 2021-01-04 00:00:00\n",
      "max   Date     2021-03-31 00:00:00\n",
      "Price                  293.3\n",
      "dtype: object\n"
     ]
    }
   ],
   "source": [
    "# **create test_data**\n",
    "test_data =data[data.Date > '2020-12-31']\n",
    "\n",
    "print('min',test_data.Date.min())\n",
    "print('max  ',test_data.max())"
   ]
  },
  {
   "cell_type": "code",
   "execution_count": 15,
   "id": "0b82f0fd-31eb-4fb3-ba8e-6a09c773f101",
   "metadata": {},
   "outputs": [],
   "source": [
    "def lineplot(x,y,data_,title_):\n",
    "    sns.set(rc = {'figure.figsize':(15,8)})\n",
    "    # Bigger than normal fonts\n",
    "    sns.set(font_scale=1.5)\n",
    "    sns.set_style('darkgrid')\n",
    "    chart = sns.lineplot(x = x, y = y, data = data_)\n",
    "    chart.set(title=title_)\n",
    "    plt.show()"
   ]
  },
  {
   "cell_type": "code",
   "execution_count": 16,
   "id": "816f29fc-8f00-460c-9027-571af1c630a1",
   "metadata": {},
   "outputs": [
    {
     "data": {
      "image/png": "[encoded data removed]",
      "text/plain": [
       "<Figure size 1500x800 with 1 Axes>"
      ]
     },
     "metadata": {},
     "output_type": "display_data"
    }
   ],
   "source": [
    "lineplot(x='Date',y='Price',data_=data,title_='Russia Stock Price Over Time')"
   ]
  },
  {
   "cell_type": "markdown",
   "id": "ed7959d3-06fe-46f3-abca-647dfba3c1fd",
   "metadata": {},
   "source": [
    "# **Russia: Moving Average**\n",
    "\n",
    "Calculate the 30-day moving average using the training data"
   ]
  },
  {
   "cell_type": "code",
   "execution_count": 18,
   "id": "d6b09593-56df-4788-b646-dac3d3792e36",
   "metadata": {},
   "outputs": [
    {
     "name": "stdout",
     "output_type": "stream",
     "text": [
      "        Date  Forecast\n",
      "0 2021-01-01       NaN\n",
      "1 2021-01-04       NaN\n",
      "2 2021-01-05       NaN\n",
      "3 2021-01-06       NaN\n",
      "4 2021-01-07       NaN\n",
      "        Date    Forecast\n",
      "0 2021-01-01  265.284333\n",
      "1 2021-01-04  266.118144\n",
      "2 2021-01-05  267.008083\n",
      "3 2021-01-06  267.918352\n",
      "4 2021-01-07  268.604630\n"
     ]
    },
    {
     "name": "stderr",
     "output_type": "stream",
     "text": [
      "C:\\Users\\dgarb\\AppData\\Local\\Temp\\ipykernel_7748\\3121611826.py:5: SettingWithCopyWarning: \n",
      "A value is trying to be set on a copy of a slice from a DataFrame.\n",
      "Try using .loc[row_indexer,col_indexer] = value instead\n",
      "\n",
      "See the caveats in the documentation: https://pandas.pydata.org/pandas-docs/stable/user_guide/indexing.html#returning-a-view-versus-a-copy\n",
      "  train_data['30_day_MA'] = train_data['Price'].rolling(window=window_size).mean()\n"
     ]
    }
   ],
   "source": [
    "# Calculate the 30-day moving average using the training data\n",
    "\n",
    "# Note: window size is the number of days you go back to calculate\n",
    "window_size = 30\n",
    "train_data['30_day_MA'] = train_data['Price'].rolling(window=window_size).mean()\n",
    "\n",
    "# Define the forecast period (Q1 2021)\n",
    "forecast_period =pd.bdate_range(start='2021-01-01', end='2021-03-31')\n",
    "\n",
    "# Initialize a DataFrame to store the forecasted values\n",
    "forecast_df = pd.DataFrame({'Date': forecast_period, 'Forecast': np.nan})\n",
    "\n",
    "print(forecast_df.head())\n",
    "\n",
    "# Use the last available 'window_size' days from the training data to start the forecast # last_window_data\n",
    "last_window_data = train_data['Price'].iloc[-window_size:].values #generates Numpy array\n",
    "\n",
    "# Extend the forecast using the moving average logic\n",
    "for i, date in enumerate(forecast_period):\n",
    "    forecast_value = np.mean(last_window_data)\n",
    "    forecast_df.at[i, 'Forecast'] = forecast_value\n",
    "    # Update the window data by appending the forecast value and removing the oldest value\n",
    "    last_window_data = np.append(last_window_data[1:], forecast_value)\n",
    "\n",
    "print(forecast_df.head())"
   ]
  },
  {
   "cell_type": "code",
   "execution_count": 19,
   "id": "38d27cf1-4dd9-4198-bc44-86df2a679dc0",
   "metadata": {},
   "outputs": [
    {
     "data": {
      "text/html": [
       "<div>\n",
       "<style scoped>\n",
       "    .dataframe tbody tr th:only-of-type {\n",
       "        vertical-align: middle;\n",
       "    }\n",
       "\n",
       "    .dataframe tbody tr th {\n",
       "        vertical-align: top;\n",
       "    }\n",
       "\n",
       "    .dataframe thead th {\n",
       "        text-align: right;\n",
       "    }\n",
       "</style>\n",
       "<table border=\"1\" class=\"dataframe\">\n",
       "  <thead>\n",
       "    <tr style=\"text-align: right;\">\n",
       "      <th></th>\n",
       "      <th>Date</th>\n",
       "      <th>Price</th>\n",
       "      <th>Forecast</th>\n",
       "    </tr>\n",
       "  </thead>\n",
       "  <tbody>\n",
       "    <tr>\n",
       "      <th>0</th>\n",
       "      <td>2021-01-04</td>\n",
       "      <td>272.00</td>\n",
       "      <td>266.118144</td>\n",
       "    </tr>\n",
       "    <tr>\n",
       "      <th>1</th>\n",
       "      <td>2021-01-05</td>\n",
       "      <td>275.20</td>\n",
       "      <td>267.008083</td>\n",
       "    </tr>\n",
       "    <tr>\n",
       "      <th>2</th>\n",
       "      <td>2021-01-06</td>\n",
       "      <td>272.93</td>\n",
       "      <td>267.918352</td>\n",
       "    </tr>\n",
       "    <tr>\n",
       "      <th>3</th>\n",
       "      <td>2021-01-08</td>\n",
       "      <td>283.64</td>\n",
       "      <td>269.161118</td>\n",
       "    </tr>\n",
       "    <tr>\n",
       "      <th>4</th>\n",
       "      <td>2021-01-11</td>\n",
       "      <td>289.49</td>\n",
       "      <td>269.796489</td>\n",
       "    </tr>\n",
       "  </tbody>\n",
       "</table>\n",
       "</div>"
      ],
      "text/plain": [
       "        Date   Price    Forecast\n",
       "0 2021-01-04  272.00  266.118144\n",
       "1 2021-01-05  275.20  267.008083\n",
       "2 2021-01-06  272.93  267.918352\n",
       "3 2021-01-08  283.64  269.161118\n",
       "4 2021-01-11  289.49  269.796489"
      ]
     },
     "execution_count": 19,
     "metadata": {},
     "output_type": "execute_result"
    }
   ],
   "source": [
    "# Merge test_data with forecast_df on 'Date'\n",
    "merged_data = pd.merge(test_data, forecast_df, on='Date', how='inner')\n",
    "merged_data.head()"
   ]
  },
  {
   "cell_type": "markdown",
   "id": "8f9e6e9a-72b6-49e7-b3e6-25936e102ef5",
   "metadata": {},
   "source": [
    "**Moving Average MAPE Score**"
   ]
  },
  {
   "cell_type": "code",
   "execution_count": 21,
   "id": "e3d0fbe3-9c2d-48ba-97e5-e9c8d3854de5",
   "metadata": {},
   "outputs": [
    {
     "name": "stdout",
     "output_type": "stream",
     "text": [
      "Moving Average MAPE Score\n"
     ]
    },
    {
     "data": {
      "text/plain": [
       "3.1272017339574236"
      ]
     },
     "execution_count": 21,
     "metadata": {},
     "output_type": "execute_result"
    }
   ],
   "source": [
    "print('Moving Average MAPE Score')\n",
    "\n",
    "calculate_mape(merged_data.Price, merged_data.Forecast)"
   ]
  },
  {
   "cell_type": "code",
   "execution_count": 22,
   "id": "63b52cff-037d-4859-aa29-7037e29530f7",
   "metadata": {},
   "outputs": [],
   "source": [
    "russia_dict = dict()\n",
    "russia_dict['Moving Average MAPE Score'] = 3.1272017339574236"
   ]
  },
  {
   "cell_type": "markdown",
   "id": "23a94d4c-52e2-49af-af93-1a7128f0abfe",
   "metadata": {},
   "source": [
    "# **Russia: Exponential Smoothing**"
   ]
  },
  {
   "cell_type": "code",
   "execution_count": 24,
   "id": "33b07f4b-f2aa-4012-9411-85ae8940a5bd",
   "metadata": {},
   "outputs": [
    {
     "name": "stdout",
     "output_type": "stream",
     "text": [
      "          Date    Forecast\n",
      "250 2021-01-01  271.716867\n",
      "251 2021-01-04  271.783734\n",
      "252 2021-01-05  271.850602\n",
      "253 2021-01-06  271.917469\n",
      "254 2021-01-07  271.984336\n",
      "..         ...         ...\n",
      "309 2021-03-25  275.662033\n",
      "310 2021-03-26  275.728900\n",
      "311 2021-03-29  275.795767\n",
      "312 2021-03-30  275.862635\n",
      "313 2021-03-31  275.929502\n",
      "\n",
      "[64 rows x 2 columns]\n"
     ]
    },
    {
     "name": "stderr",
     "output_type": "stream",
     "text": [
      "C:\\Users\\dgarb\\anaconda3\\Lib\\site-packages\\statsmodels\\tsa\\base\\tsa_model.py:473: ValueWarning: An unsupported index was provided and will be ignored when e.g. forecasting.\n",
      "  self._init_dates(dates, freq)\n",
      "C:\\Users\\dgarb\\anaconda3\\Lib\\site-packages\\statsmodels\\tsa\\base\\tsa_model.py:836: ValueWarning: No supported index is available. Prediction results will be given with an integer index beginning at `start`.\n",
      "  return get_prediction_index(\n",
      "C:\\Users\\dgarb\\anaconda3\\Lib\\site-packages\\statsmodels\\tsa\\base\\tsa_model.py:836: FutureWarning: No supported index is available. In the next version, calling this method in a model without a supported index will result in an exception.\n",
      "  return get_prediction_index(\n"
     ]
    }
   ],
   "source": [
    "import pandas as pd\n",
    "from statsmodels.tsa.holtwinters import ExponentialSmoothing\n",
    "\n",
    "# Assuming data is already loaded in a DataFrame named 'data'\n",
    "# Fit the model using the 'Price' column\n",
    "model = ExponentialSmoothing(train_data['Price'], trend='additive', seasonal=None)\n",
    "fit = model.fit()\n",
    "\n",
    "# Generate business days for the first quarter of 2021\n",
    "forecast_dates = pd.date_range(start='2021-01-01', end='2021-03-31', freq='B')\n",
    "steps = len(forecast_dates)\n",
    "\n",
    "# Forecast for the first quarter of 2021\n",
    "forecast = fit.forecast(steps=steps)\n",
    "\n",
    "# Combine the forecast with the dates for the forecast period\n",
    "forecast_df = pd.DataFrame({'Date': forecast_dates, 'Forecast': forecast})\n",
    "\n",
    "# Print or plot the forecast\n",
    "print(forecast_df)\n"
   ]
  },
  {
   "cell_type": "code",
   "execution_count": 25,
   "id": "49a4075f-2f88-4326-b684-66c62530f444",
   "metadata": {},
   "outputs": [
    {
     "data": {
      "text/html": [
       "<div>\n",
       "<style scoped>\n",
       "    .dataframe tbody tr th:only-of-type {\n",
       "        vertical-align: middle;\n",
       "    }\n",
       "\n",
       "    .dataframe tbody tr th {\n",
       "        vertical-align: top;\n",
       "    }\n",
       "\n",
       "    .dataframe thead th {\n",
       "        text-align: right;\n",
       "    }\n",
       "</style>\n",
       "<table border=\"1\" class=\"dataframe\">\n",
       "  <thead>\n",
       "    <tr style=\"text-align: right;\">\n",
       "      <th></th>\n",
       "      <th>Date</th>\n",
       "      <th>Price</th>\n",
       "      <th>Forecast</th>\n",
       "    </tr>\n",
       "  </thead>\n",
       "  <tbody>\n",
       "    <tr>\n",
       "      <th>0</th>\n",
       "      <td>2021-01-04</td>\n",
       "      <td>272.00</td>\n",
       "      <td>271.783734</td>\n",
       "    </tr>\n",
       "    <tr>\n",
       "      <th>1</th>\n",
       "      <td>2021-01-05</td>\n",
       "      <td>275.20</td>\n",
       "      <td>271.850602</td>\n",
       "    </tr>\n",
       "    <tr>\n",
       "      <th>2</th>\n",
       "      <td>2021-01-06</td>\n",
       "      <td>272.93</td>\n",
       "      <td>271.917469</td>\n",
       "    </tr>\n",
       "    <tr>\n",
       "      <th>3</th>\n",
       "      <td>2021-01-08</td>\n",
       "      <td>283.64</td>\n",
       "      <td>272.051203</td>\n",
       "    </tr>\n",
       "    <tr>\n",
       "      <th>4</th>\n",
       "      <td>2021-01-11</td>\n",
       "      <td>289.49</td>\n",
       "      <td>272.118071</td>\n",
       "    </tr>\n",
       "  </tbody>\n",
       "</table>\n",
       "</div>"
      ],
      "text/plain": [
       "        Date   Price    Forecast\n",
       "0 2021-01-04  272.00  271.783734\n",
       "1 2021-01-05  275.20  271.850602\n",
       "2 2021-01-06  272.93  271.917469\n",
       "3 2021-01-08  283.64  272.051203\n",
       "4 2021-01-11  289.49  272.118071"
      ]
     },
     "execution_count": 25,
     "metadata": {},
     "output_type": "execute_result"
    }
   ],
   "source": [
    "merged_data_exp = pd.merge(test_data, forecast_df, on='Date', how='inner')\n",
    "merged_data_exp.head()"
   ]
  },
  {
   "cell_type": "code",
   "execution_count": 26,
   "id": "d8d88d28-ee11-4f50-b904-f1e3ce99b09d",
   "metadata": {},
   "outputs": [
    {
     "data": {
      "text/plain": [
       "Index(['Date', 'Price', 'Forecast'], dtype='object')"
      ]
     },
     "execution_count": 26,
     "metadata": {},
     "output_type": "execute_result"
    }
   ],
   "source": [
    "merged_data_exp.columns"
   ]
  },
  {
   "cell_type": "code",
   "execution_count": 27,
   "id": "2f276eb9-c267-4323-88f8-a061d946d09a",
   "metadata": {},
   "outputs": [
    {
     "name": "stdout",
     "output_type": "stream",
     "text": [
      "Exponential Smoothing MAPE Score\n"
     ]
    },
    {
     "data": {
      "text/plain": [
       "2.7030349698597034"
      ]
     },
     "execution_count": 27,
     "metadata": {},
     "output_type": "execute_result"
    }
   ],
   "source": [
    "print('Exponential Smoothing MAPE Score')\n",
    "calculate_mape(merged_data_exp.Price, merged_data_exp.Forecast)"
   ]
  },
  {
   "cell_type": "code",
   "execution_count": 28,
   "id": "f11ac59b-0090-414b-bd88-27e3d5b597fc",
   "metadata": {},
   "outputs": [],
   "source": [
    "russia_dict['Exponential Smoothing MAPE Score'] = 2.7030349698597034"
   ]
  },
  {
   "cell_type": "markdown",
   "id": "f2aca28e-f3e4-49ad-b175-c5f5a7112df2",
   "metadata": {},
   "source": [
    "# **Russia: ARIMA**"
   ]
  },
  {
   "cell_type": "code",
   "execution_count": 30,
   "id": "844780c8-f03e-4023-86de-dfe67f031154",
   "metadata": {},
   "outputs": [
    {
     "name": "stdout",
     "output_type": "stream",
     "text": [
      "Performing stepwise search to minimize aic\n",
      " ARIMA(2,1,1)(0,0,0)[0] intercept   : AIC=1504.526, Time=0.17 sec\n",
      " ARIMA(0,1,0)(0,0,0)[0] intercept   : AIC=1499.638, Time=0.02 sec\n",
      " ARIMA(1,1,0)(0,0,0)[0] intercept   : AIC=1501.228, Time=0.05 sec\n",
      " ARIMA(0,1,1)(0,0,0)[0] intercept   : AIC=1501.180, Time=0.04 sec\n",
      " ARIMA(0,1,0)(0,0,0)[0]             : AIC=1497.685, Time=0.01 sec\n",
      " ARIMA(1,1,1)(0,0,0)[0] intercept   : AIC=1502.372, Time=0.10 sec\n",
      "\n",
      "Best model:  ARIMA(0,1,0)(0,0,0)[0]          \n",
      "Total fit time: 0.409 seconds\n",
      "                               SARIMAX Results                                \n",
      "==============================================================================\n",
      "Dep. Variable:                      y   No. Observations:                  250\n",
      "Model:               SARIMAX(0, 1, 0)   Log Likelihood                -747.842\n",
      "Date:                Thu, 22 Aug 2024   AIC                           1497.685\n",
      "Time:                        16:45:29   BIC                           1501.202\n",
      "Sample:                             0   HQIC                          1499.101\n",
      "                                - 250                                         \n",
      "Covariance Type:                  opg                                         \n",
      "==============================================================================\n",
      "                 coef    std err          z      P>|z|      [0.025      0.975]\n",
      "------------------------------------------------------------------------------\n",
      "sigma2        23.7810      1.267     18.772      0.000      21.298      26.264\n",
      "===================================================================================\n",
      "Ljung-Box (L1) (Q):                   0.42   Jarque-Bera (JB):               142.35\n",
      "Prob(Q):                              0.52   Prob(JB):                         0.00\n",
      "Heteroskedasticity (H):               0.50   Skew:                            -0.23\n",
      "Prob(H) (two-sided):                  0.00   Kurtosis:                         6.68\n",
      "===================================================================================\n",
      "\n",
      "Warnings:\n",
      "[1] Covariance matrix calculated using the outer product of gradients (complex-step).\n"
     ]
    },
    {
     "name": "stderr",
     "output_type": "stream",
     "text": [
      "C:\\Users\\dgarb\\anaconda3\\Lib\\site-packages\\statsmodels\\tsa\\base\\tsa_model.py:836: ValueWarning: No supported index is available. Prediction results will be given with an integer index beginning at `start`.\n",
      "  return get_prediction_index(\n",
      "C:\\Users\\dgarb\\anaconda3\\Lib\\site-packages\\statsmodels\\tsa\\base\\tsa_model.py:836: FutureWarning: No supported index is available. In the next version, calling this method in a model without a supported index will result in an exception.\n",
      "  return get_prediction_index(\n"
     ]
    }
   ],
   "source": [
    "# Extract the 'Price' series\n",
    "train_prices = train_data['Price']\n",
    "test_prices = test_data['Price']\n",
    "\n",
    "# Fit auto_arima model\n",
    "model = auto_arima(train_prices,star1_p=1,start_q=1,max_p=5,max_q=5 ,seasonal=False, trace=True, suppress_warnings=True)\n",
    "print(model.summary())\n",
    "\n",
    "# Forecast the first quarter of 2021 (assuming 90 business days)\n",
    "n_periods = len(test_prices)\n",
    "forecast, conf_int = model.predict(n_periods=n_periods, return_conf_int=True)\n",
    "\n",
    "# Combine forecast with dates\n",
    "forecast_dates = test_data['Date']\n",
    "forecast = pd.Series(forecast, index=forecast_dates)\n"
   ]
  },
  {
   "cell_type": "code",
   "execution_count": 31,
   "id": "7c6e1f35-ee47-407b-b51e-9ceff22c1b0a",
   "metadata": {},
   "outputs": [
    {
     "name": "stderr",
     "output_type": "stream",
     "text": [
      "C:\\Users\\dgarb\\AppData\\Local\\Temp\\ipykernel_7748\\338654661.py:1: RuntimeWarning: '<' not supported between instances of 'Timestamp' and 'int', sort order is undefined for incomparable objects.\n",
      "  forecast_df_ARIMA = pd.DataFrame({\n"
     ]
    }
   ],
   "source": [
    "forecast_df_ARIMA = pd.DataFrame({\n",
    "    'Date': test_data['Date'],\n",
    "    'Forecast': forecast\n",
    "})\n"
   ]
  },
  {
   "cell_type": "code",
   "execution_count": 32,
   "id": "b5431968-85cf-4a8d-91f7-bb0a4f87a58d",
   "metadata": {},
   "outputs": [],
   "source": [
    "# forecast_df_ARIMA.head()"
   ]
  },
  {
   "cell_type": "code",
   "execution_count": 33,
   "id": "e34ca440-6181-4651-8750-81391edad286",
   "metadata": {},
   "outputs": [],
   "source": [
    "# Merge test_data with forecast_df on 'Date'\n",
    "merged_data_ARIMA = pd.merge(test_data, forecast_df_ARIMA, on='Date', how='inner')\n",
    "\n"
   ]
  },
  {
   "cell_type": "code",
   "execution_count": 34,
   "id": "b4c50d21-5e2f-4d4f-8cc0-d934c0111fe5",
   "metadata": {},
   "outputs": [],
   "source": [
    "# print(merged_data_ARIMA.head())"
   ]
  },
  {
   "cell_type": "code",
   "execution_count": 35,
   "id": "27a54cad-5b10-45e0-9e90-932d312cc92c",
   "metadata": {},
   "outputs": [
    {
     "name": "stdout",
     "output_type": "stream",
     "text": [
      "ARIMA MAPE Score\n"
     ]
    },
    {
     "data": {
      "text/plain": [
       "nan"
      ]
     },
     "execution_count": 35,
     "metadata": {},
     "output_type": "execute_result"
    }
   ],
   "source": [
    "print('ARIMA MAPE Score')\n",
    "calculate_mape(merged_data_ARIMA.Price,merged_data_ARIMA.Forecast)"
   ]
  },
  {
   "cell_type": "code",
   "execution_count": 36,
   "id": "c697b999-8134-4c43-bc0c-228a93f1734f",
   "metadata": {},
   "outputs": [],
   "source": [
    "russia_dict['ARIMA MAPE Score'] = 2.914816247114103"
   ]
  },
  {
   "cell_type": "markdown",
   "id": "cb1e49d5-3ac9-489e-8d24-e4908bcd5c86",
   "metadata": {},
   "source": [
    "# **Russia: LSTM**"
   ]
  },
  {
   "cell_type": "code",
   "execution_count": 38,
   "id": "867a5f8b-0a8e-43ef-b141-b1f191799ccb",
   "metadata": {},
   "outputs": [],
   "source": [
    "# Normalize the data\n",
    "scaler = MinMaxScaler(feature_range=(0, 1))\n",
    "scaled_train_data = scaler.fit_transform(train_data[['Price']])"
   ]
  },
  {
   "cell_type": "code",
   "execution_count": 39,
   "id": "7b5f00c5-7aff-4a44-baae-2f5832239025",
   "metadata": {},
   "outputs": [],
   "source": [
    "# Create a function to prepare the data for LSTM\n",
    "def create_dataset(data, time_step=1):\n",
    "    X, y = [], []\n",
    "    for i in range(len(data) - time_step - 1):\n",
    "        X.append(data[i:(i + time_step), 0])\n",
    "        y.append(data[i + time_step, 0])\n",
    "    return np.array(X), np.array(y)"
   ]
  },
  {
   "cell_type": "code",
   "execution_count": 40,
   "id": "15a372d0-6eae-449b-b8bc-f9eba220dd54",
   "metadata": {},
   "outputs": [],
   "source": [
    "time_step = 60\n",
    "X_train, y_train = create_dataset(scaled_train_data, time_step)\n",
    "\n",
    "# Reshape input to be [samples, time steps, features] which is required for LSTM\n",
    "X_train = X_train.reshape(X_train.shape[0], X_train.shape[1], 1)\n"
   ]
  },
  {
   "cell_type": "code",
   "execution_count": 41,
   "id": "9d15bf23-9034-411a-9995-316aefc6a826",
   "metadata": {},
   "outputs": [
    {
     "name": "stderr",
     "output_type": "stream",
     "text": [
      "C:\\Users\\dgarb\\anaconda3\\Lib\\site-packages\\keras\\src\\layers\\rnn\\rnn.py:204: UserWarning: Do not pass an `input_shape`/`input_dim` argument to a layer. When using Sequential models, prefer using an `Input(shape)` object as the first layer in the model instead.\n",
      "  super().__init__(**kwargs)\n"
     ]
    },
    {
     "name": "stdout",
     "output_type": "stream",
     "text": [
      "\u001b[1m189/189\u001b[0m \u001b[32m━━━━━━━━━━━━━━━━━━━━\u001b[0m\u001b[37m\u001b[0m \u001b[1m8s\u001b[0m 21ms/step - loss: 0.0589\n"
     ]
    }
   ],
   "source": [
    "# Build the LSTM model\n",
    "\n",
    "model = Sequential()\n",
    "model.add(LSTM(units=50, return_sequences=True, input_shape=(time_step, 1)))\n",
    "model.add(Dropout(0.2))\n",
    "model.add(LSTM(units=50, return_sequences=False))\n",
    "model.add(Dropout(0.2))\n",
    "model.add(Dense(units=25))\n",
    "model.add(Dense(units=1))\n",
    "\n",
    "# Compile the model\n",
    "model.compile(optimizer='adam', loss='mean_squared_error')\n",
    "\n",
    "# Train the model\n",
    "model.fit(X_train, y_train, batch_size=1, epochs=1)\n",
    "\n",
    "# Forecast the first quarter of 2021\n",
    "n_future_days = 60  # Assuming there are 60 trading days in the first quarter of 2021\n",
    "x_input = scaled_train_data[-time_step:].reshape(1, -1)#=>scaled_train_data[-60:]\n",
    "temp_input = list(x_input)\n",
    "temp_input = temp_input[0].tolist()\n",
    "\n",
    "# Generate predictions for the next 60 days\n",
    "lst_output = []\n",
    "i = 0\n",
    "while i < n_future_days:\n",
    "    if len(temp_input) > time_step:\n",
    "        x_input = np.array(temp_input[1:])\n",
    "        x_input = x_input.reshape(1, -1)\n",
    "        x_input = x_input.reshape((1, time_step, 1))\n",
    "        yhat = model.predict(x_input, verbose=0)\n",
    "        temp_input.extend(yhat[0].tolist())\n",
    "        temp_input = temp_input[1:]\n",
    "        lst_output.extend(yhat.tolist())\n",
    "        i += 1\n",
    "    else:\n",
    "        x_input = x_input.reshape((1, time_step, 1))\n",
    "        yhat = model.predict(x_input, verbose=0)\n",
    "        temp_input.extend(yhat[0].tolist())\n",
    "        lst_output.extend(yhat.tolist())\n",
    "        i += 1\n",
    "\n",
    "# Transform the forecasted data back to original scale\n",
    "forecasted_stock_prices = scaler.inverse_transform(lst_output)\n",
    "\n",
    "# Create a date range for the forecasted data\n",
    "last_date = train_data['Date'].max()\n",
    "forecast_dates = pd.date_range(start=last_date + pd.Timedelta(days=1), periods=n_future_days, freq='B')  # Business days\n"
   ]
  },
  {
   "cell_type": "code",
   "execution_count": 42,
   "id": "b744a478-96b9-4a7b-99c5-713444b6fd28",
   "metadata": {},
   "outputs": [
    {
     "name": "stdout",
     "output_type": "stream",
     "text": [
      "<class 'pandas.core.indexes.datetimes.DatetimeIndex'>\n",
      "<class 'numpy.ndarray'>\n"
     ]
    }
   ],
   "source": [
    "print(type(forecast_dates))\n",
    "\n",
    "print(type(forecasted_stock_prices))\n",
    "forecasted_stock_prices = forecasted_stock_prices.reshape(-1)\n"
   ]
  },
  {
   "cell_type": "code",
   "execution_count": 43,
   "id": "292f731c-8454-4107-89d2-73810e49e492",
   "metadata": {},
   "outputs": [],
   "source": [
    "dict_forecast = {'forecast_dates':list(forecast_dates) , 'forecasted_stock_prices':list(forecasted_stock_prices)}\n",
    "forecast_df_LSTM = pd.DataFrame(dict_forecast)"
   ]
  },
  {
   "cell_type": "code",
   "execution_count": 44,
   "id": "6965a7db-3347-4207-83ca-8cc551fa7061",
   "metadata": {},
   "outputs": [
    {
     "name": "stdout",
     "output_type": "stream",
     "text": [
      "<class 'pandas.core.frame.DataFrame'>\n",
      "RangeIndex: 60 entries, 0 to 59\n",
      "Data columns (total 2 columns):\n",
      " #   Column                   Non-Null Count  Dtype         \n",
      "---  ------                   --------------  -----         \n",
      " 0   forecast_dates           60 non-null     datetime64[ns]\n",
      " 1   forecasted_stock_prices  60 non-null     float64       \n",
      "dtypes: datetime64[ns](1), float64(1)\n",
      "memory usage: 1.1 KB\n"
     ]
    }
   ],
   "source": [
    "forecast_df_LSTM.info()"
   ]
  },
  {
   "cell_type": "code",
   "execution_count": 45,
   "id": "1821765d-1081-4a02-b058-9948076c42ec",
   "metadata": {},
   "outputs": [
    {
     "data": {
      "text/html": [
       "<div>\n",
       "<style scoped>\n",
       "    .dataframe tbody tr th:only-of-type {\n",
       "        vertical-align: middle;\n",
       "    }\n",
       "\n",
       "    .dataframe tbody tr th {\n",
       "        vertical-align: top;\n",
       "    }\n",
       "\n",
       "    .dataframe thead th {\n",
       "        text-align: right;\n",
       "    }\n",
       "</style>\n",
       "<table border=\"1\" class=\"dataframe\">\n",
       "  <thead>\n",
       "    <tr style=\"text-align: right;\">\n",
       "      <th></th>\n",
       "      <th>Date</th>\n",
       "      <th>Price</th>\n",
       "      <th>forecast_dates</th>\n",
       "      <th>forecasted_stock_prices</th>\n",
       "    </tr>\n",
       "  </thead>\n",
       "  <tbody>\n",
       "    <tr>\n",
       "      <th>0</th>\n",
       "      <td>2021-01-04</td>\n",
       "      <td>272.00</td>\n",
       "      <td>2021-01-04</td>\n",
       "      <td>262.282856</td>\n",
       "    </tr>\n",
       "    <tr>\n",
       "      <th>1</th>\n",
       "      <td>2021-01-05</td>\n",
       "      <td>275.20</td>\n",
       "      <td>2021-01-05</td>\n",
       "      <td>261.411898</td>\n",
       "    </tr>\n",
       "    <tr>\n",
       "      <th>2</th>\n",
       "      <td>2021-01-06</td>\n",
       "      <td>272.93</td>\n",
       "      <td>2021-01-06</td>\n",
       "      <td>260.443929</td>\n",
       "    </tr>\n",
       "    <tr>\n",
       "      <th>3</th>\n",
       "      <td>2021-01-08</td>\n",
       "      <td>283.64</td>\n",
       "      <td>2021-01-08</td>\n",
       "      <td>258.368137</td>\n",
       "    </tr>\n",
       "    <tr>\n",
       "      <th>4</th>\n",
       "      <td>2021-01-11</td>\n",
       "      <td>289.49</td>\n",
       "      <td>2021-01-11</td>\n",
       "      <td>257.307556</td>\n",
       "    </tr>\n",
       "  </tbody>\n",
       "</table>\n",
       "</div>"
      ],
      "text/plain": [
       "        Date   Price forecast_dates  forecasted_stock_prices\n",
       "0 2021-01-04  272.00     2021-01-04               262.282856\n",
       "1 2021-01-05  275.20     2021-01-05               261.411898\n",
       "2 2021-01-06  272.93     2021-01-06               260.443929\n",
       "3 2021-01-08  283.64     2021-01-08               258.368137\n",
       "4 2021-01-11  289.49     2021-01-11               257.307556"
      ]
     },
     "execution_count": 45,
     "metadata": {},
     "output_type": "execute_result"
    }
   ],
   "source": [
    "merged_data_LSTM = test_data.merge(forecast_df_LSTM, left_on='Date', right_on='forecast_dates', how='inner')\n",
    "\n",
    "merged_data_LSTM.head()"
   ]
  },
  {
   "cell_type": "code",
   "execution_count": 46,
   "id": "8fe83e04-c6e3-438b-8f02-8ba520bdb7ec",
   "metadata": {},
   "outputs": [],
   "source": [
    "merged_data_LSTM = merged_data_LSTM.drop(columns = ['forecast_dates'])"
   ]
  },
  {
   "cell_type": "code",
   "execution_count": 47,
   "id": "2244fe58-57c8-43fe-9028-0c41c8a6ed8a",
   "metadata": {},
   "outputs": [],
   "source": [
    "merged_data_LSTM = merged_data_LSTM[['Date', 'Price','forecasted_stock_prices']]"
   ]
  },
  {
   "cell_type": "code",
   "execution_count": 48,
   "id": "8691a2a7-7bde-42ad-9458-8a1e9a348518",
   "metadata": {},
   "outputs": [
    {
     "data": {
      "text/html": [
       "<div>\n",
       "<style scoped>\n",
       "    .dataframe tbody tr th:only-of-type {\n",
       "        vertical-align: middle;\n",
       "    }\n",
       "\n",
       "    .dataframe tbody tr th {\n",
       "        vertical-align: top;\n",
       "    }\n",
       "\n",
       "    .dataframe thead th {\n",
       "        text-align: right;\n",
       "    }\n",
       "</style>\n",
       "<table border=\"1\" class=\"dataframe\">\n",
       "  <thead>\n",
       "    <tr style=\"text-align: right;\">\n",
       "      <th></th>\n",
       "      <th>Date</th>\n",
       "      <th>Price</th>\n",
       "      <th>forecasted_stock_prices</th>\n",
       "    </tr>\n",
       "  </thead>\n",
       "  <tbody>\n",
       "    <tr>\n",
       "      <th>0</th>\n",
       "      <td>2021-01-04</td>\n",
       "      <td>272.00</td>\n",
       "      <td>262.282856</td>\n",
       "    </tr>\n",
       "    <tr>\n",
       "      <th>1</th>\n",
       "      <td>2021-01-05</td>\n",
       "      <td>275.20</td>\n",
       "      <td>261.411898</td>\n",
       "    </tr>\n",
       "    <tr>\n",
       "      <th>2</th>\n",
       "      <td>2021-01-06</td>\n",
       "      <td>272.93</td>\n",
       "      <td>260.443929</td>\n",
       "    </tr>\n",
       "    <tr>\n",
       "      <th>3</th>\n",
       "      <td>2021-01-08</td>\n",
       "      <td>283.64</td>\n",
       "      <td>258.368137</td>\n",
       "    </tr>\n",
       "    <tr>\n",
       "      <th>4</th>\n",
       "      <td>2021-01-11</td>\n",
       "      <td>289.49</td>\n",
       "      <td>257.307556</td>\n",
       "    </tr>\n",
       "  </tbody>\n",
       "</table>\n",
       "</div>"
      ],
      "text/plain": [
       "        Date   Price  forecasted_stock_prices\n",
       "0 2021-01-04  272.00               262.282856\n",
       "1 2021-01-05  275.20               261.411898\n",
       "2 2021-01-06  272.93               260.443929\n",
       "3 2021-01-08  283.64               258.368137\n",
       "4 2021-01-11  289.49               257.307556"
      ]
     },
     "execution_count": 48,
     "metadata": {},
     "output_type": "execute_result"
    }
   ],
   "source": [
    "merged_data_LSTM.head()"
   ]
  },
  {
   "cell_type": "code",
   "execution_count": 49,
   "id": "3d4aac84-ca2d-4af7-a10c-79adaf9bc4b1",
   "metadata": {},
   "outputs": [],
   "source": [
    "merged_data_LSTM.columns = ['Date', 'Price', 'Forecast']"
   ]
  },
  {
   "cell_type": "markdown",
   "id": "03f48513-82eb-4c60-bcc7-1a2c3415052d",
   "metadata": {},
   "source": [
    "**LSTM MAPE Score**"
   ]
  },
  {
   "cell_type": "code",
   "execution_count": 51,
   "id": "e4216e17-0553-4df5-b7e9-567a2faaedf6",
   "metadata": {},
   "outputs": [
    {
     "name": "stdout",
     "output_type": "stream",
     "text": [
      "LSTM MAPE Score\n"
     ]
    },
    {
     "data": {
      "text/plain": [
       "12.816614568049117"
      ]
     },
     "execution_count": 51,
     "metadata": {},
     "output_type": "execute_result"
    }
   ],
   "source": [
    "print('LSTM MAPE Score')\n",
    "calculate_mape(merged_data_LSTM.Price, merged_data_LSTM.Forecast)"
   ]
  },
  {
   "cell_type": "code",
   "execution_count": 52,
   "id": "72edbea5-b3ac-4228-8dd2-c25844f73298",
   "metadata": {},
   "outputs": [],
   "source": [
    "russia_dict['LSTM MAPE Score'] = 17.516170351729304"
   ]
  },
  {
   "cell_type": "markdown",
   "id": "3faf4611-8365-45af-85e7-b431c806158b",
   "metadata": {},
   "source": [
    "# **Russia: Prophet**"
   ]
  },
  {
   "cell_type": "code",
   "execution_count": 54,
   "id": "763a3805-9257-43ce-8652-a649c5b55c7c",
   "metadata": {},
   "outputs": [
    {
     "data": {
      "text/html": [
       "<div>\n",
       "<style scoped>\n",
       "    .dataframe tbody tr th:only-of-type {\n",
       "        vertical-align: middle;\n",
       "    }\n",
       "\n",
       "    .dataframe tbody tr th {\n",
       "        vertical-align: top;\n",
       "    }\n",
       "\n",
       "    .dataframe thead th {\n",
       "        text-align: right;\n",
       "    }\n",
       "</style>\n",
       "<table border=\"1\" class=\"dataframe\">\n",
       "  <thead>\n",
       "    <tr style=\"text-align: right;\">\n",
       "      <th></th>\n",
       "      <th>Date</th>\n",
       "      <th>Price</th>\n",
       "    </tr>\n",
       "  </thead>\n",
       "  <tbody>\n",
       "    <tr>\n",
       "      <th>310</th>\n",
       "      <td>2020-01-03</td>\n",
       "      <td>255.00</td>\n",
       "    </tr>\n",
       "    <tr>\n",
       "      <th>309</th>\n",
       "      <td>2020-01-06</td>\n",
       "      <td>253.90</td>\n",
       "    </tr>\n",
       "    <tr>\n",
       "      <th>308</th>\n",
       "      <td>2020-01-08</td>\n",
       "      <td>259.15</td>\n",
       "    </tr>\n",
       "    <tr>\n",
       "      <th>307</th>\n",
       "      <td>2020-01-09</td>\n",
       "      <td>257.99</td>\n",
       "    </tr>\n",
       "    <tr>\n",
       "      <th>306</th>\n",
       "      <td>2020-01-10</td>\n",
       "      <td>258.19</td>\n",
       "    </tr>\n",
       "  </tbody>\n",
       "</table>\n",
       "</div>"
      ],
      "text/plain": [
       "          Date   Price\n",
       "310 2020-01-03  255.00\n",
       "309 2020-01-06  253.90\n",
       "308 2020-01-08  259.15\n",
       "307 2020-01-09  257.99\n",
       "306 2020-01-10  258.19"
      ]
     },
     "execution_count": 54,
     "metadata": {},
     "output_type": "execute_result"
    }
   ],
   "source": [
    "data.head()"
   ]
  },
  {
   "cell_type": "code",
   "execution_count": 55,
   "id": "e4fe277d-7278-466b-b1d0-d1060556ee57",
   "metadata": {},
   "outputs": [
    {
     "name": "stdout",
     "output_type": "stream",
     "text": [
      "            ds       y\n",
      "310 2020-01-03  255.00\n",
      "309 2020-01-06  253.90\n",
      "308 2020-01-08  259.15\n",
      "307 2020-01-09  257.99\n",
      "306 2020-01-10  258.19\n"
     ]
    }
   ],
   "source": [
    "# Prepare data for Prophet\n",
    "\n",
    "df = pd.DataFrame()\n",
    "df['ds'] = pd.to_datetime(data['Date'])\n",
    "df['y'] = data['Price']\n",
    "print(df.head())"
   ]
  },
  {
   "cell_type": "code",
   "execution_count": 56,
   "id": "c9ca7e48-f683-468c-9069-e971127e4be4",
   "metadata": {},
   "outputs": [
    {
     "name": "stdout",
     "output_type": "stream",
     "text": [
      "            ds       y\n",
      "310 2020-01-03  255.00\n",
      "309 2020-01-06  253.90\n",
      "308 2020-01-08  259.15\n",
      "307 2020-01-09  257.99\n",
      "306 2020-01-10  258.19\n"
     ]
    }
   ],
   "source": [
    "# **create train_data**\n",
    "df_train = df[df.ds <= '2020-12-31' ]\n",
    "\n",
    "print(df_train.head())"
   ]
  },
  {
   "cell_type": "code",
   "execution_count": 57,
   "id": "e96b993b-3d0b-44e8-b5db-3330b48b03bd",
   "metadata": {},
   "outputs": [
    {
     "name": "stdout",
     "output_type": "stream",
     "text": [
      "           ds       y\n",
      "60 2021-01-04  272.00\n",
      "59 2021-01-05  275.20\n",
      "58 2021-01-06  272.93\n",
      "57 2021-01-08  283.64\n",
      "56 2021-01-11  289.49\n"
     ]
    }
   ],
   "source": [
    "# **create test_data**\n",
    "df_test = df[df.ds > '2020-12-31' ]\n",
    "\n",
    "print(df_test.head())"
   ]
  },
  {
   "cell_type": "code",
   "execution_count": 58,
   "id": "548e106d-8771-4f4a-94cb-6311ccffa8c5",
   "metadata": {},
   "outputs": [],
   "source": [
    "def calculate_mape(actual=None, forecast= None):\n",
    "    actual = np.array(actual)\n",
    "    forecast = np.array(forecast)\n",
    "    return np.mean(np.abs((actual - forecast) / actual)) * 100\n"
   ]
  },
  {
   "cell_type": "code",
   "execution_count": 59,
   "id": "9bce7b6c-4538-4bb1-8283-83f16927d126",
   "metadata": {},
   "outputs": [],
   "source": [
    "def func_test_forecast_MAPE(\n",
    "params = None,\n",
    "country = 'Russia',\n",
    "df_train = df_train):\n",
    "\n",
    "    # Initialize the Prophet model with hyperparameters\n",
    "    model = Prophet(\n",
    "        changepoint_prior_scale=params['changepoint_prior_scale'],\n",
    "        seasonality_prior_scale=params['seasonality_prior_scale'],\n",
    "        holidays_prior_scale=params['holidays_prior_scale'],\n",
    "        seasonality_mode=params['seasonality_mode'],\n",
    "        daily_seasonality=True,\n",
    "        weekly_seasonality=True,\n",
    "        yearly_seasonality=True\n",
    "    )\n",
    "    \n",
    "    # Add country holidays\n",
    "    model.add_country_holidays(country_name=country) \n",
    "    \n",
    "    # Fit the model\n",
    "    model.fit(df_train)   \n",
    "    \n",
    "    # Create a DataFrame for future predictions (Business days only)\n",
    "    future = model.make_future_dataframe(periods=90, freq='B')\n",
    "    \n",
    "    # Predict future values\n",
    "    forecast = model.predict(future)\n",
    "      \n",
    "    forecast_df = forecast[['ds','yhat']]\n",
    "    \n",
    "    forecast_df.shape\n",
    "    mask = forecast_df.ds > '2020-12-31'\n",
    "    \n",
    "    \n",
    "    print(' ') \n",
    "    print('params = ', params)\n",
    "    \n",
    "    forecast_df = forecast_df[mask]\n",
    "    \n",
    "    print('forecast_df.shape = ', forecast_df.shape)\n",
    "    \n",
    "    merged_data = pd.merge(df_test, forecast_df, on='ds', how='inner')\n",
    "    print('merged_data.shape = ', merged_data.shape)\n",
    "    print(' ')\n",
    "    MAPE_Score = calculate_mape(actual=merged_data.y, forecast=merged_data.yhat)\n",
    "    print('MAPE_Score = ', MAPE_Score)\n",
    "    print(' ')\n",
    "    return forecast_df, merged_data, MAPE_Score"
   ]
  },
  {
   "cell_type": "code",
   "execution_count": 60,
   "id": "9f9499cb-bd99-418c-89ec-ad78f9cb4635",
   "metadata": {},
   "outputs": [
    {
     "name": "stderr",
     "output_type": "stream",
     "text": [
      "16:45:44 - cmdstanpy - INFO - Chain [1] start processing\n",
      "16:45:44 - cmdstanpy - INFO - Chain [1] done processing\n"
     ]
    },
    {
     "name": "stdout",
     "output_type": "stream",
     "text": [
      " \n",
      "params =  {'changepoint_prior_scale': 0.015, 'seasonality_prior_scale': 0.0125, 'holidays_prior_scale': 0.01, 'seasonality_mode': 'additive'}\n",
      "forecast_df.shape =  (89, 2)\n",
      "merged_data.shape =  (60, 3)\n",
      " \n",
      "MAPE_Score =  9.246960346626697\n",
      " \n"
     ]
    }
   ],
   "source": [
    "forecast_Prophet, merged_data_Prophet, MAPE_Score = func_test_forecast_MAPE(\n",
    "params  = {\n",
    "    'changepoint_prior_scale': 0.015,\n",
    "    'seasonality_prior_scale': 0.0125,\n",
    "    'holidays_prior_scale': 0.01,\n",
    "    'seasonality_mode': 'additive'\n",
    "}\n",
    ",\n",
    "country = 'Russia',\n",
    "df_train = df_train)"
   ]
  },
  {
   "cell_type": "code",
   "execution_count": 61,
   "id": "118a3c4a-3faf-4664-af07-2ce798c01e43",
   "metadata": {},
   "outputs": [
    {
     "name": "stderr",
     "output_type": "stream",
     "text": [
      "16:45:44 - cmdstanpy - INFO - Chain [1] start processing\n",
      "16:45:45 - cmdstanpy - INFO - Chain [1] done processing\n"
     ]
    },
    {
     "name": "stdout",
     "output_type": "stream",
     "text": [
      " \n",
      "params =  {'changepoint_prior_scale': 0.015, 'seasonality_prior_scale': 0.0125, 'holidays_prior_scale': 0.01, 'seasonality_mode': 'multiplicative'}\n",
      "forecast_df.shape =  (89, 2)\n",
      "merged_data.shape =  (60, 3)\n",
      " \n",
      "MAPE_Score =  9.584388094104703\n",
      " \n"
     ]
    }
   ],
   "source": [
    "forecast_Prophet, merged_data_Prophet, MAPE_Score = func_test_forecast_MAPE(\n",
    "params  = {\n",
    "    'changepoint_prior_scale': 0.015,\n",
    "    'seasonality_prior_scale': 0.0125,\n",
    "    'holidays_prior_scale': 0.01,\n",
    "    'seasonality_mode': 'multiplicative'\n",
    "}\n",
    ",\n",
    "country = 'Russia',\n",
    "df_train = df_train)"
   ]
  },
  {
   "cell_type": "code",
   "execution_count": 62,
   "id": "7a663bbd-bdb0-4eec-9b23-88cc119f3648",
   "metadata": {},
   "outputs": [
    {
     "name": "stderr",
     "output_type": "stream",
     "text": [
      "16:45:45 - cmdstanpy - INFO - Chain [1] start processing\n",
      "16:45:45 - cmdstanpy - INFO - Chain [1] done processing\n"
     ]
    },
    {
     "name": "stdout",
     "output_type": "stream",
     "text": [
      " \n",
      "params =  {'changepoint_prior_scale': 0.03, 'seasonality_prior_scale': 0.01, 'holidays_prior_scale': 0.01, 'seasonality_mode': 'multiplicative'}\n",
      "forecast_df.shape =  (89, 2)\n",
      "merged_data.shape =  (60, 3)\n",
      " \n",
      "MAPE_Score =  8.489201754904997\n",
      " \n"
     ]
    }
   ],
   "source": [
    "\n",
    "forecast_Prophet, merged_data_Prophet, MAPE_Score = func_test_forecast_MAPE(\n",
    "params = {'changepoint_prior_scale': 0.03, 'seasonality_prior_scale': 0.01, 'holidays_prior_scale': 0.01, 'seasonality_mode': 'multiplicative'}\n",
    ",\n",
    "country = 'Russia',\n",
    "df_train = df_train)"
   ]
  },
  {
   "cell_type": "code",
   "execution_count": 63,
   "id": "395b0aaf-dacb-45d5-a503-dc4837d6dd03",
   "metadata": {},
   "outputs": [
    {
     "name": "stderr",
     "output_type": "stream",
     "text": [
      "16:45:45 - cmdstanpy - INFO - Chain [1] start processing\n",
      "16:45:45 - cmdstanpy - INFO - Chain [1] done processing\n"
     ]
    },
    {
     "name": "stdout",
     "output_type": "stream",
     "text": [
      " \n",
      "params =  {'changepoint_prior_scale': 0.0375, 'seasonality_prior_scale': 0.0125, 'holidays_prior_scale': 0.01, 'seasonality_mode': 'additive'}\n",
      "forecast_df.shape =  (89, 2)\n",
      "merged_data.shape =  (60, 3)\n",
      " \n",
      "MAPE_Score =  8.076721806261045\n",
      " \n"
     ]
    }
   ],
   "source": [
    "# forecast_df, merged_data, MAPE_train_test\n",
    "forecast_Prophet, merged_data_Prophet, MAPE_Score = func_test_forecast_MAPE(\n",
    "params = {\n",
    "    'changepoint_prior_scale': 0.0375,\n",
    "    'seasonality_prior_scale': 0.0125,\n",
    "    'holidays_prior_scale': 0.01,\n",
    "    'seasonality_mode': 'additive'\n",
    "}\n",
    ",\n",
    "country = 'Russia',\n",
    "df_train = df_train)"
   ]
  },
  {
   "cell_type": "code",
   "execution_count": 64,
   "id": "0988b15d-3c93-4702-ba52-b4a6161583a5",
   "metadata": {},
   "outputs": [
    {
     "data": {
      "text/plain": [
       "(60, 3)"
      ]
     },
     "execution_count": 64,
     "metadata": {},
     "output_type": "execute_result"
    }
   ],
   "source": [
    "merged_data_Prophet.shape"
   ]
  },
  {
   "cell_type": "code",
   "execution_count": 65,
   "id": "c959c48c-ec38-41f1-8ce5-87d3c5653046",
   "metadata": {},
   "outputs": [
    {
     "name": "stdout",
     "output_type": "stream",
     "text": [
      "          ds       y        yhat\n",
      "0 2021-01-04  272.00  273.182647\n",
      "1 2021-01-05  275.20  275.454530\n",
      "2 2021-01-06  272.93  277.619543\n",
      "3 2021-01-08  283.64  278.810900\n",
      "4 2021-01-11  289.49  281.840376\n",
      "           ds       y        yhat\n",
      "55 2021-03-25  286.66  239.733587\n",
      "56 2021-03-26  291.22  240.183266\n",
      "57 2021-03-29  293.30  242.640825\n",
      "58 2021-03-30  293.25  244.837866\n",
      "59 2021-03-31  291.02  246.891954\n"
     ]
    }
   ],
   "source": [
    "\n",
    "print(merged_data_Prophet.head())\n",
    "print(merged_data_Prophet.tail())"
   ]
  },
  {
   "cell_type": "code",
   "execution_count": 66,
   "id": "ecf125d4-2193-487c-ac03-60697642bca1",
   "metadata": {},
   "outputs": [
    {
     "name": "stdout",
     "output_type": "stream",
     "text": [
      "Prophet MAPE Score\n"
     ]
    },
    {
     "data": {
      "text/plain": [
       "8.076721806261045"
      ]
     },
     "execution_count": 66,
     "metadata": {},
     "output_type": "execute_result"
    }
   ],
   "source": [
    "print('Prophet MAPE Score')\n",
    "calculate_mape(actual= merged_data_Prophet.y, forecast= merged_data_Prophet.yhat)"
   ]
  },
  {
   "cell_type": "code",
   "execution_count": 67,
   "id": "58e71c6d-3b62-45cc-b08e-118942466818",
   "metadata": {},
   "outputs": [],
   "source": [
    "russia_dict['Prophet MAPE Score'] =  8.076721806261045"
   ]
  },
  {
   "cell_type": "code",
   "execution_count": 68,
   "id": "ae629110-683f-4990-8a7d-4abdf0f93475",
   "metadata": {},
   "outputs": [
    {
     "name": "stdout",
     "output_type": "stream",
     "text": [
      "           ds       y        yhat         SMA         SD          UB  \\\n",
      "55 2021-03-25  286.66  239.733587  255.628079  17.106306  289.840691   \n",
      "56 2021-03-26  291.22  240.183266  253.316972  15.802001  284.920973   \n",
      "57 2021-03-29  293.30  242.640825  251.229736  14.153212  279.536159   \n",
      "58 2021-03-30  293.25  244.837866  249.596414  12.779719  275.155852   \n",
      "59 2021-03-31  291.02  246.891954  248.136607  11.159106  270.454820   \n",
      "\n",
      "            LB  \n",
      "55  221.415468  \n",
      "56  221.712970  \n",
      "57  222.923313  \n",
      "58  224.036976  \n",
      "59  225.818395  \n"
     ]
    }
   ],
   "source": [
    "df_b = bollinger_bands(dataframe=merged_data_Prophet, forecast='yhat')"
   ]
  },
  {
   "cell_type": "code",
   "execution_count": 69,
   "id": "a3a0e4fe-4730-4638-a833-4dcae43b4db1",
   "metadata": {},
   "outputs": [
    {
     "data": {
      "text/plain": [
       "Index(['ds', 'y', 'yhat', 'SMA', 'SD', 'UB', 'LB'], dtype='object')"
      ]
     },
     "execution_count": 69,
     "metadata": {},
     "output_type": "execute_result"
    }
   ],
   "source": [
    "df_b.columns "
   ]
  },
  {
   "cell_type": "code",
   "execution_count": 70,
   "id": "799d7ba4-9e4a-49a1-9c5f-a0101b48f09b",
   "metadata": {},
   "outputs": [],
   "source": [
    "df_b.columns = ['Date', 'Price', 'Forecast', 'SMA', 'SD', 'UB', 'LB']"
   ]
  },
  {
   "cell_type": "code",
   "execution_count": 71,
   "id": "99cc3c3a-20ce-4f65-94a1-e031053fb7f2",
   "metadata": {},
   "outputs": [
    {
     "data": {
      "text/html": [
       "<div>\n",
       "<style scoped>\n",
       "    .dataframe tbody tr th:only-of-type {\n",
       "        vertical-align: middle;\n",
       "    }\n",
       "\n",
       "    .dataframe tbody tr th {\n",
       "        vertical-align: top;\n",
       "    }\n",
       "\n",
       "    .dataframe thead th {\n",
       "        text-align: right;\n",
       "    }\n",
       "</style>\n",
       "<table border=\"1\" class=\"dataframe\">\n",
       "  <thead>\n",
       "    <tr style=\"text-align: right;\">\n",
       "      <th></th>\n",
       "      <th>Date</th>\n",
       "      <th>Price</th>\n",
       "      <th>Forecast</th>\n",
       "      <th>SMA</th>\n",
       "      <th>SD</th>\n",
       "      <th>UB</th>\n",
       "      <th>LB</th>\n",
       "    </tr>\n",
       "  </thead>\n",
       "  <tbody>\n",
       "    <tr>\n",
       "      <th>55</th>\n",
       "      <td>2021-03-25</td>\n",
       "      <td>286.66</td>\n",
       "      <td>239.733587</td>\n",
       "      <td>255.628079</td>\n",
       "      <td>17.106306</td>\n",
       "      <td>289.840691</td>\n",
       "      <td>221.415468</td>\n",
       "    </tr>\n",
       "    <tr>\n",
       "      <th>56</th>\n",
       "      <td>2021-03-26</td>\n",
       "      <td>291.22</td>\n",
       "      <td>240.183266</td>\n",
       "      <td>253.316972</td>\n",
       "      <td>15.802001</td>\n",
       "      <td>284.920973</td>\n",
       "      <td>221.712970</td>\n",
       "    </tr>\n",
       "    <tr>\n",
       "      <th>57</th>\n",
       "      <td>2021-03-29</td>\n",
       "      <td>293.30</td>\n",
       "      <td>242.640825</td>\n",
       "      <td>251.229736</td>\n",
       "      <td>14.153212</td>\n",
       "      <td>279.536159</td>\n",
       "      <td>222.923313</td>\n",
       "    </tr>\n",
       "    <tr>\n",
       "      <th>58</th>\n",
       "      <td>2021-03-30</td>\n",
       "      <td>293.25</td>\n",
       "      <td>244.837866</td>\n",
       "      <td>249.596414</td>\n",
       "      <td>12.779719</td>\n",
       "      <td>275.155852</td>\n",
       "      <td>224.036976</td>\n",
       "    </tr>\n",
       "    <tr>\n",
       "      <th>59</th>\n",
       "      <td>2021-03-31</td>\n",
       "      <td>291.02</td>\n",
       "      <td>246.891954</td>\n",
       "      <td>248.136607</td>\n",
       "      <td>11.159106</td>\n",
       "      <td>270.454820</td>\n",
       "      <td>225.818395</td>\n",
       "    </tr>\n",
       "  </tbody>\n",
       "</table>\n",
       "</div>"
      ],
      "text/plain": [
       "         Date   Price    Forecast         SMA         SD          UB  \\\n",
       "55 2021-03-25  286.66  239.733587  255.628079  17.106306  289.840691   \n",
       "56 2021-03-26  291.22  240.183266  253.316972  15.802001  284.920973   \n",
       "57 2021-03-29  293.30  242.640825  251.229736  14.153212  279.536159   \n",
       "58 2021-03-30  293.25  244.837866  249.596414  12.779719  275.155852   \n",
       "59 2021-03-31  291.02  246.891954  248.136607  11.159106  270.454820   \n",
       "\n",
       "            LB  \n",
       "55  221.415468  \n",
       "56  221.712970  \n",
       "57  222.923313  \n",
       "58  224.036976  \n",
       "59  225.818395  "
      ]
     },
     "execution_count": 71,
     "metadata": {},
     "output_type": "execute_result"
    }
   ],
   "source": [
    "df_b.tail()"
   ]
  },
  {
   "cell_type": "code",
   "execution_count": 164,
   "id": "0eafb322-694b-471a-923b-2120f392b6f5",
   "metadata": {},
   "outputs": [
    {
     "name": "stdout",
     "output_type": "stream",
     "text": [
      "Russia: MAPE Scores\n",
      " \n",
      "Moving Average MAPE Score   3.1272017339574236\n",
      "Exponential Smoothing MAPE Score   2.7030349698597034\n",
      "ARIMA MAPE Score   2.914816247114103\n",
      "LSTM MAPE Score   17.516170351729304\n",
      "Prophet MAPE Score   8.076721806261045\n"
     ]
    }
   ],
   "source": [
    "print('Russia: MAPE Scores')\n",
    "print(' ')\n",
    "for k,v in russia_dict.items():\n",
    "    print(k,' ',v)"
   ]
  },
  {
   "cell_type": "code",
   "execution_count": 72,
   "id": "cb629ca0-8993-44cf-9976-0e28eab34393",
   "metadata": {},
   "outputs": [
    {
     "data": {
      "image/png": "[encoded data removed]",
      "text/plain": [
       "<Figure size 1500x800 with 1 Axes>"
      ]
     },
     "metadata": {},
     "output_type": "display_data"
    }
   ],
   "source": [
    "plot_bollinger_bands (dataframe = df_b, mdl_type = 'Russia Prophet',savefig = 'Rusia Bollinger Band Graph Final .png')"
   ]
  },
  {
   "cell_type": "markdown",
   "id": "f9c84bac-91f1-4a44-9b01-024193693b96",
   "metadata": {},
   "source": [
    "**Russia Strategy**\n",
    "\n",
    "    For the month of February buy\n",
    "    For the month of March hold since the price for the most part is between the Bollinger Bands\n",
    "    "
   ]
  },
  {
   "cell_type": "markdown",
   "id": "6fae100e-6078-4594-8ce2-426d14df2e7c",
   "metadata": {},
   "source": [
    "# **Turkey**"
   ]
  },
  {
   "cell_type": "code",
   "execution_count": 77,
   "id": "2179d28a-f25a-4922-ab1a-9727718b29c6",
   "metadata": {},
   "outputs": [
    {
     "name": "stdout",
     "output_type": "stream",
     "text": [
      "           Date  Price   Open   High    Low    Vol. Change %\n",
      "0  Mar 31, 2021  19.41  19.42  19.63  19.27  13.14M   -0.46%\n",
      "1  Mar 30, 2021  19.50  19.12  19.81  19.03  21.05M    2.09%\n",
      "2  Mar 29, 2021  19.10  19.24  19.67  19.10  16.56M   -0.78%\n",
      "3  Mar 26, 2021  19.25  20.28  20.36  19.10  21.35M   -3.85%\n",
      "4  Mar 25, 2021  20.02  20.50  20.86  20.02  15.93M   -1.48%\n",
      "             Date  Price   Open   High    Low   Vol. Change %\n",
      "311  Jan 07, 2020  19.93  20.22  20.28  19.92  2.89M   -0.75%\n",
      "312  Jan 06, 2020  20.08  20.34  20.34  19.97  1.94M   -1.08%\n",
      "313  Jan 03, 2020  20.30  20.30  20.44  19.97  3.31M   -0.39%\n",
      "314  Jan 02, 2020  20.38  20.42  20.44  20.24  2.53M    0.30%\n",
      "315           NaN    NaN    NaN    NaN    NaN    NaN      NaN\n",
      " \n",
      "<class 'pandas.core.frame.DataFrame'>\n",
      "RangeIndex: 316 entries, 0 to 315\n",
      "Data columns (total 7 columns):\n",
      " #   Column    Non-Null Count  Dtype  \n",
      "---  ------    --------------  -----  \n",
      " 0   Date      315 non-null    object \n",
      " 1   Price     315 non-null    float64\n",
      " 2   Open      315 non-null    float64\n",
      " 3   High      315 non-null    float64\n",
      " 4   Low       315 non-null    float64\n",
      " 5   Vol.      315 non-null    object \n",
      " 6   Change %  315 non-null    object \n",
      "dtypes: float64(4), object(3)\n",
      "memory usage: 17.4+ KB\n",
      "None\n",
      " \n",
      "Date        datetime64[ns]\n",
      "Price              float64\n",
      "Open               float64\n",
      "High               float64\n",
      "Low                float64\n",
      "Vol.                object\n",
      "Change %            object\n",
      "dtype: object\n",
      "        Date  Price\n",
      "0 2021-03-31  19.41\n",
      "1 2021-03-30  19.50\n",
      "2 2021-03-29  19.10\n",
      "3 2021-03-26  19.25\n",
      "4 2021-03-25  20.02\n"
     ]
    }
   ],
   "source": [
    "data2 = pd.read_csv(r'C:\\Users\\dgarb\\OneDrive\\Documents\\APZIVA\\Project 5\\Turkey - Koc Holding AS (KCHOL).csv')\n",
    "\n",
    "print(data2.head())\n",
    "print(data2.tail())\n",
    "print(' ')\n",
    "print(data2.info())\n",
    "\n",
    "def convert_date(date_string):\n",
    "    date_datetime = pd.to_datetime(date_string)\n",
    "    return date_datetime\n",
    "\n",
    "data2['Date'] = convert_date(data2.Date)\n",
    "print(' ')\n",
    "print(data2.dtypes)\n",
    "\n",
    "# keep only what is needed\n",
    "data2 = data2[['Date', 'Price']]\n",
    "print(data2.head()) "
   ]
  },
  {
   "cell_type": "code",
   "execution_count": 78,
   "id": "07f041ad-90a5-4f79-8f7d-45c4877b3d93",
   "metadata": {},
   "outputs": [],
   "source": [
    "# sort data by Date\n",
    "data2 = data2.sort_values(by='Date')"
   ]
  },
  {
   "cell_type": "code",
   "execution_count": 79,
   "id": "f9349a9f-a79d-472d-83b5-46d89fc90343",
   "metadata": {},
   "outputs": [
    {
     "data": {
      "text/html": [
       "<div>\n",
       "<style scoped>\n",
       "    .dataframe tbody tr th:only-of-type {\n",
       "        vertical-align: middle;\n",
       "    }\n",
       "\n",
       "    .dataframe tbody tr th {\n",
       "        vertical-align: top;\n",
       "    }\n",
       "\n",
       "    .dataframe thead th {\n",
       "        text-align: right;\n",
       "    }\n",
       "</style>\n",
       "<table border=\"1\" class=\"dataframe\">\n",
       "  <thead>\n",
       "    <tr style=\"text-align: right;\">\n",
       "      <th></th>\n",
       "      <th>Date</th>\n",
       "      <th>Price</th>\n",
       "    </tr>\n",
       "  </thead>\n",
       "  <tbody>\n",
       "    <tr>\n",
       "      <th>314</th>\n",
       "      <td>2020-01-02</td>\n",
       "      <td>20.38</td>\n",
       "    </tr>\n",
       "    <tr>\n",
       "      <th>313</th>\n",
       "      <td>2020-01-03</td>\n",
       "      <td>20.30</td>\n",
       "    </tr>\n",
       "    <tr>\n",
       "      <th>312</th>\n",
       "      <td>2020-01-06</td>\n",
       "      <td>20.08</td>\n",
       "    </tr>\n",
       "    <tr>\n",
       "      <th>311</th>\n",
       "      <td>2020-01-07</td>\n",
       "      <td>19.93</td>\n",
       "    </tr>\n",
       "    <tr>\n",
       "      <th>310</th>\n",
       "      <td>2020-01-08</td>\n",
       "      <td>19.94</td>\n",
       "    </tr>\n",
       "  </tbody>\n",
       "</table>\n",
       "</div>"
      ],
      "text/plain": [
       "          Date  Price\n",
       "314 2020-01-02  20.38\n",
       "313 2020-01-03  20.30\n",
       "312 2020-01-06  20.08\n",
       "311 2020-01-07  19.93\n",
       "310 2020-01-08  19.94"
      ]
     },
     "execution_count": 79,
     "metadata": {},
     "output_type": "execute_result"
    }
   ],
   "source": [
    "data2.head()"
   ]
  },
  {
   "cell_type": "code",
   "execution_count": 80,
   "id": "4ec6ae22-752a-47c0-84e6-c1a8f347406a",
   "metadata": {},
   "outputs": [
    {
     "data": {
      "image/png": "[encoded data removed]",
      "text/plain": [
       "<Figure size 1500x800 with 1 Axes>"
      ]
     },
     "metadata": {},
     "output_type": "display_data"
    }
   ],
   "source": [
    "lineplot(x='Date',y='Price',data_=data2,title_='Stock Price Over Time')"
   ]
  },
  {
   "cell_type": "code",
   "execution_count": 81,
   "id": "0a15948e-c610-46c4-8b37-5f4a8d563f7b",
   "metadata": {},
   "outputs": [
    {
     "name": "stdout",
     "output_type": "stream",
     "text": [
      "2020-01-02 00:00:00\n",
      "2020-12-31 00:00:00\n",
      "min 2021-01-04 00:00:00\n",
      "max   Date     2021-03-31 00:00:00\n",
      "Price                  24.08\n",
      "dtype: object\n"
     ]
    }
   ],
   "source": [
    "# # **create train_data**\n",
    "train_data2 = data2[data2.Date <= '2020-12-31']\n",
    "\n",
    "print(train_data2.Date.min())\n",
    "print(train_data2.Date.max())\n",
    "\n",
    "# **create test_data**\n",
    "test_data2 =data2[data2.Date > '2020-12-31']\n",
    "\n",
    "print('min',test_data2.Date.min())\n",
    "print('max  ',test_data2.max())"
   ]
  },
  {
   "cell_type": "code",
   "execution_count": 82,
   "id": "87990a65-d6b6-4222-844e-4c8fa5364fd6",
   "metadata": {},
   "outputs": [
    {
     "data": {
      "image/png": "[encoded data removed]",
      "text/plain": [
       "<Figure size 1500x800 with 1 Axes>"
      ]
     },
     "metadata": {},
     "output_type": "display_data"
    }
   ],
   "source": [
    "lineplot(x='Date',y='Price',data_=train_data2,title_='Train Data Stock Price Over Time')"
   ]
  },
  {
   "cell_type": "code",
   "execution_count": 83,
   "id": "6bbda23e-a99b-48da-aa5d-2776fb1f8ea6",
   "metadata": {},
   "outputs": [
    {
     "data": {
      "image/png": "[encoded data removed]",
      "text/plain": [
       "<Figure size 1500x800 with 1 Axes>"
      ]
     },
     "metadata": {},
     "output_type": "display_data"
    }
   ],
   "source": [
    "lineplot(x='Date',y='Price',data_=test_data2,title_='Test Data Stock Price Over Time')"
   ]
  },
  {
   "cell_type": "markdown",
   "id": "8999fa4d-4098-4181-8aff-fc447f52fdff",
   "metadata": {},
   "source": [
    "# **Turkey: Moving Average**\n",
    "\n",
    "Calculate the 30-day moving average using the training data2"
   ]
  },
  {
   "cell_type": "code",
   "execution_count": 85,
   "id": "a3f0c43a-fadf-4922-a8be-3fb1a365898d",
   "metadata": {},
   "outputs": [
    {
     "name": "stderr",
     "output_type": "stream",
     "text": [
      "C:\\Users\\dgarb\\AppData\\Local\\Temp\\ipykernel_7748\\1304841286.py:5: SettingWithCopyWarning: \n",
      "A value is trying to be set on a copy of a slice from a DataFrame.\n",
      "Try using .loc[row_indexer,col_indexer] = value instead\n",
      "\n",
      "See the caveats in the documentation: https://pandas.pydata.org/pandas-docs/stable/user_guide/indexing.html#returning-a-view-versus-a-copy\n",
      "  train_data2['30_day_MA'] = train_data2['Price'].rolling(window=window_size).mean()\n"
     ]
    },
    {
     "data": {
      "text/html": [
       "<div>\n",
       "<style scoped>\n",
       "    .dataframe tbody tr th:only-of-type {\n",
       "        vertical-align: middle;\n",
       "    }\n",
       "\n",
       "    .dataframe tbody tr th {\n",
       "        vertical-align: top;\n",
       "    }\n",
       "\n",
       "    .dataframe thead th {\n",
       "        text-align: right;\n",
       "    }\n",
       "</style>\n",
       "<table border=\"1\" class=\"dataframe\">\n",
       "  <thead>\n",
       "    <tr style=\"text-align: right;\">\n",
       "      <th></th>\n",
       "      <th>Date</th>\n",
       "      <th>Forecast</th>\n",
       "    </tr>\n",
       "  </thead>\n",
       "  <tbody>\n",
       "    <tr>\n",
       "      <th>0</th>\n",
       "      <td>2021-01-01</td>\n",
       "      <td>19.333333</td>\n",
       "    </tr>\n",
       "    <tr>\n",
       "      <th>1</th>\n",
       "      <td>2021-01-04</td>\n",
       "      <td>19.327778</td>\n",
       "    </tr>\n",
       "    <tr>\n",
       "      <th>2</th>\n",
       "      <td>2021-01-05</td>\n",
       "      <td>19.334704</td>\n",
       "    </tr>\n",
       "    <tr>\n",
       "      <th>3</th>\n",
       "      <td>2021-01-06</td>\n",
       "      <td>19.343860</td>\n",
       "    </tr>\n",
       "    <tr>\n",
       "      <th>4</th>\n",
       "      <td>2021-01-07</td>\n",
       "      <td>19.364323</td>\n",
       "    </tr>\n",
       "  </tbody>\n",
       "</table>\n",
       "</div>"
      ],
      "text/plain": [
       "        Date   Forecast\n",
       "0 2021-01-01  19.333333\n",
       "1 2021-01-04  19.327778\n",
       "2 2021-01-05  19.334704\n",
       "3 2021-01-06  19.343860\n",
       "4 2021-01-07  19.364323"
      ]
     },
     "execution_count": 85,
     "metadata": {},
     "output_type": "execute_result"
    }
   ],
   "source": [
    "# Calculate the 30-day moving average using the training data2\n",
    "\n",
    "# Note: window size is the number of days you go back to calculate\n",
    "window_size = 30\n",
    "train_data2['30_day_MA'] = train_data2['Price'].rolling(window=window_size).mean()\n",
    "\n",
    "# Define the forecast period (Q1 2021)\n",
    " \n",
    "forecast_period =pd.bdate_range(start='2021-01-01', end='2021-03-31')\n",
    "\n",
    "# Initialize a DataFrame to store the forecasted values\n",
    "forecast_comparison = pd.DataFrame({'Date': forecast_period, 'Forecast': np.nan})\n",
    "\n",
    "# Use the last available 'window_size' days from the training data2 to start the forecast\n",
    "last_window_data2 = train_data2['Price'].iloc[-window_size:].values #generates Numpy array\n",
    "# last_window_data2\n",
    "\n",
    "# Extend the forecast using the moving average logic\n",
    "for i, date in enumerate(forecast_period):\n",
    "    forecast_value = np.mean(last_window_data2)\n",
    "    forecast_comparison.at[i, 'Forecast'] = forecast_value\n",
    "    # Update the window data2 by appending the forecast value and removing the oldest value\n",
    "    last_window_data2 = np.append(last_window_data2[1:], forecast_value)\n",
    "    \n",
    "# Rename columns for consistency in plotting\n",
    "forecast_comparison.head()"
   ]
  },
  {
   "cell_type": "code",
   "execution_count": 86,
   "id": "29a869e8-e107-4e03-a15f-f58c754654ad",
   "metadata": {},
   "outputs": [
    {
     "data": {
      "text/html": [
       "<div>\n",
       "<style scoped>\n",
       "    .dataframe tbody tr th:only-of-type {\n",
       "        vertical-align: middle;\n",
       "    }\n",
       "\n",
       "    .dataframe tbody tr th {\n",
       "        vertical-align: top;\n",
       "    }\n",
       "\n",
       "    .dataframe thead th {\n",
       "        text-align: right;\n",
       "    }\n",
       "</style>\n",
       "<table border=\"1\" class=\"dataframe\">\n",
       "  <thead>\n",
       "    <tr style=\"text-align: right;\">\n",
       "      <th></th>\n",
       "      <th>Date</th>\n",
       "      <th>Price</th>\n",
       "      <th>Forecast</th>\n",
       "    </tr>\n",
       "  </thead>\n",
       "  <tbody>\n",
       "    <tr>\n",
       "      <th>0</th>\n",
       "      <td>2021-01-04</td>\n",
       "      <td>21.20</td>\n",
       "      <td>19.327778</td>\n",
       "    </tr>\n",
       "    <tr>\n",
       "      <th>1</th>\n",
       "      <td>2021-01-05</td>\n",
       "      <td>21.14</td>\n",
       "      <td>19.334704</td>\n",
       "    </tr>\n",
       "    <tr>\n",
       "      <th>2</th>\n",
       "      <td>2021-01-06</td>\n",
       "      <td>21.14</td>\n",
       "      <td>19.343860</td>\n",
       "    </tr>\n",
       "    <tr>\n",
       "      <th>3</th>\n",
       "      <td>2021-01-07</td>\n",
       "      <td>21.10</td>\n",
       "      <td>19.364323</td>\n",
       "    </tr>\n",
       "    <tr>\n",
       "      <th>4</th>\n",
       "      <td>2021-01-08</td>\n",
       "      <td>21.52</td>\n",
       "      <td>19.371800</td>\n",
       "    </tr>\n",
       "  </tbody>\n",
       "</table>\n",
       "</div>"
      ],
      "text/plain": [
       "        Date  Price   Forecast\n",
       "0 2021-01-04  21.20  19.327778\n",
       "1 2021-01-05  21.14  19.334704\n",
       "2 2021-01-06  21.14  19.343860\n",
       "3 2021-01-07  21.10  19.364323\n",
       "4 2021-01-08  21.52  19.371800"
      ]
     },
     "execution_count": 86,
     "metadata": {},
     "output_type": "execute_result"
    }
   ],
   "source": [
    "# Merge test_data2 with forecast_comparison on 'Date'\n",
    "merged_data2 = pd.merge(test_data2, forecast_comparison, on='Date', how='inner')\n",
    "merged_data2.head()"
   ]
  },
  {
   "cell_type": "code",
   "execution_count": 87,
   "id": "f45148b4-0ee7-4892-a80e-6d462c9c4b5d",
   "metadata": {},
   "outputs": [
    {
     "name": "stdout",
     "output_type": "stream",
     "text": [
      "Moving Average MAPE Score\n",
      "3.1272017339574236\n"
     ]
    }
   ],
   "source": [
    "turkey_dict = dict()\n",
    "\n",
    "print('Moving Average MAPE Score')\n",
    "MAPE = calculate_mape(merged_data.Price, merged_data.Forecast)\n",
    "print(MAPE)\n",
    "\n",
    "turkey_dict['Moving Average MAPE Score'] = MAPE"
   ]
  },
  {
   "cell_type": "markdown",
   "id": "c1e1af9d-d20b-411d-b279-ff80bb2fd060",
   "metadata": {},
   "source": [
    "# **Turkey: Exponential Smoothing**"
   ]
  },
  {
   "cell_type": "code",
   "execution_count": 91,
   "id": "b7a9de07-0cd7-4317-9b2b-209a4d32df95",
   "metadata": {},
   "outputs": [
    {
     "name": "stdout",
     "output_type": "stream",
     "text": [
      "          Date   Forecast\n",
      "252 2021-01-01  21.185826\n",
      "253 2021-01-04  21.251652\n",
      "254 2021-01-05  21.317478\n",
      "255 2021-01-06  21.383304\n",
      "256 2021-01-07  21.449130\n",
      "..         ...        ...\n",
      "311 2021-03-25  25.069557\n",
      "312 2021-03-26  25.135383\n",
      "313 2021-03-29  25.201209\n",
      "314 2021-03-30  25.267035\n",
      "315 2021-03-31  25.332861\n",
      "\n",
      "[64 rows x 2 columns]\n"
     ]
    },
    {
     "name": "stderr",
     "output_type": "stream",
     "text": [
      "C:\\Users\\dgarb\\anaconda3\\Lib\\site-packages\\statsmodels\\tsa\\base\\tsa_model.py:473: ValueWarning: An unsupported index was provided and will be ignored when e.g. forecasting.\n",
      "  self._init_dates(dates, freq)\n",
      "C:\\Users\\dgarb\\anaconda3\\Lib\\site-packages\\statsmodels\\tsa\\base\\tsa_model.py:836: ValueWarning: No supported index is available. Prediction results will be given with an integer index beginning at `start`.\n",
      "  return get_prediction_index(\n",
      "C:\\Users\\dgarb\\anaconda3\\Lib\\site-packages\\statsmodels\\tsa\\base\\tsa_model.py:836: FutureWarning: No supported index is available. In the next version, calling this method in a model without a supported index will result in an exception.\n",
      "  return get_prediction_index(\n"
     ]
    }
   ],
   "source": [
    "### import pandas as pd\n",
    "from statsmodels.tsa.holtwinters import ExponentialSmoothing\n",
    "\n",
    "# Fit the model using the 'Price' column\n",
    "model = ExponentialSmoothing(train_data2['Price'], trend='additive', seasonal=None)\n",
    "fit = model.fit()\n",
    "\n",
    "# Generate business days for the first quarter of 2021\n",
    "forecast_dates = pd.date_range(start='2021-01-01', end='2021-03-31', freq='B')\n",
    "steps = len(forecast_dates)\n",
    "\n",
    "# Forecast for the first quarter of 2021\n",
    "forecast = fit.forecast(steps=steps)\n",
    "\n",
    "# Combine the forecast with the dates for the forecast period\n",
    "forecast_df2_exp = pd.DataFrame({'Date': forecast_dates, 'Forecast': forecast})\n",
    "\n",
    "# Print or plot the forecast\n",
    "print(forecast_df2_exp)\n",
    "# forecast_df2_exp.plot(x='Date', y='Forecast', title='Stock Price Forecast')\n"
   ]
  },
  {
   "cell_type": "code",
   "execution_count": 93,
   "id": "84c8568f-cbaa-4c59-9de7-11a748bac2f4",
   "metadata": {},
   "outputs": [
    {
     "data": {
      "text/html": [
       "<div>\n",
       "<style scoped>\n",
       "    .dataframe tbody tr th:only-of-type {\n",
       "        vertical-align: middle;\n",
       "    }\n",
       "\n",
       "    .dataframe tbody tr th {\n",
       "        vertical-align: top;\n",
       "    }\n",
       "\n",
       "    .dataframe thead th {\n",
       "        text-align: right;\n",
       "    }\n",
       "</style>\n",
       "<table border=\"1\" class=\"dataframe\">\n",
       "  <thead>\n",
       "    <tr style=\"text-align: right;\">\n",
       "      <th></th>\n",
       "      <th>Date</th>\n",
       "      <th>Price</th>\n",
       "      <th>Forecast</th>\n",
       "    </tr>\n",
       "  </thead>\n",
       "  <tbody>\n",
       "    <tr>\n",
       "      <th>0</th>\n",
       "      <td>2021-01-04</td>\n",
       "      <td>21.20</td>\n",
       "      <td>21.251652</td>\n",
       "    </tr>\n",
       "    <tr>\n",
       "      <th>1</th>\n",
       "      <td>2021-01-05</td>\n",
       "      <td>21.14</td>\n",
       "      <td>21.317478</td>\n",
       "    </tr>\n",
       "    <tr>\n",
       "      <th>2</th>\n",
       "      <td>2021-01-06</td>\n",
       "      <td>21.14</td>\n",
       "      <td>21.383304</td>\n",
       "    </tr>\n",
       "    <tr>\n",
       "      <th>3</th>\n",
       "      <td>2021-01-07</td>\n",
       "      <td>21.10</td>\n",
       "      <td>21.449130</td>\n",
       "    </tr>\n",
       "    <tr>\n",
       "      <th>4</th>\n",
       "      <td>2021-01-08</td>\n",
       "      <td>21.52</td>\n",
       "      <td>21.514956</td>\n",
       "    </tr>\n",
       "  </tbody>\n",
       "</table>\n",
       "</div>"
      ],
      "text/plain": [
       "        Date  Price   Forecast\n",
       "0 2021-01-04  21.20  21.251652\n",
       "1 2021-01-05  21.14  21.317478\n",
       "2 2021-01-06  21.14  21.383304\n",
       "3 2021-01-07  21.10  21.449130\n",
       "4 2021-01-08  21.52  21.514956"
      ]
     },
     "execution_count": 93,
     "metadata": {},
     "output_type": "execute_result"
    }
   ],
   "source": [
    "# Merge test_data with forecast_df on 'Date'\n",
    "merged_data_exp2 = pd.merge(test_data2, forecast_df2_exp, on='Date', how='inner')\n",
    "merged_data_exp2.head()\n"
   ]
  },
  {
   "cell_type": "code",
   "execution_count": 95,
   "id": "6e03d701-daae-4a0a-985a-4dde57195852",
   "metadata": {},
   "outputs": [
    {
     "name": "stdout",
     "output_type": "stream",
     "text": [
      "Exponential Smoothing MAPE Score\n",
      "7.143134620559723\n"
     ]
    }
   ],
   "source": [
    "\n",
    "print('Exponential Smoothing MAPE Score')\n",
    "MAPE = calculate_mape(merged_data_exp2.Price, merged_data_exp2.Forecast)\n",
    "print(MAPE)\n",
    "turkey_dict['Exponential Smoothing MAPE Score'] = MAPE"
   ]
  },
  {
   "cell_type": "markdown",
   "id": "8241c3f8-7e85-4915-81b6-5a735dbe34d2",
   "metadata": {},
   "source": [
    "# **Turkey: ARIMA**"
   ]
  },
  {
   "cell_type": "code",
   "execution_count": 97,
   "id": "178af098-51c1-4756-838d-bcf561d1e079",
   "metadata": {},
   "outputs": [
    {
     "name": "stdout",
     "output_type": "stream",
     "text": [
      "Performing stepwise search to minimize aic\n",
      " ARIMA(2,1,1)(0,0,0)[0] intercept   : AIC=259.907, Time=0.20 sec\n",
      " ARIMA(0,1,0)(0,0,0)[0] intercept   : AIC=254.949, Time=0.07 sec\n",
      " ARIMA(1,1,0)(0,0,0)[0] intercept   : AIC=256.283, Time=0.07 sec\n",
      " ARIMA(0,1,1)(0,0,0)[0] intercept   : AIC=256.238, Time=0.05 sec\n",
      " ARIMA(0,1,0)(0,0,0)[0]             : AIC=252.963, Time=0.02 sec\n",
      " ARIMA(1,1,1)(0,0,0)[0] intercept   : AIC=257.994, Time=0.15 sec\n",
      "\n",
      "Best model:  ARIMA(0,1,0)(0,0,0)[0]          \n",
      "Total fit time: 0.587 seconds\n",
      "                               SARIMAX Results                                \n",
      "==============================================================================\n",
      "Dep. Variable:                      y   No. Observations:                  252\n",
      "Model:               SARIMAX(0, 1, 0)   Log Likelihood                -125.481\n",
      "Date:                Thu, 22 Aug 2024   AIC                            252.963\n",
      "Time:                        18:14:07   BIC                            256.488\n",
      "Sample:                             0   HQIC                           254.382\n",
      "                                - 252                                         \n",
      "Covariance Type:                  opg                                         \n",
      "==============================================================================\n",
      "                 coef    std err          z      P>|z|      [0.025      0.975]\n",
      "------------------------------------------------------------------------------\n",
      "sigma2         0.1591      0.011     14.188      0.000       0.137       0.181\n",
      "===================================================================================\n",
      "Ljung-Box (L1) (Q):                   0.68   Jarque-Bera (JB):                20.09\n",
      "Prob(Q):                              0.41   Prob(JB):                         0.00\n",
      "Heteroskedasticity (H):               0.58   Skew:                            -0.33\n",
      "Prob(H) (two-sided):                  0.01   Kurtosis:                         4.22\n",
      "===================================================================================\n",
      "\n",
      "Warnings:\n",
      "[1] Covariance matrix calculated using the outer product of gradients (complex-step).\n"
     ]
    },
    {
     "name": "stderr",
     "output_type": "stream",
     "text": [
      "C:\\Users\\dgarb\\anaconda3\\Lib\\site-packages\\statsmodels\\tsa\\base\\tsa_model.py:836: ValueWarning: No supported index is available. Prediction results will be given with an integer index beginning at `start`.\n",
      "  return get_prediction_index(\n",
      "C:\\Users\\dgarb\\anaconda3\\Lib\\site-packages\\statsmodels\\tsa\\base\\tsa_model.py:836: FutureWarning: No supported index is available. In the next version, calling this method in a model without a supported index will result in an exception.\n",
      "  return get_prediction_index(\n"
     ]
    },
    {
     "data": {
      "text/html": [
       "<div>\n",
       "<style scoped>\n",
       "    .dataframe tbody tr th:only-of-type {\n",
       "        vertical-align: middle;\n",
       "    }\n",
       "\n",
       "    .dataframe tbody tr th {\n",
       "        vertical-align: top;\n",
       "    }\n",
       "\n",
       "    .dataframe thead th {\n",
       "        text-align: right;\n",
       "    }\n",
       "</style>\n",
       "<table border=\"1\" class=\"dataframe\">\n",
       "  <thead>\n",
       "    <tr style=\"text-align: right;\">\n",
       "      <th></th>\n",
       "      <th>Date</th>\n",
       "      <th>Forecast</th>\n",
       "    </tr>\n",
       "  </thead>\n",
       "  <tbody>\n",
       "    <tr>\n",
       "      <th>252</th>\n",
       "      <td>2021-01-04</td>\n",
       "      <td>21.12</td>\n",
       "    </tr>\n",
       "    <tr>\n",
       "      <th>253</th>\n",
       "      <td>2021-01-05</td>\n",
       "      <td>21.12</td>\n",
       "    </tr>\n",
       "    <tr>\n",
       "      <th>254</th>\n",
       "      <td>2021-01-06</td>\n",
       "      <td>21.12</td>\n",
       "    </tr>\n",
       "    <tr>\n",
       "      <th>255</th>\n",
       "      <td>2021-01-07</td>\n",
       "      <td>21.12</td>\n",
       "    </tr>\n",
       "    <tr>\n",
       "      <th>256</th>\n",
       "      <td>2021-01-08</td>\n",
       "      <td>21.12</td>\n",
       "    </tr>\n",
       "  </tbody>\n",
       "</table>\n",
       "</div>"
      ],
      "text/plain": [
       "          Date  Forecast\n",
       "252 2021-01-04     21.12\n",
       "253 2021-01-05     21.12\n",
       "254 2021-01-06     21.12\n",
       "255 2021-01-07     21.12\n",
       "256 2021-01-08     21.12"
      ]
     },
     "execution_count": 97,
     "metadata": {},
     "output_type": "execute_result"
    }
   ],
   "source": [
    "### **ARIMA**\n",
    "\n",
    "# Extract the 'Price' series\n",
    "train_prices = train_data2['Price']\n",
    "test_prices = test_data2['Price']\n",
    "\n",
    "# Fit auto_arima model\n",
    "model = auto_arima(train_prices,star1_p=1,start_q=1,max_p=5,max_q=5 ,seasonal=False, trace=True, suppress_warnings=True)\n",
    "print(model.summary())\n",
    "\n",
    "# Forecast the first quarter of 2021 (assuming 90 business days)\n",
    "n_periods = len(test_prices)\n",
    "forecast, conf_int = model.predict(n_periods=n_periods, return_conf_int=True)\n",
    "\n",
    "# Combine forecast with dates\n",
    "forecast_dates = test_data2['Date']\n",
    "forecast_series = pd.Series(forecast, index=forecast_dates)\n",
    "\n",
    "forecast_df_ARIMA2 = pd.DataFrame({\n",
    "    'Date': test_data2['Date'].values,\n",
    "    'Forecast': forecast\n",
    "})\n",
    "forecast_df_ARIMA2.head()\n"
   ]
  },
  {
   "cell_type": "code",
   "execution_count": 99,
   "id": "47d31f10-31df-41ec-b1a4-2369ab5bebb8",
   "metadata": {},
   "outputs": [
    {
     "data": {
      "text/html": [
       "<div>\n",
       "<style scoped>\n",
       "    .dataframe tbody tr th:only-of-type {\n",
       "        vertical-align: middle;\n",
       "    }\n",
       "\n",
       "    .dataframe tbody tr th {\n",
       "        vertical-align: top;\n",
       "    }\n",
       "\n",
       "    .dataframe thead th {\n",
       "        text-align: right;\n",
       "    }\n",
       "</style>\n",
       "<table border=\"1\" class=\"dataframe\">\n",
       "  <thead>\n",
       "    <tr style=\"text-align: right;\">\n",
       "      <th></th>\n",
       "      <th>Date</th>\n",
       "      <th>Price</th>\n",
       "      <th>Forecast</th>\n",
       "    </tr>\n",
       "  </thead>\n",
       "  <tbody>\n",
       "    <tr>\n",
       "      <th>0</th>\n",
       "      <td>2021-01-04</td>\n",
       "      <td>21.20</td>\n",
       "      <td>21.12</td>\n",
       "    </tr>\n",
       "    <tr>\n",
       "      <th>1</th>\n",
       "      <td>2021-01-05</td>\n",
       "      <td>21.14</td>\n",
       "      <td>21.12</td>\n",
       "    </tr>\n",
       "    <tr>\n",
       "      <th>2</th>\n",
       "      <td>2021-01-06</td>\n",
       "      <td>21.14</td>\n",
       "      <td>21.12</td>\n",
       "    </tr>\n",
       "    <tr>\n",
       "      <th>3</th>\n",
       "      <td>2021-01-07</td>\n",
       "      <td>21.10</td>\n",
       "      <td>21.12</td>\n",
       "    </tr>\n",
       "    <tr>\n",
       "      <th>4</th>\n",
       "      <td>2021-01-08</td>\n",
       "      <td>21.52</td>\n",
       "      <td>21.12</td>\n",
       "    </tr>\n",
       "  </tbody>\n",
       "</table>\n",
       "</div>"
      ],
      "text/plain": [
       "        Date  Price  Forecast\n",
       "0 2021-01-04  21.20     21.12\n",
       "1 2021-01-05  21.14     21.12\n",
       "2 2021-01-06  21.14     21.12\n",
       "3 2021-01-07  21.10     21.12\n",
       "4 2021-01-08  21.52     21.12"
      ]
     },
     "execution_count": 99,
     "metadata": {},
     "output_type": "execute_result"
    }
   ],
   "source": [
    "# Merge test_data with forecast_df on 'Date'\n",
    "merged_data_ARIMA2 = pd.merge(test_data2, forecast_df_ARIMA2, on='Date', how='inner')\n",
    "merged_data_ARIMA2.head()\n"
   ]
  },
  {
   "cell_type": "code",
   "execution_count": 101,
   "id": "d993b7c4-d580-4d16-967c-fe86a8310e79",
   "metadata": {},
   "outputs": [
    {
     "name": "stdout",
     "output_type": "stream",
     "text": [
      "ARIMA MAPE Score\n",
      "5.381704470639473\n"
     ]
    }
   ],
   "source": [
    "print('ARIMA MAPE Score')\n",
    "MAPE = calculate_mape(merged_data_ARIMA2.Price,merged_data_ARIMA2.Forecast)\n",
    "print(MAPE)\n",
    "turkey_dict['ARIMA MAPE Score'] = MAPE"
   ]
  },
  {
   "cell_type": "markdown",
   "id": "dc30eecc-b3ff-4fb4-8482-308ae38d4b5f",
   "metadata": {},
   "source": [
    "# **Turkey: LSTM**"
   ]
  },
  {
   "cell_type": "code",
   "execution_count": 103,
   "id": "10c36b3c-8d55-42d4-b5de-36f8d02e92a1",
   "metadata": {},
   "outputs": [
    {
     "name": "stderr",
     "output_type": "stream",
     "text": [
      "C:\\Users\\dgarb\\anaconda3\\Lib\\site-packages\\keras\\src\\layers\\rnn\\rnn.py:204: UserWarning: Do not pass an `input_shape`/`input_dim` argument to a layer. When using Sequential models, prefer using an `Input(shape)` object as the first layer in the model instead.\n",
      "  super().__init__(**kwargs)\n"
     ]
    },
    {
     "name": "stdout",
     "output_type": "stream",
     "text": [
      "\u001b[1m191/191\u001b[0m \u001b[32m━━━━━━━━━━━━━━━━━━━━\u001b[0m\u001b[37m\u001b[0m \u001b[1m11s\u001b[0m 27ms/step - loss: 0.0198\n",
      "<class 'pandas.core.indexes.datetimes.DatetimeIndex'>\n",
      "<class 'numpy.ndarray'>\n",
      "<class 'pandas.core.frame.DataFrame'>\n",
      "RangeIndex: 60 entries, 0 to 59\n",
      "Data columns (total 2 columns):\n",
      " #   Column                   Non-Null Count  Dtype         \n",
      "---  ------                   --------------  -----         \n",
      " 0   forecast_dates           60 non-null     datetime64[ns]\n",
      " 1   forecasted_stock_prices  60 non-null     float64       \n",
      "dtypes: datetime64[ns](1), float64(1)\n",
      "memory usage: 1.1 KB\n",
      "<class 'pandas.core.frame.DataFrame'>\n",
      "Index: 63 entries, 62 to 0\n",
      "Data columns (total 2 columns):\n",
      " #   Column  Non-Null Count  Dtype         \n",
      "---  ------  --------------  -----         \n",
      " 0   Date    63 non-null     datetime64[ns]\n",
      " 1   Price   63 non-null     float64       \n",
      "dtypes: datetime64[ns](1), float64(1)\n",
      "memory usage: 1.5 KB\n"
     ]
    },
    {
     "data": {
      "text/html": [
       "<div>\n",
       "<style scoped>\n",
       "    .dataframe tbody tr th:only-of-type {\n",
       "        vertical-align: middle;\n",
       "    }\n",
       "\n",
       "    .dataframe tbody tr th {\n",
       "        vertical-align: top;\n",
       "    }\n",
       "\n",
       "    .dataframe thead th {\n",
       "        text-align: right;\n",
       "    }\n",
       "</style>\n",
       "<table border=\"1\" class=\"dataframe\">\n",
       "  <thead>\n",
       "    <tr style=\"text-align: right;\">\n",
       "      <th></th>\n",
       "      <th>Date</th>\n",
       "      <th>Price</th>\n",
       "      <th>forecast_dates</th>\n",
       "      <th>forecasted_stock_prices</th>\n",
       "    </tr>\n",
       "  </thead>\n",
       "  <tbody>\n",
       "    <tr>\n",
       "      <th>0</th>\n",
       "      <td>2021-01-04</td>\n",
       "      <td>21.20</td>\n",
       "      <td>2021-01-04</td>\n",
       "      <td>21.139845</td>\n",
       "    </tr>\n",
       "    <tr>\n",
       "      <th>1</th>\n",
       "      <td>2021-01-05</td>\n",
       "      <td>21.14</td>\n",
       "      <td>2021-01-05</td>\n",
       "      <td>21.297764</td>\n",
       "    </tr>\n",
       "    <tr>\n",
       "      <th>2</th>\n",
       "      <td>2021-01-06</td>\n",
       "      <td>21.14</td>\n",
       "      <td>2021-01-06</td>\n",
       "      <td>21.453392</td>\n",
       "    </tr>\n",
       "    <tr>\n",
       "      <th>3</th>\n",
       "      <td>2021-01-07</td>\n",
       "      <td>21.10</td>\n",
       "      <td>2021-01-07</td>\n",
       "      <td>21.607774</td>\n",
       "    </tr>\n",
       "    <tr>\n",
       "      <th>4</th>\n",
       "      <td>2021-01-08</td>\n",
       "      <td>21.52</td>\n",
       "      <td>2021-01-08</td>\n",
       "      <td>21.761479</td>\n",
       "    </tr>\n",
       "  </tbody>\n",
       "</table>\n",
       "</div>"
      ],
      "text/plain": [
       "        Date  Price forecast_dates  forecasted_stock_prices\n",
       "0 2021-01-04  21.20     2021-01-04                21.139845\n",
       "1 2021-01-05  21.14     2021-01-05                21.297764\n",
       "2 2021-01-06  21.14     2021-01-06                21.453392\n",
       "3 2021-01-07  21.10     2021-01-07                21.607774\n",
       "4 2021-01-08  21.52     2021-01-08                21.761479"
      ]
     },
     "execution_count": 103,
     "metadata": {},
     "output_type": "execute_result"
    }
   ],
   "source": [
    "\n",
    "### **LSTM**\n",
    "\n",
    "# Normalize the data2\n",
    "scaler = MinMaxScaler(feature_range=(0, 1))\n",
    "scaled_train_data2 = scaler.fit_transform(train_data2[['Price']])\n",
    "\n",
    "# Create a function to prepare the data2 for LSTM\n",
    "def create_data2set(data2, time_step=1):\n",
    "    X, y = [], []\n",
    "    for i in range(len(data2) - time_step - 1):\n",
    "        X.append(data2[i:(i + time_step), 0])\n",
    "        y.append(data2[i + time_step, 0])\n",
    "    return np.array(X), np.array(y)\n",
    "\n",
    "time_step = 60\n",
    "X_train, y_train = create_data2set(scaled_train_data2, time_step)\n",
    "\n",
    "# Reshape input to be [samples, time steps, features] which is required for LSTM\n",
    "X_train = X_train.reshape(X_train.shape[0], X_train.shape[1], 1)\n",
    "\n",
    "# Build the LSTM model\n",
    "\n",
    "model = Sequential()\n",
    "model.add(LSTM(units=50, return_sequences=True, input_shape=(time_step, 1)))\n",
    "model.add(Dropout(0.2))\n",
    "model.add(LSTM(units=50, return_sequences=False))\n",
    "model.add(Dropout(0.2))\n",
    "model.add(Dense(units=25))\n",
    "model.add(Dense(units=1))\n",
    "\n",
    "# Compile the model\n",
    "model.compile(optimizer='adam', loss='mean_squared_error')\n",
    "\n",
    "# Train the model\n",
    "model.fit(X_train, y_train, batch_size=1, epochs=1)\n",
    "\n",
    "# Forecast the first quarter of 2021\n",
    "n_future_days = 60  # Assuming there are 60 trading days in the first quarter of 2021\n",
    "x_input = scaled_train_data2[-time_step:].reshape(1, -1)#=>scaled_train_data2[-60:]\n",
    "temp_input = list(x_input)\n",
    "temp_input = temp_input[0].tolist()\n",
    "\n",
    "# Generate predictions for the next 60 days\n",
    "lst_output = []\n",
    "i = 0\n",
    "while i < n_future_days:\n",
    "    if len(temp_input) > time_step:\n",
    "        x_input = np.array(temp_input[1:])\n",
    "        x_input = x_input.reshape(1, -1)\n",
    "        x_input = x_input.reshape((1, time_step, 1))\n",
    "        yhat = model.predict(x_input, verbose=0)\n",
    "        temp_input.extend(yhat[0].tolist())\n",
    "        temp_input = temp_input[1:]\n",
    "        lst_output.extend(yhat.tolist())\n",
    "        i += 1\n",
    "    else:\n",
    "        x_input = x_input.reshape((1, time_step, 1))\n",
    "        yhat = model.predict(x_input, verbose=0)\n",
    "        temp_input.extend(yhat[0].tolist())\n",
    "        lst_output.extend(yhat.tolist())\n",
    "        i += 1\n",
    "\n",
    "# Transform the forecasted data2 back to original scale\n",
    "forecasted_stock_prices = scaler.inverse_transform(lst_output)\n",
    "\n",
    "# Create a date range for the forecasted data2\n",
    "last_date = train_data2['Date'].max()\n",
    "forecast_dates = pd.date_range(start=last_date + pd.Timedelta(days=1), periods=n_future_days, freq='B')  # Business days\n",
    "\n",
    "print(type(forecast_dates))\n",
    "# list(forecast_dates)\n",
    "print(type(forecasted_stock_prices))\n",
    "forecasted_stock_prices = forecasted_stock_prices.reshape(-1)\n",
    "\n",
    "dict_forecast = {'forecast_dates':list(forecast_dates) , 'forecasted_stock_prices':list(forecasted_stock_prices)}\n",
    "forecast_comparison = pd.DataFrame(dict_forecast)\n",
    "\n",
    "forecast_comparison.info()\n",
    "\n",
    "test_data2.info()\n",
    "\n",
    "comparison = test_data2.merge(forecast_comparison, left_on='Date', right_on='forecast_dates', how='inner')\n",
    "\n",
    "comparison.head()"
   ]
  },
  {
   "cell_type": "code",
   "execution_count": 104,
   "id": "320cac26-4dfa-419c-80ee-2ec3aa86d398",
   "metadata": {},
   "outputs": [
    {
     "data": {
      "text/plain": [
       "Index(['Date', 'Price', 'forecast_dates', 'forecasted_stock_prices'], dtype='object')"
      ]
     },
     "execution_count": 104,
     "metadata": {},
     "output_type": "execute_result"
    }
   ],
   "source": [
    "comparison.columns"
   ]
  },
  {
   "cell_type": "code",
   "execution_count": 105,
   "id": "147de2f4-d56b-42c8-b39d-8466d56a394e",
   "metadata": {},
   "outputs": [
    {
     "data": {
      "text/html": [
       "<div>\n",
       "<style scoped>\n",
       "    .dataframe tbody tr th:only-of-type {\n",
       "        vertical-align: middle;\n",
       "    }\n",
       "\n",
       "    .dataframe tbody tr th {\n",
       "        vertical-align: top;\n",
       "    }\n",
       "\n",
       "    .dataframe thead th {\n",
       "        text-align: right;\n",
       "    }\n",
       "</style>\n",
       "<table border=\"1\" class=\"dataframe\">\n",
       "  <thead>\n",
       "    <tr style=\"text-align: right;\">\n",
       "      <th></th>\n",
       "      <th>Date</th>\n",
       "      <th>Price</th>\n",
       "      <th>Forecast</th>\n",
       "    </tr>\n",
       "  </thead>\n",
       "  <tbody>\n",
       "    <tr>\n",
       "      <th>0</th>\n",
       "      <td>2021-01-04</td>\n",
       "      <td>21.20</td>\n",
       "      <td>21.139845</td>\n",
       "    </tr>\n",
       "    <tr>\n",
       "      <th>1</th>\n",
       "      <td>2021-01-05</td>\n",
       "      <td>21.14</td>\n",
       "      <td>21.297764</td>\n",
       "    </tr>\n",
       "    <tr>\n",
       "      <th>2</th>\n",
       "      <td>2021-01-06</td>\n",
       "      <td>21.14</td>\n",
       "      <td>21.453392</td>\n",
       "    </tr>\n",
       "  </tbody>\n",
       "</table>\n",
       "</div>"
      ],
      "text/plain": [
       "        Date  Price   Forecast\n",
       "0 2021-01-04  21.20  21.139845\n",
       "1 2021-01-05  21.14  21.297764\n",
       "2 2021-01-06  21.14  21.453392"
      ]
     },
     "execution_count": 105,
     "metadata": {},
     "output_type": "execute_result"
    }
   ],
   "source": [
    "\n",
    "forecast_df_LSTM2 = comparison[['Date', 'Price','forecasted_stock_prices']]\n",
    "forecast_df_LSTM2.columns = ['Date', 'Price', 'Forecast']\n",
    "forecast_df_LSTM2.head(3)"
   ]
  },
  {
   "cell_type": "markdown",
   "id": "3cade949-3bff-4fd1-b714-f2f17e308e2f",
   "metadata": {},
   "source": [
    "Note that test_data2 was merged with the Forecasts when the DataFrame, comparison was created."
   ]
  },
  {
   "cell_type": "code",
   "execution_count": 106,
   "id": "ba2cf285-86f6-473c-87de-eac2347b1e44",
   "metadata": {},
   "outputs": [
    {
     "name": "stdout",
     "output_type": "stream",
     "text": [
      "LSTM MAPE Score\n",
      "14.131276352116592\n"
     ]
    }
   ],
   "source": [
    "print('LSTM MAPE Score')\n",
    "MAPE = calculate_mape(forecast_df_LSTM2.Price, forecast_df_LSTM2.Forecast)\n",
    "print(MAPE)\n",
    "turkey_dict['LSTM MAPE Score'] = MAPE"
   ]
  },
  {
   "cell_type": "markdown",
   "id": "fadaf53b-e7d4-4df0-9b31-8ed77bf8bbe0",
   "metadata": {},
   "source": [
    "# **Turkey: Prophet**"
   ]
  },
  {
   "cell_type": "code",
   "execution_count": 111,
   "id": "9ff8c45a-334d-4909-844b-c98e5ebd17fb",
   "metadata": {},
   "outputs": [
    {
     "data": {
      "text/html": [
       "<div>\n",
       "<style scoped>\n",
       "    .dataframe tbody tr th:only-of-type {\n",
       "        vertical-align: middle;\n",
       "    }\n",
       "\n",
       "    .dataframe tbody tr th {\n",
       "        vertical-align: top;\n",
       "    }\n",
       "\n",
       "    .dataframe thead th {\n",
       "        text-align: right;\n",
       "    }\n",
       "</style>\n",
       "<table border=\"1\" class=\"dataframe\">\n",
       "  <thead>\n",
       "    <tr style=\"text-align: right;\">\n",
       "      <th></th>\n",
       "      <th>Date</th>\n",
       "      <th>Price</th>\n",
       "    </tr>\n",
       "  </thead>\n",
       "  <tbody>\n",
       "    <tr>\n",
       "      <th>314</th>\n",
       "      <td>2020-01-02</td>\n",
       "      <td>20.38</td>\n",
       "    </tr>\n",
       "    <tr>\n",
       "      <th>313</th>\n",
       "      <td>2020-01-03</td>\n",
       "      <td>20.30</td>\n",
       "    </tr>\n",
       "    <tr>\n",
       "      <th>312</th>\n",
       "      <td>2020-01-06</td>\n",
       "      <td>20.08</td>\n",
       "    </tr>\n",
       "    <tr>\n",
       "      <th>311</th>\n",
       "      <td>2020-01-07</td>\n",
       "      <td>19.93</td>\n",
       "    </tr>\n",
       "    <tr>\n",
       "      <th>310</th>\n",
       "      <td>2020-01-08</td>\n",
       "      <td>19.94</td>\n",
       "    </tr>\n",
       "  </tbody>\n",
       "</table>\n",
       "</div>"
      ],
      "text/plain": [
       "          Date  Price\n",
       "314 2020-01-02  20.38\n",
       "313 2020-01-03  20.30\n",
       "312 2020-01-06  20.08\n",
       "311 2020-01-07  19.93\n",
       "310 2020-01-08  19.94"
      ]
     },
     "execution_count": 111,
     "metadata": {},
     "output_type": "execute_result"
    }
   ],
   "source": [
    "data2.head()"
   ]
  },
  {
   "cell_type": "code",
   "execution_count": 113,
   "id": "306573f9-66cd-417e-8a11-6432274575d4",
   "metadata": {},
   "outputs": [
    {
     "data": {
      "text/html": [
       "<div>\n",
       "<style scoped>\n",
       "    .dataframe tbody tr th:only-of-type {\n",
       "        vertical-align: middle;\n",
       "    }\n",
       "\n",
       "    .dataframe tbody tr th {\n",
       "        vertical-align: top;\n",
       "    }\n",
       "\n",
       "    .dataframe thead th {\n",
       "        text-align: right;\n",
       "    }\n",
       "</style>\n",
       "<table border=\"1\" class=\"dataframe\">\n",
       "  <thead>\n",
       "    <tr style=\"text-align: right;\">\n",
       "      <th></th>\n",
       "      <th>ds</th>\n",
       "      <th>y</th>\n",
       "    </tr>\n",
       "  </thead>\n",
       "  <tbody>\n",
       "    <tr>\n",
       "      <th>314</th>\n",
       "      <td>2020-01-02</td>\n",
       "      <td>20.38</td>\n",
       "    </tr>\n",
       "    <tr>\n",
       "      <th>313</th>\n",
       "      <td>2020-01-03</td>\n",
       "      <td>20.30</td>\n",
       "    </tr>\n",
       "    <tr>\n",
       "      <th>312</th>\n",
       "      <td>2020-01-06</td>\n",
       "      <td>20.08</td>\n",
       "    </tr>\n",
       "    <tr>\n",
       "      <th>311</th>\n",
       "      <td>2020-01-07</td>\n",
       "      <td>19.93</td>\n",
       "    </tr>\n",
       "    <tr>\n",
       "      <th>310</th>\n",
       "      <td>2020-01-08</td>\n",
       "      <td>19.94</td>\n",
       "    </tr>\n",
       "  </tbody>\n",
       "</table>\n",
       "</div>"
      ],
      "text/plain": [
       "            ds      y\n",
       "314 2020-01-02  20.38\n",
       "313 2020-01-03  20.30\n",
       "312 2020-01-06  20.08\n",
       "311 2020-01-07  19.93\n",
       "310 2020-01-08  19.94"
      ]
     },
     "execution_count": 113,
     "metadata": {},
     "output_type": "execute_result"
    }
   ],
   "source": [
    "# Prepare data for Prophet\n",
    "df2 = pd.DataFrame()\n",
    "df2['ds'] = pd.to_datetime(data2['Date'])\n",
    "df2['y'] = data2['Price']\n",
    "df2.head()\n"
   ]
  },
  {
   "cell_type": "code",
   "execution_count": 115,
   "id": "31ee6389-f48c-44b4-a151-ce39aa5d84c8",
   "metadata": {},
   "outputs": [
    {
     "data": {
      "text/html": [
       "<div>\n",
       "<style scoped>\n",
       "    .dataframe tbody tr th:only-of-type {\n",
       "        vertical-align: middle;\n",
       "    }\n",
       "\n",
       "    .dataframe tbody tr th {\n",
       "        vertical-align: top;\n",
       "    }\n",
       "\n",
       "    .dataframe thead th {\n",
       "        text-align: right;\n",
       "    }\n",
       "</style>\n",
       "<table border=\"1\" class=\"dataframe\">\n",
       "  <thead>\n",
       "    <tr style=\"text-align: right;\">\n",
       "      <th></th>\n",
       "      <th>ds</th>\n",
       "      <th>y</th>\n",
       "    </tr>\n",
       "  </thead>\n",
       "  <tbody>\n",
       "    <tr>\n",
       "      <th>314</th>\n",
       "      <td>2020-01-02</td>\n",
       "      <td>20.38</td>\n",
       "    </tr>\n",
       "    <tr>\n",
       "      <th>313</th>\n",
       "      <td>2020-01-03</td>\n",
       "      <td>20.30</td>\n",
       "    </tr>\n",
       "    <tr>\n",
       "      <th>312</th>\n",
       "      <td>2020-01-06</td>\n",
       "      <td>20.08</td>\n",
       "    </tr>\n",
       "    <tr>\n",
       "      <th>311</th>\n",
       "      <td>2020-01-07</td>\n",
       "      <td>19.93</td>\n",
       "    </tr>\n",
       "    <tr>\n",
       "      <th>310</th>\n",
       "      <td>2020-01-08</td>\n",
       "      <td>19.94</td>\n",
       "    </tr>\n",
       "  </tbody>\n",
       "</table>\n",
       "</div>"
      ],
      "text/plain": [
       "            ds      y\n",
       "314 2020-01-02  20.38\n",
       "313 2020-01-03  20.30\n",
       "312 2020-01-06  20.08\n",
       "311 2020-01-07  19.93\n",
       "310 2020-01-08  19.94"
      ]
     },
     "execution_count": 115,
     "metadata": {},
     "output_type": "execute_result"
    }
   ],
   "source": [
    "# **create train_data2**\n",
    "df2_train = df2[df2.ds <= '2020-12-31' ]\n",
    "\n",
    "df2_train.head()"
   ]
  },
  {
   "cell_type": "code",
   "execution_count": 117,
   "id": "2a0ce45c-978d-4ed9-917a-add13dc98d0a",
   "metadata": {},
   "outputs": [
    {
     "data": {
      "text/html": [
       "<div>\n",
       "<style scoped>\n",
       "    .dataframe tbody tr th:only-of-type {\n",
       "        vertical-align: middle;\n",
       "    }\n",
       "\n",
       "    .dataframe tbody tr th {\n",
       "        vertical-align: top;\n",
       "    }\n",
       "\n",
       "    .dataframe thead th {\n",
       "        text-align: right;\n",
       "    }\n",
       "</style>\n",
       "<table border=\"1\" class=\"dataframe\">\n",
       "  <thead>\n",
       "    <tr style=\"text-align: right;\">\n",
       "      <th></th>\n",
       "      <th>ds</th>\n",
       "      <th>y</th>\n",
       "    </tr>\n",
       "  </thead>\n",
       "  <tbody>\n",
       "    <tr>\n",
       "      <th>62</th>\n",
       "      <td>2021-01-04</td>\n",
       "      <td>21.20</td>\n",
       "    </tr>\n",
       "    <tr>\n",
       "      <th>61</th>\n",
       "      <td>2021-01-05</td>\n",
       "      <td>21.14</td>\n",
       "    </tr>\n",
       "    <tr>\n",
       "      <th>60</th>\n",
       "      <td>2021-01-06</td>\n",
       "      <td>21.14</td>\n",
       "    </tr>\n",
       "    <tr>\n",
       "      <th>59</th>\n",
       "      <td>2021-01-07</td>\n",
       "      <td>21.10</td>\n",
       "    </tr>\n",
       "    <tr>\n",
       "      <th>58</th>\n",
       "      <td>2021-01-08</td>\n",
       "      <td>21.52</td>\n",
       "    </tr>\n",
       "  </tbody>\n",
       "</table>\n",
       "</div>"
      ],
      "text/plain": [
       "           ds      y\n",
       "62 2021-01-04  21.20\n",
       "61 2021-01-05  21.14\n",
       "60 2021-01-06  21.14\n",
       "59 2021-01-07  21.10\n",
       "58 2021-01-08  21.52"
      ]
     },
     "execution_count": 117,
     "metadata": {},
     "output_type": "execute_result"
    }
   ],
   "source": [
    "# **create test_data2**\n",
    "df2_test = df2[df2.ds > '2020-12-31' ]\n",
    "\n",
    "df2_test.head()"
   ]
  },
  {
   "cell_type": "code",
   "execution_count": 119,
   "id": "e7493acd-758f-4bbc-afe1-8ac0cacbab4e",
   "metadata": {},
   "outputs": [
    {
     "name": "stdout",
     "output_type": "stream",
     "text": [
      "initial =  84\n",
      "period =  42\n",
      "horizon =  21\n"
     ]
    }
   ],
   "source": [
    "total_days = 252\n",
    "\n",
    "initial=total_days//3\n",
    "print('initial = ',initial)\n",
    "\n",
    "period=total_days//6\n",
    "print('period = ',period)\n",
    "\n",
    "horizon=total_days//12\n",
    "print('horizon = ', horizon)"
   ]
  },
  {
   "cell_type": "code",
   "execution_count": 121,
   "id": "314e223a-aaf7-451e-be31-a789de4ce866",
   "metadata": {},
   "outputs": [],
   "source": [
    "from prophet import Prophet\n",
    "from prophet.diagnostics import cross_validation, performance_metrics\n",
    "import itertools\n",
    "import pandas as pd  # Import pandas\n",
    "import numpy as np   # Import numpy \n",
    "\n",
    "def optimize_prophet(df_train = None,total_days = 249, \n",
    "                     params = {\n",
    "    \n",
    "        'changepoint_prior_scale': [0.001, 0.01],\n",
    "        'seasonality_prior_scale': [0.01, 0.1],\n",
    "        'holidays_prior_scale': [0.01],\n",
    "        'seasonality_mode': ['additive']\n",
    "    }\n",
    "                    ):\n",
    "    param_grid = params\n",
    "    all_params = [dict(zip(param_grid.keys(), v)) for v in itertools.product(*param_grid.values())]\n",
    "\n",
    "    best_mape = float('inf')\n",
    "    best_params = {}\n",
    "    # total_days = (df_train['ds'].max() - df_train['ds'].min()).days\n",
    "    total_days = total_days\n",
    "#initial=total_days//3\n",
    "#period=total_days//6\n",
    "#horizon=total_days//12\n",
    "# initial =  83\n",
    "# period =  41\n",
    "# horizon =  20\n",
    "\n",
    "    initial = '84 days'\n",
    "    period = '42 days'\n",
    "    horizon = '21 days'\n",
    "\n",
    "    for params in all_params:\n",
    "            model = Prophet(\n",
    "                changepoint_prior_scale=params['changepoint_prior_scale'],\n",
    "                seasonality_prior_scale=params['seasonality_prior_scale'],\n",
    "                holidays_prior_scale=params['holidays_prior_scale'],\n",
    "                seasonality_mode=params['seasonality_mode'],\n",
    "                daily_seasonality=True,\n",
    "                weekly_seasonality=True,\n",
    "                yearly_seasonality=True\n",
    "            )\n",
    "\n",
    "            model.add_country_holidays(country_name='Turkey')\n",
    "            model.fit(df_train)\n",
    "            try:\n",
    "                df_cv = cross_validation(model, initial=initial, period=period, horizon=horizon)\n",
    "\n",
    "                df_p = performance_metrics(df_cv)\n",
    "                mape=df_p['mape'].mean()\n",
    "\n",
    "                if mape<best_mape:\n",
    "                  best_mape=mape\n",
    "                  best_params=params\n",
    "                print(f'MAPE:{mape:.2f}, PARAM:{params}')\n",
    "            except ValueError as e:\n",
    "              print(\"skipping param\")\n",
    "              continue\n",
    "    return best_mape,  best_params\n"
   ]
  },
  {
   "cell_type": "code",
   "execution_count": 123,
   "id": "05bb4ee0-17b1-4cdb-9835-2a023fc8bf58",
   "metadata": {},
   "outputs": [],
   "source": [
    "def func_test_forecast_MAPE(\n",
    "best_mape_from_function = None,\n",
    "params = None,\n",
    "country = 'Turkey',\n",
    "df_train = df2_train):\n",
    "\n",
    "    # Initialize the Prophet model with hyperparameters\n",
    "    model = Prophet(\n",
    "        changepoint_prior_scale=params['changepoint_prior_scale'],\n",
    "        seasonality_prior_scale=params['seasonality_prior_scale'],\n",
    "        holidays_prior_scale=params['holidays_prior_scale'],\n",
    "        seasonality_mode=params['seasonality_mode'],\n",
    "        daily_seasonality=True,\n",
    "        weekly_seasonality=True,\n",
    "        yearly_seasonality=True\n",
    "    )\n",
    "    \n",
    "    # Add country holidays\n",
    "    model.add_country_holidays(country_name=country) \n",
    "    \n",
    "    # Fit the model\n",
    "    model.fit(df_train)   \n",
    "    \n",
    "    # Create a DataFrame for future predictions (Business days only)\n",
    "    future = model.make_future_dataframe(periods=90, freq='B')\n",
    "    \n",
    "    # Predict future values\n",
    "    forecast = model.predict(future)\n",
    "    \n",
    "    print(forecast[['ds','yhat']].head())\n",
    "    print(forecast[['ds','yhat']].tail())\n",
    "    \n",
    "    forecast_df = forecast[['ds','yhat']]\n",
    "    \n",
    "    forecast_df.shape\n",
    "    mask = forecast_df.ds > '2020-12-31'\n",
    "    \n",
    "    print(' ')\n",
    "    print('best_mape_from_fuction = best_mape',best_mape)\n",
    "    print(' ') \n",
    "    print('best_params_from_function = ', best_params)\n",
    "    \n",
    "    forecast_df = forecast_df[mask]\n",
    "    \n",
    "    print('forecast_df.shape = ', forecast_df.shape)\n",
    "    \n",
    "    merged_data = pd.merge(df2_test, forecast_df, on='ds', how='inner')\n",
    "    print('merged_data.shape = ', merged_data.shape)\n",
    "    print(' ')\n",
    "    MAPE_Score = calculate_mape(actual=merged_data.y, forecast=merged_data.yhat)\n",
    "    print('MAPE_Score = ', MAPE_Score)\n",
    "    print(' ')\n",
    "    return forecast_df, merged_data, MAPE_Score"
   ]
  },
  {
   "cell_type": "code",
   "execution_count": 125,
   "id": "1c8f2a38-0a8e-428e-88a8-5b3c0263e0ad",
   "metadata": {},
   "outputs": [
    {
     "name": "stderr",
     "output_type": "stream",
     "text": [
      "18:28:08 - cmdstanpy - INFO - Chain [1] start processing\n",
      "18:28:08 - cmdstanpy - INFO - Chain [1] done processing\n",
      "18:28:08 - cmdstanpy - ERROR - Chain [1] error: error during processing Operation not permitted\n",
      "Optimization terminated abnormally. Falling back to Newton.\n",
      "18:28:08 - cmdstanpy - INFO - Chain [1] start processing\n",
      "18:28:09 - cmdstanpy - INFO - Chain [1] done processing\n",
      "Seasonality has period of 365.25 days which is larger than initial window. Consider increasing initial.\n"
     ]
    },
    {
     "data": {
      "application/vnd.jupyter.widget-view+json": {
       "model_id": "d195119bde734923a3ca26cb87ddffd8",
       "version_major": 2,
       "version_minor": 0
      },
      "text/plain": [
       "  0%|          | 0/7 [00:00<?, ?it/s]"
      ]
     },
     "metadata": {},
     "output_type": "display_data"
    },
    {
     "name": "stderr",
     "output_type": "stream",
     "text": [
      "18:28:09 - cmdstanpy - INFO - Chain [1] start processing\n",
      "18:28:10 - cmdstanpy - INFO - Chain [1] done processing\n",
      "18:28:10 - cmdstanpy - INFO - Chain [1] start processing\n",
      "18:28:10 - cmdstanpy - INFO - Chain [1] done processing\n",
      "18:28:11 - cmdstanpy - INFO - Chain [1] start processing\n",
      "18:28:11 - cmdstanpy - INFO - Chain [1] done processing\n",
      "18:28:11 - cmdstanpy - ERROR - Chain [1] error: error during processing Operation not permitted\n",
      "Optimization terminated abnormally. Falling back to Newton.\n",
      "18:28:11 - cmdstanpy - INFO - Chain [1] start processing\n",
      "18:28:11 - cmdstanpy - INFO - Chain [1] done processing\n",
      "18:28:11 - cmdstanpy - INFO - Chain [1] start processing\n",
      "18:28:11 - cmdstanpy - INFO - Chain [1] done processing\n",
      "18:28:12 - cmdstanpy - INFO - Chain [1] start processing\n",
      "18:28:12 - cmdstanpy - INFO - Chain [1] done processing\n",
      "18:28:12 - cmdstanpy - INFO - Chain [1] start processing\n",
      "18:28:12 - cmdstanpy - INFO - Chain [1] done processing\n",
      "18:28:12 - cmdstanpy - INFO - Chain [1] start processing\n",
      "18:28:12 - cmdstanpy - INFO - Chain [1] done processing\n",
      "18:28:12 - cmdstanpy - ERROR - Chain [1] error: error during processing Operation not permitted\n",
      "Optimization terminated abnormally. Falling back to Newton.\n",
      "18:28:13 - cmdstanpy - INFO - Chain [1] start processing\n",
      "18:28:13 - cmdstanpy - INFO - Chain [1] done processing\n"
     ]
    },
    {
     "name": "stdout",
     "output_type": "stream",
     "text": [
      "MAPE:0.12, PARAM:{'changepoint_prior_scale': 0.001, 'seasonality_prior_scale': 0.01, 'holidays_prior_scale': 0.01, 'seasonality_mode': 'additive'}\n"
     ]
    },
    {
     "name": "stderr",
     "output_type": "stream",
     "text": [
      "18:28:14 - cmdstanpy - INFO - Chain [1] start processing\n",
      "18:28:14 - cmdstanpy - INFO - Chain [1] done processing\n",
      "18:28:14 - cmdstanpy - ERROR - Chain [1] error: error during processing Operation not permitted\n",
      "Optimization terminated abnormally. Falling back to Newton.\n",
      "18:28:14 - cmdstanpy - INFO - Chain [1] start processing\n",
      "18:28:14 - cmdstanpy - INFO - Chain [1] done processing\n",
      "Seasonality has period of 365.25 days which is larger than initial window. Consider increasing initial.\n"
     ]
    },
    {
     "data": {
      "application/vnd.jupyter.widget-view+json": {
       "model_id": "0731902ce8e54e4b9c983d30e8fb48f9",
       "version_major": 2,
       "version_minor": 0
      },
      "text/plain": [
       "  0%|          | 0/7 [00:00<?, ?it/s]"
      ]
     },
     "metadata": {},
     "output_type": "display_data"
    },
    {
     "name": "stderr",
     "output_type": "stream",
     "text": [
      "18:28:15 - cmdstanpy - INFO - Chain [1] start processing\n",
      "18:28:15 - cmdstanpy - INFO - Chain [1] done processing\n",
      "18:28:15 - cmdstanpy - INFO - Chain [1] start processing\n",
      "18:28:15 - cmdstanpy - INFO - Chain [1] done processing\n",
      "18:28:16 - cmdstanpy - INFO - Chain [1] start processing\n",
      "18:28:16 - cmdstanpy - INFO - Chain [1] done processing\n",
      "18:28:16 - cmdstanpy - ERROR - Chain [1] error: error during processing Operation not permitted\n",
      "Optimization terminated abnormally. Falling back to Newton.\n",
      "18:28:16 - cmdstanpy - INFO - Chain [1] start processing\n",
      "18:28:16 - cmdstanpy - INFO - Chain [1] done processing\n",
      "18:28:16 - cmdstanpy - INFO - Chain [1] start processing\n",
      "18:28:17 - cmdstanpy - INFO - Chain [1] done processing\n",
      "18:28:17 - cmdstanpy - INFO - Chain [1] start processing\n",
      "18:28:17 - cmdstanpy - INFO - Chain [1] done processing\n",
      "18:28:17 - cmdstanpy - INFO - Chain [1] start processing\n",
      "18:28:17 - cmdstanpy - INFO - Chain [1] done processing\n",
      "18:28:18 - cmdstanpy - INFO - Chain [1] start processing\n",
      "18:28:18 - cmdstanpy - INFO - Chain [1] done processing\n",
      "18:28:18 - cmdstanpy - ERROR - Chain [1] error: error during processing Operation not permitted\n",
      "Optimization terminated abnormally. Falling back to Newton.\n",
      "18:28:18 - cmdstanpy - INFO - Chain [1] start processing\n",
      "18:28:19 - cmdstanpy - INFO - Chain [1] done processing\n"
     ]
    },
    {
     "name": "stdout",
     "output_type": "stream",
     "text": [
      "MAPE:0.14, PARAM:{'changepoint_prior_scale': 0.001, 'seasonality_prior_scale': 0.1, 'holidays_prior_scale': 0.01, 'seasonality_mode': 'additive'}\n"
     ]
    },
    {
     "name": "stderr",
     "output_type": "stream",
     "text": [
      "18:28:19 - cmdstanpy - INFO - Chain [1] start processing\n",
      "18:28:19 - cmdstanpy - INFO - Chain [1] done processing\n",
      "18:28:19 - cmdstanpy - ERROR - Chain [1] error: error during processing Operation not permitted\n",
      "Optimization terminated abnormally. Falling back to Newton.\n",
      "18:28:19 - cmdstanpy - INFO - Chain [1] start processing\n",
      "18:28:20 - cmdstanpy - INFO - Chain [1] done processing\n",
      "Seasonality has period of 365.25 days which is larger than initial window. Consider increasing initial.\n"
     ]
    },
    {
     "data": {
      "application/vnd.jupyter.widget-view+json": {
       "model_id": "d241f41d868d4b049caf530195de75df",
       "version_major": 2,
       "version_minor": 0
      },
      "text/plain": [
       "  0%|          | 0/7 [00:00<?, ?it/s]"
      ]
     },
     "metadata": {},
     "output_type": "display_data"
    },
    {
     "name": "stderr",
     "output_type": "stream",
     "text": [
      "18:28:20 - cmdstanpy - INFO - Chain [1] start processing\n",
      "18:28:21 - cmdstanpy - INFO - Chain [1] done processing\n",
      "18:28:21 - cmdstanpy - INFO - Chain [1] start processing\n",
      "18:28:21 - cmdstanpy - INFO - Chain [1] done processing\n",
      "18:28:22 - cmdstanpy - INFO - Chain [1] start processing\n",
      "18:28:22 - cmdstanpy - INFO - Chain [1] done processing\n",
      "18:28:22 - cmdstanpy - ERROR - Chain [1] error: error during processing Operation not permitted\n",
      "Optimization terminated abnormally. Falling back to Newton.\n",
      "18:28:22 - cmdstanpy - INFO - Chain [1] start processing\n",
      "18:28:24 - cmdstanpy - INFO - Chain [1] done processing\n",
      "18:28:24 - cmdstanpy - INFO - Chain [1] start processing\n",
      "18:28:25 - cmdstanpy - INFO - Chain [1] done processing\n",
      "18:28:25 - cmdstanpy - INFO - Chain [1] start processing\n",
      "18:28:25 - cmdstanpy - INFO - Chain [1] done processing\n",
      "18:28:25 - cmdstanpy - INFO - Chain [1] start processing\n",
      "18:28:25 - cmdstanpy - INFO - Chain [1] done processing\n",
      "18:28:26 - cmdstanpy - INFO - Chain [1] start processing\n",
      "18:28:26 - cmdstanpy - INFO - Chain [1] done processing\n",
      "18:28:26 - cmdstanpy - ERROR - Chain [1] error: error during processing Operation not permitted\n",
      "Optimization terminated abnormally. Falling back to Newton.\n",
      "18:28:26 - cmdstanpy - INFO - Chain [1] start processing\n",
      "18:28:28 - cmdstanpy - INFO - Chain [1] done processing\n"
     ]
    },
    {
     "name": "stdout",
     "output_type": "stream",
     "text": [
      "MAPE:0.21, PARAM:{'changepoint_prior_scale': 0.001, 'seasonality_prior_scale': 0.15, 'holidays_prior_scale': 0.01, 'seasonality_mode': 'additive'}\n"
     ]
    },
    {
     "name": "stderr",
     "output_type": "stream",
     "text": [
      "18:28:28 - cmdstanpy - INFO - Chain [1] start processing\n",
      "18:28:29 - cmdstanpy - INFO - Chain [1] done processing\n",
      "Seasonality has period of 365.25 days which is larger than initial window. Consider increasing initial.\n"
     ]
    },
    {
     "data": {
      "application/vnd.jupyter.widget-view+json": {
       "model_id": "b85f37601898446a877b6d4e816f3458",
       "version_major": 2,
       "version_minor": 0
      },
      "text/plain": [
       "  0%|          | 0/7 [00:00<?, ?it/s]"
      ]
     },
     "metadata": {},
     "output_type": "display_data"
    },
    {
     "name": "stderr",
     "output_type": "stream",
     "text": [
      "18:28:29 - cmdstanpy - INFO - Chain [1] start processing\n",
      "18:28:29 - cmdstanpy - INFO - Chain [1] done processing\n",
      "18:28:29 - cmdstanpy - INFO - Chain [1] start processing\n",
      "18:28:30 - cmdstanpy - INFO - Chain [1] done processing\n",
      "18:28:30 - cmdstanpy - INFO - Chain [1] start processing\n",
      "18:28:30 - cmdstanpy - INFO - Chain [1] done processing\n",
      "18:28:30 - cmdstanpy - INFO - Chain [1] start processing\n",
      "18:28:31 - cmdstanpy - INFO - Chain [1] done processing\n",
      "18:28:31 - cmdstanpy - INFO - Chain [1] start processing\n",
      "18:28:31 - cmdstanpy - INFO - Chain [1] done processing\n",
      "18:28:31 - cmdstanpy - INFO - Chain [1] start processing\n",
      "18:28:31 - cmdstanpy - INFO - Chain [1] done processing\n",
      "18:28:32 - cmdstanpy - INFO - Chain [1] start processing\n",
      "18:28:32 - cmdstanpy - INFO - Chain [1] done processing\n"
     ]
    },
    {
     "name": "stdout",
     "output_type": "stream",
     "text": [
      "MAPE:0.12, PARAM:{'changepoint_prior_scale': 0.01, 'seasonality_prior_scale': 0.01, 'holidays_prior_scale': 0.01, 'seasonality_mode': 'additive'}\n"
     ]
    },
    {
     "name": "stderr",
     "output_type": "stream",
     "text": [
      "18:28:32 - cmdstanpy - INFO - Chain [1] start processing\n",
      "18:28:32 - cmdstanpy - INFO - Chain [1] done processing\n",
      "Seasonality has period of 365.25 days which is larger than initial window. Consider increasing initial.\n"
     ]
    },
    {
     "data": {
      "application/vnd.jupyter.widget-view+json": {
       "model_id": "4468179b2f9d4232bc68486b0df1d4cc",
       "version_major": 2,
       "version_minor": 0
      },
      "text/plain": [
       "  0%|          | 0/7 [00:00<?, ?it/s]"
      ]
     },
     "metadata": {},
     "output_type": "display_data"
    },
    {
     "name": "stderr",
     "output_type": "stream",
     "text": [
      "18:28:32 - cmdstanpy - INFO - Chain [1] start processing\n",
      "18:28:33 - cmdstanpy - INFO - Chain [1] done processing\n",
      "18:28:33 - cmdstanpy - INFO - Chain [1] start processing\n",
      "18:28:33 - cmdstanpy - INFO - Chain [1] done processing\n",
      "18:28:34 - cmdstanpy - INFO - Chain [1] start processing\n",
      "18:28:34 - cmdstanpy - INFO - Chain [1] done processing\n",
      "18:28:34 - cmdstanpy - INFO - Chain [1] start processing\n",
      "18:28:34 - cmdstanpy - INFO - Chain [1] done processing\n",
      "18:28:34 - cmdstanpy - INFO - Chain [1] start processing\n",
      "18:28:35 - cmdstanpy - INFO - Chain [1] done processing\n",
      "18:28:35 - cmdstanpy - INFO - Chain [1] start processing\n",
      "18:28:35 - cmdstanpy - INFO - Chain [1] done processing\n",
      "18:28:35 - cmdstanpy - INFO - Chain [1] start processing\n",
      "18:28:35 - cmdstanpy - INFO - Chain [1] done processing\n"
     ]
    },
    {
     "name": "stdout",
     "output_type": "stream",
     "text": [
      "MAPE:0.16, PARAM:{'changepoint_prior_scale': 0.01, 'seasonality_prior_scale': 0.1, 'holidays_prior_scale': 0.01, 'seasonality_mode': 'additive'}\n"
     ]
    },
    {
     "name": "stderr",
     "output_type": "stream",
     "text": [
      "18:28:36 - cmdstanpy - INFO - Chain [1] start processing\n",
      "18:28:36 - cmdstanpy - INFO - Chain [1] done processing\n",
      "Seasonality has period of 365.25 days which is larger than initial window. Consider increasing initial.\n"
     ]
    },
    {
     "data": {
      "application/vnd.jupyter.widget-view+json": {
       "model_id": "fd3d4598890c4fa990da7ed0bcbcdd9b",
       "version_major": 2,
       "version_minor": 0
      },
      "text/plain": [
       "  0%|          | 0/7 [00:00<?, ?it/s]"
      ]
     },
     "metadata": {},
     "output_type": "display_data"
    },
    {
     "name": "stderr",
     "output_type": "stream",
     "text": [
      "18:28:36 - cmdstanpy - INFO - Chain [1] start processing\n",
      "18:28:36 - cmdstanpy - INFO - Chain [1] done processing\n",
      "18:28:37 - cmdstanpy - INFO - Chain [1] start processing\n",
      "18:28:37 - cmdstanpy - INFO - Chain [1] done processing\n",
      "18:28:37 - cmdstanpy - INFO - Chain [1] start processing\n",
      "18:28:37 - cmdstanpy - INFO - Chain [1] done processing\n",
      "18:28:38 - cmdstanpy - INFO - Chain [1] start processing\n",
      "18:28:38 - cmdstanpy - INFO - Chain [1] done processing\n",
      "18:28:38 - cmdstanpy - INFO - Chain [1] start processing\n",
      "18:28:38 - cmdstanpy - INFO - Chain [1] done processing\n",
      "18:28:39 - cmdstanpy - INFO - Chain [1] start processing\n",
      "18:28:39 - cmdstanpy - INFO - Chain [1] done processing\n",
      "18:28:39 - cmdstanpy - INFO - Chain [1] start processing\n",
      "18:28:39 - cmdstanpy - INFO - Chain [1] done processing\n"
     ]
    },
    {
     "name": "stdout",
     "output_type": "stream",
     "text": [
      "MAPE:0.20, PARAM:{'changepoint_prior_scale': 0.01, 'seasonality_prior_scale': 0.15, 'holidays_prior_scale': 0.01, 'seasonality_mode': 'additive'}\n"
     ]
    },
    {
     "name": "stderr",
     "output_type": "stream",
     "text": [
      "18:28:39 - cmdstanpy - INFO - Chain [1] start processing\n",
      "18:28:40 - cmdstanpy - INFO - Chain [1] done processing\n",
      "Seasonality has period of 365.25 days which is larger than initial window. Consider increasing initial.\n"
     ]
    },
    {
     "data": {
      "application/vnd.jupyter.widget-view+json": {
       "model_id": "8f0c6bc2958740668913361ec35ff51b",
       "version_major": 2,
       "version_minor": 0
      },
      "text/plain": [
       "  0%|          | 0/7 [00:00<?, ?it/s]"
      ]
     },
     "metadata": {},
     "output_type": "display_data"
    },
    {
     "name": "stderr",
     "output_type": "stream",
     "text": [
      "18:28:40 - cmdstanpy - INFO - Chain [1] start processing\n",
      "18:28:40 - cmdstanpy - INFO - Chain [1] done processing\n",
      "18:28:40 - cmdstanpy - INFO - Chain [1] start processing\n",
      "18:28:41 - cmdstanpy - INFO - Chain [1] done processing\n",
      "18:28:41 - cmdstanpy - INFO - Chain [1] start processing\n",
      "18:28:41 - cmdstanpy - INFO - Chain [1] done processing\n",
      "18:28:42 - cmdstanpy - INFO - Chain [1] start processing\n",
      "18:28:42 - cmdstanpy - INFO - Chain [1] done processing\n",
      "18:28:42 - cmdstanpy - INFO - Chain [1] start processing\n",
      "18:28:42 - cmdstanpy - INFO - Chain [1] done processing\n",
      "18:28:42 - cmdstanpy - INFO - Chain [1] start processing\n",
      "18:28:42 - cmdstanpy - INFO - Chain [1] done processing\n",
      "18:28:43 - cmdstanpy - INFO - Chain [1] start processing\n",
      "18:28:43 - cmdstanpy - INFO - Chain [1] done processing\n"
     ]
    },
    {
     "name": "stdout",
     "output_type": "stream",
     "text": [
      "MAPE:0.11, PARAM:{'changepoint_prior_scale': 0.02, 'seasonality_prior_scale': 0.01, 'holidays_prior_scale': 0.01, 'seasonality_mode': 'additive'}\n"
     ]
    },
    {
     "name": "stderr",
     "output_type": "stream",
     "text": [
      "18:28:43 - cmdstanpy - INFO - Chain [1] start processing\n",
      "18:28:43 - cmdstanpy - INFO - Chain [1] done processing\n",
      "Seasonality has period of 365.25 days which is larger than initial window. Consider increasing initial.\n"
     ]
    },
    {
     "data": {
      "application/vnd.jupyter.widget-view+json": {
       "model_id": "8be6d9135c3c495a8beaa0c7a78e44c6",
       "version_major": 2,
       "version_minor": 0
      },
      "text/plain": [
       "  0%|          | 0/7 [00:00<?, ?it/s]"
      ]
     },
     "metadata": {},
     "output_type": "display_data"
    },
    {
     "name": "stderr",
     "output_type": "stream",
     "text": [
      "18:28:44 - cmdstanpy - INFO - Chain [1] start processing\n",
      "18:28:44 - cmdstanpy - INFO - Chain [1] done processing\n",
      "18:28:44 - cmdstanpy - INFO - Chain [1] start processing\n",
      "18:28:44 - cmdstanpy - INFO - Chain [1] done processing\n",
      "18:28:45 - cmdstanpy - INFO - Chain [1] start processing\n",
      "18:28:45 - cmdstanpy - INFO - Chain [1] done processing\n",
      "18:28:45 - cmdstanpy - INFO - Chain [1] start processing\n",
      "18:28:45 - cmdstanpy - INFO - Chain [1] done processing\n",
      "18:28:46 - cmdstanpy - INFO - Chain [1] start processing\n",
      "18:28:46 - cmdstanpy - INFO - Chain [1] done processing\n",
      "18:28:46 - cmdstanpy - INFO - Chain [1] start processing\n",
      "18:28:46 - cmdstanpy - INFO - Chain [1] done processing\n",
      "18:28:46 - cmdstanpy - INFO - Chain [1] start processing\n",
      "18:28:46 - cmdstanpy - INFO - Chain [1] done processing\n"
     ]
    },
    {
     "name": "stdout",
     "output_type": "stream",
     "text": [
      "MAPE:0.16, PARAM:{'changepoint_prior_scale': 0.02, 'seasonality_prior_scale': 0.1, 'holidays_prior_scale': 0.01, 'seasonality_mode': 'additive'}\n"
     ]
    },
    {
     "name": "stderr",
     "output_type": "stream",
     "text": [
      "18:28:47 - cmdstanpy - INFO - Chain [1] start processing\n",
      "18:28:47 - cmdstanpy - INFO - Chain [1] done processing\n",
      "Seasonality has period of 365.25 days which is larger than initial window. Consider increasing initial.\n"
     ]
    },
    {
     "data": {
      "application/vnd.jupyter.widget-view+json": {
       "model_id": "02193403bf3b4afd9727e7dd60d0bd69",
       "version_major": 2,
       "version_minor": 0
      },
      "text/plain": [
       "  0%|          | 0/7 [00:00<?, ?it/s]"
      ]
     },
     "metadata": {},
     "output_type": "display_data"
    },
    {
     "name": "stderr",
     "output_type": "stream",
     "text": [
      "18:28:47 - cmdstanpy - INFO - Chain [1] start processing\n",
      "18:28:48 - cmdstanpy - INFO - Chain [1] done processing\n",
      "18:28:48 - cmdstanpy - INFO - Chain [1] start processing\n",
      "18:28:48 - cmdstanpy - INFO - Chain [1] done processing\n",
      "18:28:49 - cmdstanpy - INFO - Chain [1] start processing\n",
      "18:28:49 - cmdstanpy - INFO - Chain [1] done processing\n",
      "18:28:49 - cmdstanpy - INFO - Chain [1] start processing\n",
      "18:28:49 - cmdstanpy - INFO - Chain [1] done processing\n",
      "18:28:49 - cmdstanpy - INFO - Chain [1] start processing\n",
      "18:28:49 - cmdstanpy - INFO - Chain [1] done processing\n",
      "18:28:50 - cmdstanpy - INFO - Chain [1] start processing\n",
      "18:28:50 - cmdstanpy - INFO - Chain [1] done processing\n",
      "18:28:50 - cmdstanpy - INFO - Chain [1] start processing\n",
      "18:28:50 - cmdstanpy - INFO - Chain [1] done processing\n"
     ]
    },
    {
     "name": "stdout",
     "output_type": "stream",
     "text": [
      "MAPE:0.19, PARAM:{'changepoint_prior_scale': 0.02, 'seasonality_prior_scale': 0.15, 'holidays_prior_scale': 0.01, 'seasonality_mode': 'additive'}\n"
     ]
    },
    {
     "name": "stderr",
     "output_type": "stream",
     "text": [
      "18:28:51 - cmdstanpy - INFO - Chain [1] start processing\n",
      "18:28:51 - cmdstanpy - INFO - Chain [1] done processing\n"
     ]
    },
    {
     "name": "stdout",
     "output_type": "stream",
     "text": [
      "          ds       yhat\n",
      "0 2020-01-02  20.293589\n",
      "1 2020-01-03  20.300575\n",
      "2 2020-01-06  20.383885\n",
      "3 2020-01-07  20.507046\n",
      "4 2020-01-08  20.522946\n",
      "            ds       yhat\n",
      "337 2021-04-30  18.207834\n",
      "338 2021-05-03  18.100119\n",
      "339 2021-05-04  18.180481\n",
      "340 2021-05-05  18.165575\n",
      "341 2021-05-06  18.209011\n",
      " \n",
      "best_mape_from_fuction = best_mape 0.10959102922890426\n",
      " \n",
      "best_params_from_function =  {'changepoint_prior_scale': 0.02, 'seasonality_prior_scale': 0.01, 'holidays_prior_scale': 0.01, 'seasonality_mode': 'additive'}\n",
      "forecast_df.shape =  (90, 2)\n",
      "merged_data.shape =  (63, 3)\n",
      " \n",
      "MAPE_Score =  9.99324931518464\n",
      " \n"
     ]
    }
   ],
   "source": [
    "# Iteration 1\n",
    "best_mape,  best_params = optimize_prophet(df_train = df2_train,total_days = 252, params = {\n",
    "    \n",
    "        'changepoint_prior_scale': [0.001, 0.01,0.02], \n",
    "        'seasonality_prior_scale': [0.01, 0.1,0.15],\n",
    "        'holidays_prior_scale': [0.01],\n",
    "        'seasonality_mode': ['additive']\n",
    "    }\n",
    "                    )\n",
    "forecast_df, merged_data, MAPE_Score = func_test_forecast_MAPE(\n",
    "best_mape_from_function = best_mape,\n",
    "params = best_params,\n",
    "country = 'Turkey',\n",
    "df_train = df2_train)"
   ]
  },
  {
   "cell_type": "code",
   "execution_count": null,
   "id": "1f90ec42-9770-4a03-bbe0-02bba8cdd708",
   "metadata": {},
   "outputs": [],
   "source": [
    "# Iteration 1  MAPE_Score =  9.99324931518464\n",
    " "
   ]
  },
  {
   "cell_type": "code",
   "execution_count": 126,
   "id": "71616bc0-298a-419c-acb4-69ca9a10477e",
   "metadata": {},
   "outputs": [
    {
     "name": "stderr",
     "output_type": "stream",
     "text": [
      "18:28:51 - cmdstanpy - INFO - Chain [1] start processing\n",
      "18:28:51 - cmdstanpy - INFO - Chain [1] done processing\n",
      "Seasonality has period of 365.25 days which is larger than initial window. Consider increasing initial.\n"
     ]
    },
    {
     "data": {
      "application/vnd.jupyter.widget-view+json": {
       "model_id": "1bcbb8a71a1a428eade9113ffb63f251",
       "version_major": 2,
       "version_minor": 0
      },
      "text/plain": [
       "  0%|          | 0/7 [00:00<?, ?it/s]"
      ]
     },
     "metadata": {},
     "output_type": "display_data"
    },
    {
     "name": "stderr",
     "output_type": "stream",
     "text": [
      "18:28:52 - cmdstanpy - INFO - Chain [1] start processing\n",
      "18:28:52 - cmdstanpy - INFO - Chain [1] done processing\n",
      "18:28:52 - cmdstanpy - INFO - Chain [1] start processing\n",
      "18:28:53 - cmdstanpy - INFO - Chain [1] done processing\n",
      "18:28:53 - cmdstanpy - INFO - Chain [1] start processing\n",
      "18:28:53 - cmdstanpy - INFO - Chain [1] done processing\n",
      "18:28:54 - cmdstanpy - INFO - Chain [1] start processing\n",
      "18:28:54 - cmdstanpy - INFO - Chain [1] done processing\n",
      "18:28:54 - cmdstanpy - INFO - Chain [1] start processing\n",
      "18:28:54 - cmdstanpy - INFO - Chain [1] done processing\n",
      "18:28:55 - cmdstanpy - INFO - Chain [1] start processing\n",
      "18:28:55 - cmdstanpy - INFO - Chain [1] done processing\n",
      "18:28:55 - cmdstanpy - INFO - Chain [1] start processing\n",
      "18:28:55 - cmdstanpy - INFO - Chain [1] done processing\n"
     ]
    },
    {
     "name": "stdout",
     "output_type": "stream",
     "text": [
      "MAPE:0.15, PARAM:{'changepoint_prior_scale': 0.02, 'seasonality_prior_scale': 0.001, 'holidays_prior_scale': 0.01, 'seasonality_mode': 'additive'}\n"
     ]
    },
    {
     "name": "stderr",
     "output_type": "stream",
     "text": [
      "18:28:56 - cmdstanpy - INFO - Chain [1] start processing\n",
      "18:28:56 - cmdstanpy - INFO - Chain [1] done processing\n",
      "Seasonality has period of 365.25 days which is larger than initial window. Consider increasing initial.\n"
     ]
    },
    {
     "data": {
      "application/vnd.jupyter.widget-view+json": {
       "model_id": "b26f98af84b54a029c3c392461beb973",
       "version_major": 2,
       "version_minor": 0
      },
      "text/plain": [
       "  0%|          | 0/7 [00:00<?, ?it/s]"
      ]
     },
     "metadata": {},
     "output_type": "display_data"
    },
    {
     "name": "stderr",
     "output_type": "stream",
     "text": [
      "18:28:56 - cmdstanpy - INFO - Chain [1] start processing\n",
      "18:28:57 - cmdstanpy - INFO - Chain [1] done processing\n",
      "18:28:57 - cmdstanpy - INFO - Chain [1] start processing\n",
      "18:28:57 - cmdstanpy - INFO - Chain [1] done processing\n",
      "18:28:58 - cmdstanpy - INFO - Chain [1] start processing\n",
      "18:28:58 - cmdstanpy - INFO - Chain [1] done processing\n",
      "18:28:58 - cmdstanpy - INFO - Chain [1] start processing\n",
      "18:28:58 - cmdstanpy - INFO - Chain [1] done processing\n",
      "18:28:58 - cmdstanpy - INFO - Chain [1] start processing\n",
      "18:28:59 - cmdstanpy - INFO - Chain [1] done processing\n",
      "18:28:59 - cmdstanpy - INFO - Chain [1] start processing\n",
      "18:28:59 - cmdstanpy - INFO - Chain [1] done processing\n",
      "18:28:59 - cmdstanpy - INFO - Chain [1] start processing\n",
      "18:28:59 - cmdstanpy - INFO - Chain [1] done processing\n"
     ]
    },
    {
     "name": "stdout",
     "output_type": "stream",
     "text": [
      "MAPE:0.15, PARAM:{'changepoint_prior_scale': 0.02, 'seasonality_prior_scale': 0.001, 'holidays_prior_scale': 0.01, 'seasonality_mode': 'multiplicative'}\n"
     ]
    },
    {
     "name": "stderr",
     "output_type": "stream",
     "text": [
      "18:29:00 - cmdstanpy - INFO - Chain [1] start processing\n",
      "18:29:00 - cmdstanpy - INFO - Chain [1] done processing\n",
      "Seasonality has period of 365.25 days which is larger than initial window. Consider increasing initial.\n"
     ]
    },
    {
     "data": {
      "application/vnd.jupyter.widget-view+json": {
       "model_id": "7f4b42bd2c1f424bafe540950efa8892",
       "version_major": 2,
       "version_minor": 0
      },
      "text/plain": [
       "  0%|          | 0/7 [00:00<?, ?it/s]"
      ]
     },
     "metadata": {},
     "output_type": "display_data"
    },
    {
     "name": "stderr",
     "output_type": "stream",
     "text": [
      "18:29:00 - cmdstanpy - INFO - Chain [1] start processing\n",
      "18:29:00 - cmdstanpy - INFO - Chain [1] done processing\n",
      "18:29:01 - cmdstanpy - INFO - Chain [1] start processing\n",
      "18:29:01 - cmdstanpy - INFO - Chain [1] done processing\n",
      "18:29:01 - cmdstanpy - INFO - Chain [1] start processing\n",
      "18:29:01 - cmdstanpy - INFO - Chain [1] done processing\n",
      "18:29:02 - cmdstanpy - INFO - Chain [1] start processing\n",
      "18:29:02 - cmdstanpy - INFO - Chain [1] done processing\n",
      "18:29:02 - cmdstanpy - INFO - Chain [1] start processing\n",
      "18:29:02 - cmdstanpy - INFO - Chain [1] done processing\n",
      "18:29:02 - cmdstanpy - INFO - Chain [1] start processing\n",
      "18:29:02 - cmdstanpy - INFO - Chain [1] done processing\n",
      "18:29:03 - cmdstanpy - INFO - Chain [1] start processing\n",
      "18:29:03 - cmdstanpy - INFO - Chain [1] done processing\n"
     ]
    },
    {
     "name": "stdout",
     "output_type": "stream",
     "text": [
      "MAPE:0.11, PARAM:{'changepoint_prior_scale': 0.02, 'seasonality_prior_scale': 0.01, 'holidays_prior_scale': 0.01, 'seasonality_mode': 'additive'}\n"
     ]
    },
    {
     "name": "stderr",
     "output_type": "stream",
     "text": [
      "18:29:03 - cmdstanpy - INFO - Chain [1] start processing\n",
      "18:29:03 - cmdstanpy - INFO - Chain [1] done processing\n",
      "Seasonality has period of 365.25 days which is larger than initial window. Consider increasing initial.\n"
     ]
    },
    {
     "data": {
      "application/vnd.jupyter.widget-view+json": {
       "model_id": "70e423265d584156a736907c35e5a6ee",
       "version_major": 2,
       "version_minor": 0
      },
      "text/plain": [
       "  0%|          | 0/7 [00:00<?, ?it/s]"
      ]
     },
     "metadata": {},
     "output_type": "display_data"
    },
    {
     "name": "stderr",
     "output_type": "stream",
     "text": [
      "18:29:04 - cmdstanpy - INFO - Chain [1] start processing\n",
      "18:29:04 - cmdstanpy - INFO - Chain [1] done processing\n",
      "18:29:04 - cmdstanpy - INFO - Chain [1] start processing\n",
      "18:29:05 - cmdstanpy - INFO - Chain [1] done processing\n",
      "18:29:05 - cmdstanpy - INFO - Chain [1] start processing\n",
      "18:29:05 - cmdstanpy - INFO - Chain [1] done processing\n",
      "18:29:05 - cmdstanpy - INFO - Chain [1] start processing\n",
      "18:29:06 - cmdstanpy - INFO - Chain [1] done processing\n",
      "18:29:06 - cmdstanpy - INFO - Chain [1] start processing\n",
      "18:29:06 - cmdstanpy - INFO - Chain [1] done processing\n",
      "18:29:06 - cmdstanpy - INFO - Chain [1] start processing\n",
      "18:29:06 - cmdstanpy - INFO - Chain [1] done processing\n",
      "18:29:07 - cmdstanpy - INFO - Chain [1] start processing\n",
      "18:29:07 - cmdstanpy - INFO - Chain [1] done processing\n"
     ]
    },
    {
     "name": "stdout",
     "output_type": "stream",
     "text": [
      "MAPE:0.11, PARAM:{'changepoint_prior_scale': 0.02, 'seasonality_prior_scale': 0.01, 'holidays_prior_scale': 0.01, 'seasonality_mode': 'multiplicative'}\n"
     ]
    },
    {
     "name": "stderr",
     "output_type": "stream",
     "text": [
      "18:29:07 - cmdstanpy - INFO - Chain [1] start processing\n",
      "18:29:07 - cmdstanpy - INFO - Chain [1] done processing\n",
      "Seasonality has period of 365.25 days which is larger than initial window. Consider increasing initial.\n"
     ]
    },
    {
     "data": {
      "application/vnd.jupyter.widget-view+json": {
       "model_id": "da297a2d8ddf4bb89cc9b60849b9b340",
       "version_major": 2,
       "version_minor": 0
      },
      "text/plain": [
       "  0%|          | 0/7 [00:00<?, ?it/s]"
      ]
     },
     "metadata": {},
     "output_type": "display_data"
    },
    {
     "name": "stderr",
     "output_type": "stream",
     "text": [
      "18:29:07 - cmdstanpy - INFO - Chain [1] start processing\n",
      "18:29:08 - cmdstanpy - INFO - Chain [1] done processing\n",
      "18:29:08 - cmdstanpy - INFO - Chain [1] start processing\n",
      "18:29:08 - cmdstanpy - INFO - Chain [1] done processing\n",
      "18:29:09 - cmdstanpy - INFO - Chain [1] start processing\n",
      "18:29:09 - cmdstanpy - INFO - Chain [1] done processing\n",
      "18:29:09 - cmdstanpy - INFO - Chain [1] start processing\n",
      "18:29:09 - cmdstanpy - INFO - Chain [1] done processing\n",
      "18:29:09 - cmdstanpy - INFO - Chain [1] start processing\n",
      "18:29:09 - cmdstanpy - INFO - Chain [1] done processing\n",
      "18:29:10 - cmdstanpy - INFO - Chain [1] start processing\n",
      "18:29:10 - cmdstanpy - INFO - Chain [1] done processing\n",
      "18:29:10 - cmdstanpy - INFO - Chain [1] start processing\n",
      "18:29:10 - cmdstanpy - INFO - Chain [1] done processing\n"
     ]
    },
    {
     "name": "stdout",
     "output_type": "stream",
     "text": [
      "MAPE:0.16, PARAM:{'changepoint_prior_scale': 0.02, 'seasonality_prior_scale': 0.1, 'holidays_prior_scale': 0.01, 'seasonality_mode': 'additive'}\n"
     ]
    },
    {
     "name": "stderr",
     "output_type": "stream",
     "text": [
      "18:29:11 - cmdstanpy - INFO - Chain [1] start processing\n",
      "18:29:11 - cmdstanpy - INFO - Chain [1] done processing\n",
      "Seasonality has period of 365.25 days which is larger than initial window. Consider increasing initial.\n"
     ]
    },
    {
     "data": {
      "application/vnd.jupyter.widget-view+json": {
       "model_id": "25ba906160284ababbf36869948b9df1",
       "version_major": 2,
       "version_minor": 0
      },
      "text/plain": [
       "  0%|          | 0/7 [00:00<?, ?it/s]"
      ]
     },
     "metadata": {},
     "output_type": "display_data"
    },
    {
     "name": "stderr",
     "output_type": "stream",
     "text": [
      "18:29:11 - cmdstanpy - INFO - Chain [1] start processing\n",
      "18:29:11 - cmdstanpy - INFO - Chain [1] done processing\n",
      "18:29:12 - cmdstanpy - INFO - Chain [1] start processing\n",
      "18:29:13 - cmdstanpy - INFO - Chain [1] done processing\n",
      "18:29:13 - cmdstanpy - INFO - Chain [1] start processing\n",
      "18:29:13 - cmdstanpy - INFO - Chain [1] done processing\n",
      "18:29:13 - cmdstanpy - INFO - Chain [1] start processing\n",
      "18:29:13 - cmdstanpy - INFO - Chain [1] done processing\n",
      "18:29:14 - cmdstanpy - INFO - Chain [1] start processing\n",
      "18:29:14 - cmdstanpy - INFO - Chain [1] done processing\n",
      "18:29:14 - cmdstanpy - INFO - Chain [1] start processing\n",
      "18:29:14 - cmdstanpy - INFO - Chain [1] done processing\n",
      "18:29:14 - cmdstanpy - INFO - Chain [1] start processing\n",
      "18:29:14 - cmdstanpy - INFO - Chain [1] done processing\n",
      "18:29:15 - cmdstanpy - INFO - Chain [1] start processing\n"
     ]
    },
    {
     "name": "stdout",
     "output_type": "stream",
     "text": [
      "MAPE:0.14, PARAM:{'changepoint_prior_scale': 0.02, 'seasonality_prior_scale': 0.1, 'holidays_prior_scale': 0.01, 'seasonality_mode': 'multiplicative'}\n"
     ]
    },
    {
     "name": "stderr",
     "output_type": "stream",
     "text": [
      "18:29:15 - cmdstanpy - INFO - Chain [1] done processing\n",
      "Seasonality has period of 365.25 days which is larger than initial window. Consider increasing initial.\n"
     ]
    },
    {
     "data": {
      "application/vnd.jupyter.widget-view+json": {
       "model_id": "0859cf46442b4108ad325df25f480989",
       "version_major": 2,
       "version_minor": 0
      },
      "text/plain": [
       "  0%|          | 0/7 [00:00<?, ?it/s]"
      ]
     },
     "metadata": {},
     "output_type": "display_data"
    },
    {
     "name": "stderr",
     "output_type": "stream",
     "text": [
      "18:29:15 - cmdstanpy - INFO - Chain [1] start processing\n",
      "18:29:15 - cmdstanpy - INFO - Chain [1] done processing\n",
      "18:29:16 - cmdstanpy - INFO - Chain [1] start processing\n",
      "18:29:16 - cmdstanpy - INFO - Chain [1] done processing\n",
      "18:29:16 - cmdstanpy - INFO - Chain [1] start processing\n",
      "18:29:16 - cmdstanpy - INFO - Chain [1] done processing\n",
      "18:29:17 - cmdstanpy - INFO - Chain [1] start processing\n",
      "18:29:17 - cmdstanpy - INFO - Chain [1] done processing\n",
      "18:29:17 - cmdstanpy - INFO - Chain [1] start processing\n",
      "18:29:17 - cmdstanpy - INFO - Chain [1] done processing\n",
      "18:29:17 - cmdstanpy - INFO - Chain [1] start processing\n",
      "18:29:17 - cmdstanpy - INFO - Chain [1] done processing\n",
      "18:29:18 - cmdstanpy - INFO - Chain [1] start processing\n",
      "18:29:18 - cmdstanpy - INFO - Chain [1] done processing\n",
      "18:29:18 - cmdstanpy - INFO - Chain [1] start processing\n"
     ]
    },
    {
     "name": "stdout",
     "output_type": "stream",
     "text": [
      "MAPE:0.19, PARAM:{'changepoint_prior_scale': 0.02, 'seasonality_prior_scale': 0.15, 'holidays_prior_scale': 0.01, 'seasonality_mode': 'additive'}\n"
     ]
    },
    {
     "name": "stderr",
     "output_type": "stream",
     "text": [
      "18:29:18 - cmdstanpy - INFO - Chain [1] done processing\n",
      "Seasonality has period of 365.25 days which is larger than initial window. Consider increasing initial.\n"
     ]
    },
    {
     "data": {
      "application/vnd.jupyter.widget-view+json": {
       "model_id": "3ac9ac173fff462394a3cd9dad7a8436",
       "version_major": 2,
       "version_minor": 0
      },
      "text/plain": [
       "  0%|          | 0/7 [00:00<?, ?it/s]"
      ]
     },
     "metadata": {},
     "output_type": "display_data"
    },
    {
     "name": "stderr",
     "output_type": "stream",
     "text": [
      "18:29:18 - cmdstanpy - INFO - Chain [1] start processing\n",
      "18:29:20 - cmdstanpy - INFO - Chain [1] done processing\n",
      "18:29:20 - cmdstanpy - INFO - Chain [1] start processing\n",
      "18:29:23 - cmdstanpy - INFO - Chain [1] done processing\n",
      "18:29:23 - cmdstanpy - INFO - Chain [1] start processing\n",
      "18:29:23 - cmdstanpy - INFO - Chain [1] done processing\n",
      "18:29:23 - cmdstanpy - INFO - Chain [1] start processing\n",
      "18:29:23 - cmdstanpy - INFO - Chain [1] done processing\n",
      "18:29:24 - cmdstanpy - INFO - Chain [1] start processing\n",
      "18:29:24 - cmdstanpy - INFO - Chain [1] done processing\n",
      "18:29:24 - cmdstanpy - INFO - Chain [1] start processing\n",
      "18:29:24 - cmdstanpy - INFO - Chain [1] done processing\n",
      "18:29:24 - cmdstanpy - INFO - Chain [1] start processing\n",
      "18:29:25 - cmdstanpy - INFO - Chain [1] done processing\n"
     ]
    },
    {
     "name": "stdout",
     "output_type": "stream",
     "text": [
      "MAPE:0.16, PARAM:{'changepoint_prior_scale': 0.02, 'seasonality_prior_scale': 0.15, 'holidays_prior_scale': 0.01, 'seasonality_mode': 'multiplicative'}\n"
     ]
    },
    {
     "name": "stderr",
     "output_type": "stream",
     "text": [
      "18:29:25 - cmdstanpy - INFO - Chain [1] start processing\n",
      "18:29:25 - cmdstanpy - INFO - Chain [1] done processing\n",
      "Seasonality has period of 365.25 days which is larger than initial window. Consider increasing initial.\n"
     ]
    },
    {
     "data": {
      "application/vnd.jupyter.widget-view+json": {
       "model_id": "d3003b8a79f4474fbd8509ccf8f88528",
       "version_major": 2,
       "version_minor": 0
      },
      "text/plain": [
       "  0%|          | 0/7 [00:00<?, ?it/s]"
      ]
     },
     "metadata": {},
     "output_type": "display_data"
    },
    {
     "name": "stderr",
     "output_type": "stream",
     "text": [
      "18:29:25 - cmdstanpy - INFO - Chain [1] start processing\n",
      "18:29:26 - cmdstanpy - INFO - Chain [1] done processing\n",
      "18:29:26 - cmdstanpy - INFO - Chain [1] start processing\n",
      "18:29:27 - cmdstanpy - INFO - Chain [1] done processing\n",
      "18:29:27 - cmdstanpy - INFO - Chain [1] start processing\n",
      "18:29:27 - cmdstanpy - INFO - Chain [1] done processing\n",
      "18:29:27 - cmdstanpy - INFO - Chain [1] start processing\n",
      "18:29:28 - cmdstanpy - INFO - Chain [1] done processing\n",
      "18:29:28 - cmdstanpy - INFO - Chain [1] start processing\n",
      "18:29:28 - cmdstanpy - INFO - Chain [1] done processing\n",
      "18:29:28 - cmdstanpy - INFO - Chain [1] start processing\n",
      "18:29:28 - cmdstanpy - INFO - Chain [1] done processing\n",
      "18:29:29 - cmdstanpy - INFO - Chain [1] start processing\n",
      "18:29:29 - cmdstanpy - INFO - Chain [1] done processing\n"
     ]
    },
    {
     "name": "stdout",
     "output_type": "stream",
     "text": [
      "MAPE:0.14, PARAM:{'changepoint_prior_scale': 0.025, 'seasonality_prior_scale': 0.001, 'holidays_prior_scale': 0.01, 'seasonality_mode': 'additive'}\n"
     ]
    },
    {
     "name": "stderr",
     "output_type": "stream",
     "text": [
      "18:29:29 - cmdstanpy - INFO - Chain [1] start processing\n",
      "18:29:29 - cmdstanpy - INFO - Chain [1] done processing\n",
      "Seasonality has period of 365.25 days which is larger than initial window. Consider increasing initial.\n"
     ]
    },
    {
     "data": {
      "application/vnd.jupyter.widget-view+json": {
       "model_id": "4d0aec76daf74a818002dfa80384c2c4",
       "version_major": 2,
       "version_minor": 0
      },
      "text/plain": [
       "  0%|          | 0/7 [00:00<?, ?it/s]"
      ]
     },
     "metadata": {},
     "output_type": "display_data"
    },
    {
     "name": "stderr",
     "output_type": "stream",
     "text": [
      "18:29:29 - cmdstanpy - INFO - Chain [1] start processing\n",
      "18:29:30 - cmdstanpy - INFO - Chain [1] done processing\n",
      "18:29:30 - cmdstanpy - INFO - Chain [1] start processing\n",
      "18:29:31 - cmdstanpy - INFO - Chain [1] done processing\n",
      "18:29:31 - cmdstanpy - INFO - Chain [1] start processing\n",
      "18:29:31 - cmdstanpy - INFO - Chain [1] done processing\n",
      "18:29:31 - cmdstanpy - INFO - Chain [1] start processing\n",
      "18:29:32 - cmdstanpy - INFO - Chain [1] done processing\n",
      "18:29:32 - cmdstanpy - INFO - Chain [1] start processing\n",
      "18:29:32 - cmdstanpy - INFO - Chain [1] done processing\n",
      "18:29:32 - cmdstanpy - INFO - Chain [1] start processing\n",
      "18:29:32 - cmdstanpy - INFO - Chain [1] done processing\n",
      "18:29:33 - cmdstanpy - INFO - Chain [1] start processing\n",
      "18:29:33 - cmdstanpy - INFO - Chain [1] done processing\n"
     ]
    },
    {
     "name": "stdout",
     "output_type": "stream",
     "text": [
      "MAPE:0.13, PARAM:{'changepoint_prior_scale': 0.025, 'seasonality_prior_scale': 0.001, 'holidays_prior_scale': 0.01, 'seasonality_mode': 'multiplicative'}\n"
     ]
    },
    {
     "name": "stderr",
     "output_type": "stream",
     "text": [
      "18:29:33 - cmdstanpy - INFO - Chain [1] start processing\n",
      "18:29:33 - cmdstanpy - INFO - Chain [1] done processing\n",
      "Seasonality has period of 365.25 days which is larger than initial window. Consider increasing initial.\n"
     ]
    },
    {
     "data": {
      "application/vnd.jupyter.widget-view+json": {
       "model_id": "a416aa15421f45a9b1063eb840805215",
       "version_major": 2,
       "version_minor": 0
      },
      "text/plain": [
       "  0%|          | 0/7 [00:00<?, ?it/s]"
      ]
     },
     "metadata": {},
     "output_type": "display_data"
    },
    {
     "name": "stderr",
     "output_type": "stream",
     "text": [
      "18:29:33 - cmdstanpy - INFO - Chain [1] start processing\n",
      "18:29:34 - cmdstanpy - INFO - Chain [1] done processing\n",
      "18:29:34 - cmdstanpy - INFO - Chain [1] start processing\n",
      "18:29:34 - cmdstanpy - INFO - Chain [1] done processing\n",
      "18:29:35 - cmdstanpy - INFO - Chain [1] start processing\n",
      "18:29:35 - cmdstanpy - INFO - Chain [1] done processing\n",
      "18:29:35 - cmdstanpy - INFO - Chain [1] start processing\n",
      "18:29:35 - cmdstanpy - INFO - Chain [1] done processing\n",
      "18:29:35 - cmdstanpy - INFO - Chain [1] start processing\n",
      "18:29:35 - cmdstanpy - INFO - Chain [1] done processing\n",
      "18:29:36 - cmdstanpy - INFO - Chain [1] start processing\n",
      "18:29:36 - cmdstanpy - INFO - Chain [1] done processing\n",
      "18:29:36 - cmdstanpy - INFO - Chain [1] start processing\n",
      "18:29:36 - cmdstanpy - INFO - Chain [1] done processing\n",
      "18:29:36 - cmdstanpy - INFO - Chain [1] start processing\n"
     ]
    },
    {
     "name": "stdout",
     "output_type": "stream",
     "text": [
      "MAPE:0.10, PARAM:{'changepoint_prior_scale': 0.025, 'seasonality_prior_scale': 0.01, 'holidays_prior_scale': 0.01, 'seasonality_mode': 'additive'}\n"
     ]
    },
    {
     "name": "stderr",
     "output_type": "stream",
     "text": [
      "18:29:37 - cmdstanpy - INFO - Chain [1] done processing\n",
      "Seasonality has period of 365.25 days which is larger than initial window. Consider increasing initial.\n"
     ]
    },
    {
     "data": {
      "application/vnd.jupyter.widget-view+json": {
       "model_id": "d41c4cedc5e84ef1821e5f583eb48f01",
       "version_major": 2,
       "version_minor": 0
      },
      "text/plain": [
       "  0%|          | 0/7 [00:00<?, ?it/s]"
      ]
     },
     "metadata": {},
     "output_type": "display_data"
    },
    {
     "name": "stderr",
     "output_type": "stream",
     "text": [
      "18:29:37 - cmdstanpy - INFO - Chain [1] start processing\n",
      "18:29:37 - cmdstanpy - INFO - Chain [1] done processing\n",
      "18:29:38 - cmdstanpy - INFO - Chain [1] start processing\n",
      "18:29:38 - cmdstanpy - INFO - Chain [1] done processing\n",
      "18:29:38 - cmdstanpy - INFO - Chain [1] start processing\n",
      "18:29:38 - cmdstanpy - INFO - Chain [1] done processing\n",
      "18:29:39 - cmdstanpy - INFO - Chain [1] start processing\n",
      "18:29:39 - cmdstanpy - INFO - Chain [1] done processing\n",
      "18:29:39 - cmdstanpy - INFO - Chain [1] start processing\n",
      "18:29:39 - cmdstanpy - INFO - Chain [1] done processing\n",
      "18:29:39 - cmdstanpy - INFO - Chain [1] start processing\n",
      "18:29:39 - cmdstanpy - INFO - Chain [1] done processing\n",
      "18:29:40 - cmdstanpy - INFO - Chain [1] start processing\n",
      "18:29:40 - cmdstanpy - INFO - Chain [1] done processing\n"
     ]
    },
    {
     "name": "stdout",
     "output_type": "stream",
     "text": [
      "MAPE:0.11, PARAM:{'changepoint_prior_scale': 0.025, 'seasonality_prior_scale': 0.01, 'holidays_prior_scale': 0.01, 'seasonality_mode': 'multiplicative'}\n"
     ]
    },
    {
     "name": "stderr",
     "output_type": "stream",
     "text": [
      "18:29:40 - cmdstanpy - INFO - Chain [1] start processing\n",
      "18:29:40 - cmdstanpy - INFO - Chain [1] done processing\n",
      "Seasonality has period of 365.25 days which is larger than initial window. Consider increasing initial.\n"
     ]
    },
    {
     "data": {
      "application/vnd.jupyter.widget-view+json": {
       "model_id": "be149f47d4a24144a4c12d9fcf7fc2ff",
       "version_major": 2,
       "version_minor": 0
      },
      "text/plain": [
       "  0%|          | 0/7 [00:00<?, ?it/s]"
      ]
     },
     "metadata": {},
     "output_type": "display_data"
    },
    {
     "name": "stderr",
     "output_type": "stream",
     "text": [
      "18:29:40 - cmdstanpy - INFO - Chain [1] start processing\n",
      "18:29:41 - cmdstanpy - INFO - Chain [1] done processing\n",
      "18:29:41 - cmdstanpy - INFO - Chain [1] start processing\n",
      "18:29:41 - cmdstanpy - INFO - Chain [1] done processing\n",
      "18:29:42 - cmdstanpy - INFO - Chain [1] start processing\n",
      "18:29:42 - cmdstanpy - INFO - Chain [1] done processing\n",
      "18:29:42 - cmdstanpy - INFO - Chain [1] start processing\n",
      "18:29:42 - cmdstanpy - INFO - Chain [1] done processing\n",
      "18:29:42 - cmdstanpy - INFO - Chain [1] start processing\n",
      "18:29:42 - cmdstanpy - INFO - Chain [1] done processing\n",
      "18:29:43 - cmdstanpy - INFO - Chain [1] start processing\n",
      "18:29:43 - cmdstanpy - INFO - Chain [1] done processing\n",
      "18:29:43 - cmdstanpy - INFO - Chain [1] start processing\n",
      "18:29:43 - cmdstanpy - INFO - Chain [1] done processing\n"
     ]
    },
    {
     "name": "stdout",
     "output_type": "stream",
     "text": [
      "MAPE:0.17, PARAM:{'changepoint_prior_scale': 0.025, 'seasonality_prior_scale': 0.1, 'holidays_prior_scale': 0.01, 'seasonality_mode': 'additive'}\n"
     ]
    },
    {
     "name": "stderr",
     "output_type": "stream",
     "text": [
      "18:29:43 - cmdstanpy - INFO - Chain [1] start processing\n",
      "18:29:44 - cmdstanpy - INFO - Chain [1] done processing\n",
      "Seasonality has period of 365.25 days which is larger than initial window. Consider increasing initial.\n"
     ]
    },
    {
     "data": {
      "application/vnd.jupyter.widget-view+json": {
       "model_id": "ac610c1433cb466d9602e5ef1f95a5bf",
       "version_major": 2,
       "version_minor": 0
      },
      "text/plain": [
       "  0%|          | 0/7 [00:00<?, ?it/s]"
      ]
     },
     "metadata": {},
     "output_type": "display_data"
    },
    {
     "name": "stderr",
     "output_type": "stream",
     "text": [
      "18:29:44 - cmdstanpy - INFO - Chain [1] start processing\n",
      "18:29:44 - cmdstanpy - INFO - Chain [1] done processing\n",
      "18:29:44 - cmdstanpy - INFO - Chain [1] start processing\n",
      "18:29:45 - cmdstanpy - INFO - Chain [1] done processing\n",
      "18:29:45 - cmdstanpy - INFO - Chain [1] start processing\n",
      "18:29:46 - cmdstanpy - INFO - Chain [1] done processing\n",
      "18:29:46 - cmdstanpy - INFO - Chain [1] start processing\n",
      "18:29:46 - cmdstanpy - INFO - Chain [1] done processing\n",
      "18:29:46 - cmdstanpy - INFO - Chain [1] start processing\n",
      "18:29:46 - cmdstanpy - INFO - Chain [1] done processing\n",
      "18:29:47 - cmdstanpy - INFO - Chain [1] start processing\n",
      "18:29:47 - cmdstanpy - INFO - Chain [1] done processing\n",
      "18:29:47 - cmdstanpy - INFO - Chain [1] start processing\n",
      "18:29:47 - cmdstanpy - INFO - Chain [1] done processing\n"
     ]
    },
    {
     "name": "stdout",
     "output_type": "stream",
     "text": [
      "MAPE:0.15, PARAM:{'changepoint_prior_scale': 0.025, 'seasonality_prior_scale': 0.1, 'holidays_prior_scale': 0.01, 'seasonality_mode': 'multiplicative'}\n"
     ]
    },
    {
     "name": "stderr",
     "output_type": "stream",
     "text": [
      "18:29:47 - cmdstanpy - INFO - Chain [1] start processing\n",
      "18:29:47 - cmdstanpy - INFO - Chain [1] done processing\n",
      "Seasonality has period of 365.25 days which is larger than initial window. Consider increasing initial.\n"
     ]
    },
    {
     "data": {
      "application/vnd.jupyter.widget-view+json": {
       "model_id": "a9fc6cffb4f24df1b737db3fd14ea1b1",
       "version_major": 2,
       "version_minor": 0
      },
      "text/plain": [
       "  0%|          | 0/7 [00:00<?, ?it/s]"
      ]
     },
     "metadata": {},
     "output_type": "display_data"
    },
    {
     "name": "stderr",
     "output_type": "stream",
     "text": [
      "18:29:48 - cmdstanpy - INFO - Chain [1] start processing\n",
      "18:29:48 - cmdstanpy - INFO - Chain [1] done processing\n",
      "18:29:48 - cmdstanpy - INFO - Chain [1] start processing\n",
      "18:29:48 - cmdstanpy - INFO - Chain [1] done processing\n",
      "18:29:49 - cmdstanpy - INFO - Chain [1] start processing\n",
      "18:29:49 - cmdstanpy - INFO - Chain [1] done processing\n",
      "18:29:49 - cmdstanpy - INFO - Chain [1] start processing\n",
      "18:29:49 - cmdstanpy - INFO - Chain [1] done processing\n",
      "18:29:49 - cmdstanpy - INFO - Chain [1] start processing\n",
      "18:29:49 - cmdstanpy - INFO - Chain [1] done processing\n",
      "18:29:50 - cmdstanpy - INFO - Chain [1] start processing\n",
      "18:29:50 - cmdstanpy - INFO - Chain [1] done processing\n",
      "18:29:50 - cmdstanpy - INFO - Chain [1] start processing\n",
      "18:29:50 - cmdstanpy - INFO - Chain [1] done processing\n"
     ]
    },
    {
     "name": "stdout",
     "output_type": "stream",
     "text": [
      "MAPE:0.20, PARAM:{'changepoint_prior_scale': 0.025, 'seasonality_prior_scale': 0.15, 'holidays_prior_scale': 0.01, 'seasonality_mode': 'additive'}\n"
     ]
    },
    {
     "name": "stderr",
     "output_type": "stream",
     "text": [
      "18:29:51 - cmdstanpy - INFO - Chain [1] start processing\n",
      "18:29:51 - cmdstanpy - INFO - Chain [1] done processing\n",
      "Seasonality has period of 365.25 days which is larger than initial window. Consider increasing initial.\n"
     ]
    },
    {
     "data": {
      "application/vnd.jupyter.widget-view+json": {
       "model_id": "83ee1b18cce14d22a17c572492b63e78",
       "version_major": 2,
       "version_minor": 0
      },
      "text/plain": [
       "  0%|          | 0/7 [00:00<?, ?it/s]"
      ]
     },
     "metadata": {},
     "output_type": "display_data"
    },
    {
     "name": "stderr",
     "output_type": "stream",
     "text": [
      "18:29:51 - cmdstanpy - INFO - Chain [1] start processing\n",
      "18:30:04 - cmdstanpy - INFO - Chain [1] done processing\n",
      "18:30:05 - cmdstanpy - INFO - Chain [1] start processing\n",
      "18:30:07 - cmdstanpy - INFO - Chain [1] done processing\n",
      "18:30:07 - cmdstanpy - INFO - Chain [1] start processing\n",
      "18:30:07 - cmdstanpy - INFO - Chain [1] done processing\n",
      "18:30:07 - cmdstanpy - INFO - Chain [1] start processing\n",
      "18:30:07 - cmdstanpy - INFO - Chain [1] done processing\n",
      "18:30:08 - cmdstanpy - INFO - Chain [1] start processing\n",
      "18:30:08 - cmdstanpy - INFO - Chain [1] done processing\n",
      "18:30:08 - cmdstanpy - INFO - Chain [1] start processing\n",
      "18:30:08 - cmdstanpy - INFO - Chain [1] done processing\n",
      "18:30:08 - cmdstanpy - INFO - Chain [1] start processing\n",
      "18:30:08 - cmdstanpy - INFO - Chain [1] done processing\n"
     ]
    },
    {
     "name": "stdout",
     "output_type": "stream",
     "text": [
      "MAPE:0.16, PARAM:{'changepoint_prior_scale': 0.025, 'seasonality_prior_scale': 0.15, 'holidays_prior_scale': 0.01, 'seasonality_mode': 'multiplicative'}\n"
     ]
    },
    {
     "name": "stderr",
     "output_type": "stream",
     "text": [
      "18:30:09 - cmdstanpy - INFO - Chain [1] start processing\n",
      "18:30:09 - cmdstanpy - INFO - Chain [1] done processing\n",
      "Seasonality has period of 365.25 days which is larger than initial window. Consider increasing initial.\n"
     ]
    },
    {
     "data": {
      "application/vnd.jupyter.widget-view+json": {
       "model_id": "d7a07262df884909b76c534e983f970f",
       "version_major": 2,
       "version_minor": 0
      },
      "text/plain": [
       "  0%|          | 0/7 [00:00<?, ?it/s]"
      ]
     },
     "metadata": {},
     "output_type": "display_data"
    },
    {
     "name": "stderr",
     "output_type": "stream",
     "text": [
      "18:30:09 - cmdstanpy - INFO - Chain [1] start processing\n",
      "18:30:10 - cmdstanpy - INFO - Chain [1] done processing\n",
      "18:30:10 - cmdstanpy - INFO - Chain [1] start processing\n",
      "18:30:11 - cmdstanpy - INFO - Chain [1] done processing\n",
      "18:30:11 - cmdstanpy - INFO - Chain [1] start processing\n",
      "18:30:11 - cmdstanpy - INFO - Chain [1] done processing\n",
      "18:30:11 - cmdstanpy - INFO - Chain [1] start processing\n",
      "18:30:11 - cmdstanpy - INFO - Chain [1] done processing\n",
      "18:30:12 - cmdstanpy - INFO - Chain [1] start processing\n",
      "18:30:12 - cmdstanpy - INFO - Chain [1] done processing\n",
      "18:30:12 - cmdstanpy - INFO - Chain [1] start processing\n",
      "18:30:12 - cmdstanpy - INFO - Chain [1] done processing\n",
      "18:30:12 - cmdstanpy - INFO - Chain [1] start processing\n",
      "18:30:12 - cmdstanpy - INFO - Chain [1] done processing\n"
     ]
    },
    {
     "name": "stdout",
     "output_type": "stream",
     "text": [
      "MAPE:0.13, PARAM:{'changepoint_prior_scale': 0.03, 'seasonality_prior_scale': 0.001, 'holidays_prior_scale': 0.01, 'seasonality_mode': 'additive'}\n"
     ]
    },
    {
     "name": "stderr",
     "output_type": "stream",
     "text": [
      "18:30:13 - cmdstanpy - INFO - Chain [1] start processing\n",
      "18:30:13 - cmdstanpy - INFO - Chain [1] done processing\n",
      "Seasonality has period of 365.25 days which is larger than initial window. Consider increasing initial.\n"
     ]
    },
    {
     "data": {
      "application/vnd.jupyter.widget-view+json": {
       "model_id": "c9ab7ef11a5f497d97752b63e7249f1c",
       "version_major": 2,
       "version_minor": 0
      },
      "text/plain": [
       "  0%|          | 0/7 [00:00<?, ?it/s]"
      ]
     },
     "metadata": {},
     "output_type": "display_data"
    },
    {
     "name": "stderr",
     "output_type": "stream",
     "text": [
      "18:30:13 - cmdstanpy - INFO - Chain [1] start processing\n",
      "18:30:14 - cmdstanpy - INFO - Chain [1] done processing\n",
      "18:30:14 - cmdstanpy - INFO - Chain [1] start processing\n",
      "18:30:15 - cmdstanpy - INFO - Chain [1] done processing\n",
      "18:30:15 - cmdstanpy - INFO - Chain [1] start processing\n",
      "18:30:15 - cmdstanpy - INFO - Chain [1] done processing\n",
      "18:30:16 - cmdstanpy - INFO - Chain [1] start processing\n",
      "18:30:16 - cmdstanpy - INFO - Chain [1] done processing\n",
      "18:30:16 - cmdstanpy - INFO - Chain [1] start processing\n",
      "18:30:16 - cmdstanpy - INFO - Chain [1] done processing\n",
      "18:30:16 - cmdstanpy - INFO - Chain [1] start processing\n",
      "18:30:16 - cmdstanpy - INFO - Chain [1] done processing\n",
      "18:30:17 - cmdstanpy - INFO - Chain [1] start processing\n",
      "18:30:17 - cmdstanpy - INFO - Chain [1] done processing\n"
     ]
    },
    {
     "name": "stdout",
     "output_type": "stream",
     "text": [
      "MAPE:0.13, PARAM:{'changepoint_prior_scale': 0.03, 'seasonality_prior_scale': 0.001, 'holidays_prior_scale': 0.01, 'seasonality_mode': 'multiplicative'}\n"
     ]
    },
    {
     "name": "stderr",
     "output_type": "stream",
     "text": [
      "18:30:17 - cmdstanpy - INFO - Chain [1] start processing\n",
      "18:30:17 - cmdstanpy - INFO - Chain [1] done processing\n",
      "Seasonality has period of 365.25 days which is larger than initial window. Consider increasing initial.\n"
     ]
    },
    {
     "data": {
      "application/vnd.jupyter.widget-view+json": {
       "model_id": "d07955aaf14e4d72afc44240c13342a4",
       "version_major": 2,
       "version_minor": 0
      },
      "text/plain": [
       "  0%|          | 0/7 [00:00<?, ?it/s]"
      ]
     },
     "metadata": {},
     "output_type": "display_data"
    },
    {
     "name": "stderr",
     "output_type": "stream",
     "text": [
      "18:30:17 - cmdstanpy - INFO - Chain [1] start processing\n",
      "18:30:18 - cmdstanpy - INFO - Chain [1] done processing\n",
      "18:30:18 - cmdstanpy - INFO - Chain [1] start processing\n",
      "18:30:19 - cmdstanpy - INFO - Chain [1] done processing\n",
      "18:30:19 - cmdstanpy - INFO - Chain [1] start processing\n",
      "18:30:19 - cmdstanpy - INFO - Chain [1] done processing\n",
      "18:30:19 - cmdstanpy - INFO - Chain [1] start processing\n",
      "18:30:19 - cmdstanpy - INFO - Chain [1] done processing\n",
      "18:30:20 - cmdstanpy - INFO - Chain [1] start processing\n",
      "18:30:20 - cmdstanpy - INFO - Chain [1] done processing\n",
      "18:30:20 - cmdstanpy - INFO - Chain [1] start processing\n",
      "18:30:20 - cmdstanpy - INFO - Chain [1] done processing\n",
      "18:30:20 - cmdstanpy - INFO - Chain [1] start processing\n",
      "18:30:20 - cmdstanpy - INFO - Chain [1] done processing\n"
     ]
    },
    {
     "name": "stdout",
     "output_type": "stream",
     "text": [
      "MAPE:0.10, PARAM:{'changepoint_prior_scale': 0.03, 'seasonality_prior_scale': 0.01, 'holidays_prior_scale': 0.01, 'seasonality_mode': 'additive'}\n"
     ]
    },
    {
     "name": "stderr",
     "output_type": "stream",
     "text": [
      "18:30:21 - cmdstanpy - INFO - Chain [1] start processing\n",
      "18:30:21 - cmdstanpy - INFO - Chain [1] done processing\n",
      "Seasonality has period of 365.25 days which is larger than initial window. Consider increasing initial.\n"
     ]
    },
    {
     "data": {
      "application/vnd.jupyter.widget-view+json": {
       "model_id": "c45cedf0c12d4f818042ed51b3d04214",
       "version_major": 2,
       "version_minor": 0
      },
      "text/plain": [
       "  0%|          | 0/7 [00:00<?, ?it/s]"
      ]
     },
     "metadata": {},
     "output_type": "display_data"
    },
    {
     "name": "stderr",
     "output_type": "stream",
     "text": [
      "18:30:21 - cmdstanpy - INFO - Chain [1] start processing\n",
      "18:30:22 - cmdstanpy - INFO - Chain [1] done processing\n",
      "18:30:22 - cmdstanpy - INFO - Chain [1] start processing\n",
      "18:30:22 - cmdstanpy - INFO - Chain [1] done processing\n",
      "18:30:23 - cmdstanpy - INFO - Chain [1] start processing\n",
      "18:30:23 - cmdstanpy - INFO - Chain [1] done processing\n",
      "18:30:23 - cmdstanpy - INFO - Chain [1] start processing\n",
      "18:30:23 - cmdstanpy - INFO - Chain [1] done processing\n",
      "18:30:23 - cmdstanpy - INFO - Chain [1] start processing\n",
      "18:30:23 - cmdstanpy - INFO - Chain [1] done processing\n",
      "18:30:24 - cmdstanpy - INFO - Chain [1] start processing\n",
      "18:30:24 - cmdstanpy - INFO - Chain [1] done processing\n",
      "18:30:24 - cmdstanpy - INFO - Chain [1] start processing\n",
      "18:30:24 - cmdstanpy - INFO - Chain [1] done processing\n"
     ]
    },
    {
     "name": "stdout",
     "output_type": "stream",
     "text": [
      "MAPE:0.10, PARAM:{'changepoint_prior_scale': 0.03, 'seasonality_prior_scale': 0.01, 'holidays_prior_scale': 0.01, 'seasonality_mode': 'multiplicative'}\n"
     ]
    },
    {
     "name": "stderr",
     "output_type": "stream",
     "text": [
      "18:30:24 - cmdstanpy - INFO - Chain [1] start processing\n",
      "18:30:25 - cmdstanpy - INFO - Chain [1] done processing\n",
      "Seasonality has period of 365.25 days which is larger than initial window. Consider increasing initial.\n"
     ]
    },
    {
     "data": {
      "application/vnd.jupyter.widget-view+json": {
       "model_id": "958f4319764d4ea8a4403b4a9079f03e",
       "version_major": 2,
       "version_minor": 0
      },
      "text/plain": [
       "  0%|          | 0/7 [00:00<?, ?it/s]"
      ]
     },
     "metadata": {},
     "output_type": "display_data"
    },
    {
     "name": "stderr",
     "output_type": "stream",
     "text": [
      "18:30:25 - cmdstanpy - INFO - Chain [1] start processing\n",
      "18:30:25 - cmdstanpy - INFO - Chain [1] done processing\n",
      "18:30:25 - cmdstanpy - INFO - Chain [1] start processing\n",
      "18:30:26 - cmdstanpy - INFO - Chain [1] done processing\n",
      "18:30:26 - cmdstanpy - INFO - Chain [1] start processing\n",
      "18:30:26 - cmdstanpy - INFO - Chain [1] done processing\n",
      "18:30:26 - cmdstanpy - INFO - Chain [1] start processing\n",
      "18:30:26 - cmdstanpy - INFO - Chain [1] done processing\n",
      "18:30:27 - cmdstanpy - INFO - Chain [1] start processing\n",
      "18:30:27 - cmdstanpy - INFO - Chain [1] done processing\n",
      "18:30:27 - cmdstanpy - INFO - Chain [1] start processing\n",
      "18:30:27 - cmdstanpy - INFO - Chain [1] done processing\n",
      "18:30:27 - cmdstanpy - INFO - Chain [1] start processing\n",
      "18:30:27 - cmdstanpy - INFO - Chain [1] done processing\n"
     ]
    },
    {
     "name": "stdout",
     "output_type": "stream",
     "text": [
      "MAPE:0.17, PARAM:{'changepoint_prior_scale': 0.03, 'seasonality_prior_scale': 0.1, 'holidays_prior_scale': 0.01, 'seasonality_mode': 'additive'}\n"
     ]
    },
    {
     "name": "stderr",
     "output_type": "stream",
     "text": [
      "18:30:28 - cmdstanpy - INFO - Chain [1] start processing\n",
      "18:30:28 - cmdstanpy - INFO - Chain [1] done processing\n",
      "Seasonality has period of 365.25 days which is larger than initial window. Consider increasing initial.\n"
     ]
    },
    {
     "data": {
      "application/vnd.jupyter.widget-view+json": {
       "model_id": "ff7df4c053674980b8519132ae58c723",
       "version_major": 2,
       "version_minor": 0
      },
      "text/plain": [
       "  0%|          | 0/7 [00:00<?, ?it/s]"
      ]
     },
     "metadata": {},
     "output_type": "display_data"
    },
    {
     "name": "stderr",
     "output_type": "stream",
     "text": [
      "18:30:28 - cmdstanpy - INFO - Chain [1] start processing\n",
      "18:30:29 - cmdstanpy - INFO - Chain [1] done processing\n",
      "18:30:29 - cmdstanpy - INFO - Chain [1] start processing\n",
      "18:30:30 - cmdstanpy - INFO - Chain [1] done processing\n",
      "18:30:31 - cmdstanpy - INFO - Chain [1] start processing\n",
      "18:30:31 - cmdstanpy - INFO - Chain [1] done processing\n",
      "18:30:31 - cmdstanpy - INFO - Chain [1] start processing\n",
      "18:30:31 - cmdstanpy - INFO - Chain [1] done processing\n",
      "18:30:31 - cmdstanpy - INFO - Chain [1] start processing\n",
      "18:30:31 - cmdstanpy - INFO - Chain [1] done processing\n",
      "18:30:32 - cmdstanpy - INFO - Chain [1] start processing\n",
      "18:30:32 - cmdstanpy - INFO - Chain [1] done processing\n",
      "18:30:32 - cmdstanpy - INFO - Chain [1] start processing\n",
      "18:30:32 - cmdstanpy - INFO - Chain [1] done processing\n"
     ]
    },
    {
     "name": "stdout",
     "output_type": "stream",
     "text": [
      "MAPE:0.13, PARAM:{'changepoint_prior_scale': 0.03, 'seasonality_prior_scale': 0.1, 'holidays_prior_scale': 0.01, 'seasonality_mode': 'multiplicative'}\n"
     ]
    },
    {
     "name": "stderr",
     "output_type": "stream",
     "text": [
      "18:30:32 - cmdstanpy - INFO - Chain [1] start processing\n",
      "18:30:33 - cmdstanpy - INFO - Chain [1] done processing\n",
      "Seasonality has period of 365.25 days which is larger than initial window. Consider increasing initial.\n"
     ]
    },
    {
     "data": {
      "application/vnd.jupyter.widget-view+json": {
       "model_id": "bc0945b8ba7d4179b0371b03e248699e",
       "version_major": 2,
       "version_minor": 0
      },
      "text/plain": [
       "  0%|          | 0/7 [00:00<?, ?it/s]"
      ]
     },
     "metadata": {},
     "output_type": "display_data"
    },
    {
     "name": "stderr",
     "output_type": "stream",
     "text": [
      "18:30:33 - cmdstanpy - INFO - Chain [1] start processing\n",
      "18:30:33 - cmdstanpy - INFO - Chain [1] done processing\n",
      "18:30:33 - cmdstanpy - INFO - Chain [1] start processing\n",
      "18:30:34 - cmdstanpy - INFO - Chain [1] done processing\n",
      "18:30:34 - cmdstanpy - INFO - Chain [1] start processing\n",
      "18:30:34 - cmdstanpy - INFO - Chain [1] done processing\n",
      "18:30:35 - cmdstanpy - INFO - Chain [1] start processing\n",
      "18:30:35 - cmdstanpy - INFO - Chain [1] done processing\n",
      "18:30:35 - cmdstanpy - INFO - Chain [1] start processing\n",
      "18:30:35 - cmdstanpy - INFO - Chain [1] done processing\n",
      "18:30:35 - cmdstanpy - INFO - Chain [1] start processing\n",
      "18:30:35 - cmdstanpy - INFO - Chain [1] done processing\n",
      "18:30:36 - cmdstanpy - INFO - Chain [1] start processing\n",
      "18:30:36 - cmdstanpy - INFO - Chain [1] done processing\n"
     ]
    },
    {
     "name": "stdout",
     "output_type": "stream",
     "text": [
      "MAPE:0.22, PARAM:{'changepoint_prior_scale': 0.03, 'seasonality_prior_scale': 0.15, 'holidays_prior_scale': 0.01, 'seasonality_mode': 'additive'}\n"
     ]
    },
    {
     "name": "stderr",
     "output_type": "stream",
     "text": [
      "18:30:36 - cmdstanpy - INFO - Chain [1] start processing\n",
      "18:30:36 - cmdstanpy - INFO - Chain [1] done processing\n",
      "Seasonality has period of 365.25 days which is larger than initial window. Consider increasing initial.\n"
     ]
    },
    {
     "data": {
      "application/vnd.jupyter.widget-view+json": {
       "model_id": "422d3aad65784af5a539c3a000153a40",
       "version_major": 2,
       "version_minor": 0
      },
      "text/plain": [
       "  0%|          | 0/7 [00:00<?, ?it/s]"
      ]
     },
     "metadata": {},
     "output_type": "display_data"
    },
    {
     "name": "stderr",
     "output_type": "stream",
     "text": [
      "18:30:37 - cmdstanpy - INFO - Chain [1] start processing\n",
      "18:30:39 - cmdstanpy - INFO - Chain [1] done processing\n",
      "18:30:39 - cmdstanpy - INFO - Chain [1] start processing\n",
      "18:30:40 - cmdstanpy - INFO - Chain [1] done processing\n",
      "18:30:41 - cmdstanpy - INFO - Chain [1] start processing\n",
      "18:30:41 - cmdstanpy - INFO - Chain [1] done processing\n",
      "18:30:41 - cmdstanpy - INFO - Chain [1] start processing\n",
      "18:30:41 - cmdstanpy - INFO - Chain [1] done processing\n",
      "18:30:42 - cmdstanpy - INFO - Chain [1] start processing\n",
      "18:30:42 - cmdstanpy - INFO - Chain [1] done processing\n",
      "18:30:42 - cmdstanpy - INFO - Chain [1] start processing\n",
      "18:30:42 - cmdstanpy - INFO - Chain [1] done processing\n",
      "18:30:42 - cmdstanpy - INFO - Chain [1] start processing\n",
      "18:30:42 - cmdstanpy - INFO - Chain [1] done processing\n"
     ]
    },
    {
     "name": "stdout",
     "output_type": "stream",
     "text": [
      "MAPE:0.17, PARAM:{'changepoint_prior_scale': 0.03, 'seasonality_prior_scale': 0.15, 'holidays_prior_scale': 0.01, 'seasonality_mode': 'multiplicative'}\n"
     ]
    },
    {
     "name": "stderr",
     "output_type": "stream",
     "text": [
      "18:30:43 - cmdstanpy - INFO - Chain [1] start processing\n",
      "18:30:43 - cmdstanpy - INFO - Chain [1] done processing\n"
     ]
    },
    {
     "name": "stdout",
     "output_type": "stream",
     "text": [
      "          ds       yhat\n",
      "0 2020-01-02  20.357042\n",
      "1 2020-01-03  20.342070\n",
      "2 2020-01-06  20.372830\n",
      "3 2020-01-07  20.496529\n",
      "4 2020-01-08  20.507049\n",
      "            ds       yhat\n",
      "337 2021-04-30  21.322626\n",
      "338 2021-05-03  21.219832\n",
      "339 2021-05-04  21.350539\n",
      "340 2021-05-05  21.350580\n",
      "341 2021-05-06  21.430477\n",
      " \n",
      "best_mape_from_fuction = best_mape 0.1029330019199205\n",
      " \n",
      "best_params_from_function =  {'changepoint_prior_scale': 0.03, 'seasonality_prior_scale': 0.01, 'holidays_prior_scale': 0.01, 'seasonality_mode': 'multiplicative'}\n",
      "forecast_df.shape =  (90, 2)\n",
      "merged_data.shape =  (63, 3)\n",
      " \n",
      "MAPE_Score =  6.527379805958088\n",
      " \n"
     ]
    }
   ],
   "source": [
    "# Iteration 2\n",
    "best_mape,  best_params = optimize_prophet(df_train = df2_train,total_days = 252, params = {\n",
    "    \n",
    "        'changepoint_prior_scale': [0.02,0.025,0.03], \n",
    "        'seasonality_prior_scale': [0.001,0.01, 0.1,0.15],\n",
    "        'holidays_prior_scale': [0.01],\n",
    "        'seasonality_mode': ['additive','multiplicative']\n",
    "    }\n",
    "                    )\n",
    "forecast_df, merged_data, MAPE_Score  = func_test_forecast_MAPE(\n",
    "best_mape_from_function = best_mape,\n",
    "params = best_params,\n",
    "country = 'Turkey',\n",
    "df_train = df2_train)"
   ]
  },
  {
   "cell_type": "code",
   "execution_count": null,
   "id": "2bce93d9-e2f2-4a81-97e6-142ff2f196fa",
   "metadata": {},
   "outputs": [],
   "source": [
    "# Iteration 2 MAPE_train_test =  6.527379805958088"
   ]
  },
  {
   "cell_type": "code",
   "execution_count": 127,
   "id": "9d926455-1d09-4ecc-b8c4-ee412da9ab1a",
   "metadata": {},
   "outputs": [
    {
     "name": "stderr",
     "output_type": "stream",
     "text": [
      "18:30:43 - cmdstanpy - INFO - Chain [1] start processing\n",
      "18:30:43 - cmdstanpy - INFO - Chain [1] done processing\n",
      "Seasonality has period of 365.25 days which is larger than initial window. Consider increasing initial.\n"
     ]
    },
    {
     "data": {
      "application/vnd.jupyter.widget-view+json": {
       "model_id": "e2cdd29d76e84498be6d5bb95723aa88",
       "version_major": 2,
       "version_minor": 0
      },
      "text/plain": [
       "  0%|          | 0/7 [00:00<?, ?it/s]"
      ]
     },
     "metadata": {},
     "output_type": "display_data"
    },
    {
     "name": "stderr",
     "output_type": "stream",
     "text": [
      "18:30:44 - cmdstanpy - INFO - Chain [1] start processing\n",
      "18:30:44 - cmdstanpy - INFO - Chain [1] done processing\n",
      "18:30:45 - cmdstanpy - INFO - Chain [1] start processing\n",
      "18:30:46 - cmdstanpy - INFO - Chain [1] done processing\n",
      "18:30:46 - cmdstanpy - INFO - Chain [1] start processing\n",
      "18:30:46 - cmdstanpy - INFO - Chain [1] done processing\n",
      "18:30:46 - cmdstanpy - INFO - Chain [1] start processing\n",
      "18:30:47 - cmdstanpy - INFO - Chain [1] done processing\n",
      "18:30:47 - cmdstanpy - INFO - Chain [1] start processing\n",
      "18:30:47 - cmdstanpy - INFO - Chain [1] done processing\n",
      "18:30:47 - cmdstanpy - INFO - Chain [1] start processing\n",
      "18:30:47 - cmdstanpy - INFO - Chain [1] done processing\n",
      "18:30:48 - cmdstanpy - INFO - Chain [1] start processing\n",
      "18:30:48 - cmdstanpy - INFO - Chain [1] done processing\n"
     ]
    },
    {
     "name": "stdout",
     "output_type": "stream",
     "text": [
      "MAPE:0.13, PARAM:{'changepoint_prior_scale': 0.03, 'seasonality_prior_scale': 0.001, 'holidays_prior_scale': 0.01, 'seasonality_mode': 'additive'}\n"
     ]
    },
    {
     "name": "stderr",
     "output_type": "stream",
     "text": [
      "18:30:48 - cmdstanpy - INFO - Chain [1] start processing\n",
      "18:30:48 - cmdstanpy - INFO - Chain [1] done processing\n",
      "Seasonality has period of 365.25 days which is larger than initial window. Consider increasing initial.\n"
     ]
    },
    {
     "data": {
      "application/vnd.jupyter.widget-view+json": {
       "model_id": "c896e0127d604d9bae7406c8b21d469c",
       "version_major": 2,
       "version_minor": 0
      },
      "text/plain": [
       "  0%|          | 0/7 [00:00<?, ?it/s]"
      ]
     },
     "metadata": {},
     "output_type": "display_data"
    },
    {
     "name": "stderr",
     "output_type": "stream",
     "text": [
      "18:30:48 - cmdstanpy - INFO - Chain [1] start processing\n",
      "18:30:49 - cmdstanpy - INFO - Chain [1] done processing\n",
      "18:30:49 - cmdstanpy - INFO - Chain [1] start processing\n",
      "18:30:50 - cmdstanpy - INFO - Chain [1] done processing\n",
      "18:30:50 - cmdstanpy - INFO - Chain [1] start processing\n",
      "18:30:50 - cmdstanpy - INFO - Chain [1] done processing\n",
      "18:30:51 - cmdstanpy - INFO - Chain [1] start processing\n",
      "18:30:51 - cmdstanpy - INFO - Chain [1] done processing\n",
      "18:30:51 - cmdstanpy - INFO - Chain [1] start processing\n",
      "18:30:51 - cmdstanpy - INFO - Chain [1] done processing\n",
      "18:30:51 - cmdstanpy - INFO - Chain [1] start processing\n",
      "18:30:51 - cmdstanpy - INFO - Chain [1] done processing\n",
      "18:30:52 - cmdstanpy - INFO - Chain [1] start processing\n",
      "18:30:52 - cmdstanpy - INFO - Chain [1] done processing\n"
     ]
    },
    {
     "name": "stdout",
     "output_type": "stream",
     "text": [
      "MAPE:0.13, PARAM:{'changepoint_prior_scale': 0.03, 'seasonality_prior_scale': 0.001, 'holidays_prior_scale': 0.01, 'seasonality_mode': 'multiplicative'}\n"
     ]
    },
    {
     "name": "stderr",
     "output_type": "stream",
     "text": [
      "18:30:52 - cmdstanpy - INFO - Chain [1] start processing\n",
      "18:30:52 - cmdstanpy - INFO - Chain [1] done processing\n",
      "Seasonality has period of 365.25 days which is larger than initial window. Consider increasing initial.\n"
     ]
    },
    {
     "data": {
      "application/vnd.jupyter.widget-view+json": {
       "model_id": "3c18e518b870487cba196bdb4eac5c44",
       "version_major": 2,
       "version_minor": 0
      },
      "text/plain": [
       "  0%|          | 0/7 [00:00<?, ?it/s]"
      ]
     },
     "metadata": {},
     "output_type": "display_data"
    },
    {
     "name": "stderr",
     "output_type": "stream",
     "text": [
      "18:30:53 - cmdstanpy - INFO - Chain [1] start processing\n",
      "18:30:53 - cmdstanpy - INFO - Chain [1] done processing\n",
      "18:30:53 - cmdstanpy - INFO - Chain [1] start processing\n",
      "18:30:54 - cmdstanpy - INFO - Chain [1] done processing\n",
      "18:30:54 - cmdstanpy - INFO - Chain [1] start processing\n",
      "18:30:54 - cmdstanpy - INFO - Chain [1] done processing\n",
      "18:30:55 - cmdstanpy - INFO - Chain [1] start processing\n",
      "18:30:55 - cmdstanpy - INFO - Chain [1] done processing\n",
      "18:30:55 - cmdstanpy - INFO - Chain [1] start processing\n",
      "18:30:55 - cmdstanpy - INFO - Chain [1] done processing\n",
      "18:30:55 - cmdstanpy - INFO - Chain [1] start processing\n",
      "18:30:55 - cmdstanpy - INFO - Chain [1] done processing\n",
      "18:30:56 - cmdstanpy - INFO - Chain [1] start processing\n",
      "18:30:56 - cmdstanpy - INFO - Chain [1] done processing\n"
     ]
    },
    {
     "name": "stdout",
     "output_type": "stream",
     "text": [
      "MAPE:0.10, PARAM:{'changepoint_prior_scale': 0.03, 'seasonality_prior_scale': 0.01, 'holidays_prior_scale': 0.01, 'seasonality_mode': 'additive'}\n"
     ]
    },
    {
     "name": "stderr",
     "output_type": "stream",
     "text": [
      "18:30:56 - cmdstanpy - INFO - Chain [1] start processing\n",
      "18:30:56 - cmdstanpy - INFO - Chain [1] done processing\n",
      "Seasonality has period of 365.25 days which is larger than initial window. Consider increasing initial.\n"
     ]
    },
    {
     "data": {
      "application/vnd.jupyter.widget-view+json": {
       "model_id": "1512615f6ffe40c48680da023ee5a137",
       "version_major": 2,
       "version_minor": 0
      },
      "text/plain": [
       "  0%|          | 0/7 [00:00<?, ?it/s]"
      ]
     },
     "metadata": {},
     "output_type": "display_data"
    },
    {
     "name": "stderr",
     "output_type": "stream",
     "text": [
      "18:30:57 - cmdstanpy - INFO - Chain [1] start processing\n",
      "18:30:57 - cmdstanpy - INFO - Chain [1] done processing\n",
      "18:30:57 - cmdstanpy - INFO - Chain [1] start processing\n",
      "18:30:58 - cmdstanpy - INFO - Chain [1] done processing\n",
      "18:30:58 - cmdstanpy - INFO - Chain [1] start processing\n",
      "18:30:58 - cmdstanpy - INFO - Chain [1] done processing\n",
      "18:30:59 - cmdstanpy - INFO - Chain [1] start processing\n",
      "18:30:59 - cmdstanpy - INFO - Chain [1] done processing\n",
      "18:30:59 - cmdstanpy - INFO - Chain [1] start processing\n",
      "18:30:59 - cmdstanpy - INFO - Chain [1] done processing\n",
      "18:30:59 - cmdstanpy - INFO - Chain [1] start processing\n",
      "18:30:59 - cmdstanpy - INFO - Chain [1] done processing\n",
      "18:31:00 - cmdstanpy - INFO - Chain [1] start processing\n",
      "18:31:00 - cmdstanpy - INFO - Chain [1] done processing\n"
     ]
    },
    {
     "name": "stdout",
     "output_type": "stream",
     "text": [
      "MAPE:0.10, PARAM:{'changepoint_prior_scale': 0.03, 'seasonality_prior_scale': 0.01, 'holidays_prior_scale': 0.01, 'seasonality_mode': 'multiplicative'}\n"
     ]
    },
    {
     "name": "stderr",
     "output_type": "stream",
     "text": [
      "18:31:00 - cmdstanpy - INFO - Chain [1] start processing\n",
      "18:31:00 - cmdstanpy - INFO - Chain [1] done processing\n",
      "Seasonality has period of 365.25 days which is larger than initial window. Consider increasing initial.\n"
     ]
    },
    {
     "data": {
      "application/vnd.jupyter.widget-view+json": {
       "model_id": "fe3014e987f8465f9cb7f73e5fc522f1",
       "version_major": 2,
       "version_minor": 0
      },
      "text/plain": [
       "  0%|          | 0/7 [00:00<?, ?it/s]"
      ]
     },
     "metadata": {},
     "output_type": "display_data"
    },
    {
     "name": "stderr",
     "output_type": "stream",
     "text": [
      "18:31:00 - cmdstanpy - INFO - Chain [1] start processing\n",
      "18:31:01 - cmdstanpy - INFO - Chain [1] done processing\n",
      "18:31:01 - cmdstanpy - INFO - Chain [1] start processing\n",
      "18:31:01 - cmdstanpy - INFO - Chain [1] done processing\n",
      "18:31:02 - cmdstanpy - INFO - Chain [1] start processing\n",
      "18:31:02 - cmdstanpy - INFO - Chain [1] done processing\n",
      "18:31:02 - cmdstanpy - INFO - Chain [1] start processing\n",
      "18:31:02 - cmdstanpy - INFO - Chain [1] done processing\n",
      "18:31:02 - cmdstanpy - INFO - Chain [1] start processing\n",
      "18:31:02 - cmdstanpy - INFO - Chain [1] done processing\n",
      "18:31:03 - cmdstanpy - INFO - Chain [1] start processing\n",
      "18:31:03 - cmdstanpy - INFO - Chain [1] done processing\n",
      "18:31:03 - cmdstanpy - INFO - Chain [1] start processing\n",
      "18:31:03 - cmdstanpy - INFO - Chain [1] done processing\n",
      "18:31:03 - cmdstanpy - INFO - Chain [1] start processing\n"
     ]
    },
    {
     "name": "stdout",
     "output_type": "stream",
     "text": [
      "MAPE:0.17, PARAM:{'changepoint_prior_scale': 0.03, 'seasonality_prior_scale': 0.1, 'holidays_prior_scale': 0.01, 'seasonality_mode': 'additive'}\n"
     ]
    },
    {
     "name": "stderr",
     "output_type": "stream",
     "text": [
      "18:31:03 - cmdstanpy - INFO - Chain [1] done processing\n",
      "Seasonality has period of 365.25 days which is larger than initial window. Consider increasing initial.\n"
     ]
    },
    {
     "data": {
      "application/vnd.jupyter.widget-view+json": {
       "model_id": "65524f6a0e034793a25014ea337e05e5",
       "version_major": 2,
       "version_minor": 0
      },
      "text/plain": [
       "  0%|          | 0/7 [00:00<?, ?it/s]"
      ]
     },
     "metadata": {},
     "output_type": "display_data"
    },
    {
     "name": "stderr",
     "output_type": "stream",
     "text": [
      "18:31:04 - cmdstanpy - INFO - Chain [1] start processing\n",
      "18:31:04 - cmdstanpy - INFO - Chain [1] done processing\n",
      "18:31:04 - cmdstanpy - INFO - Chain [1] start processing\n",
      "18:31:05 - cmdstanpy - INFO - Chain [1] done processing\n",
      "18:31:06 - cmdstanpy - INFO - Chain [1] start processing\n",
      "18:31:06 - cmdstanpy - INFO - Chain [1] done processing\n",
      "18:31:06 - cmdstanpy - INFO - Chain [1] start processing\n",
      "18:31:06 - cmdstanpy - INFO - Chain [1] done processing\n",
      "18:31:06 - cmdstanpy - INFO - Chain [1] start processing\n",
      "18:31:07 - cmdstanpy - INFO - Chain [1] done processing\n",
      "18:31:07 - cmdstanpy - INFO - Chain [1] start processing\n",
      "18:31:07 - cmdstanpy - INFO - Chain [1] done processing\n",
      "18:31:07 - cmdstanpy - INFO - Chain [1] start processing\n",
      "18:31:07 - cmdstanpy - INFO - Chain [1] done processing\n"
     ]
    },
    {
     "name": "stdout",
     "output_type": "stream",
     "text": [
      "MAPE:0.13, PARAM:{'changepoint_prior_scale': 0.03, 'seasonality_prior_scale': 0.1, 'holidays_prior_scale': 0.01, 'seasonality_mode': 'multiplicative'}\n"
     ]
    },
    {
     "name": "stderr",
     "output_type": "stream",
     "text": [
      "18:31:08 - cmdstanpy - INFO - Chain [1] start processing\n",
      "18:31:08 - cmdstanpy - INFO - Chain [1] done processing\n",
      "Seasonality has period of 365.25 days which is larger than initial window. Consider increasing initial.\n"
     ]
    },
    {
     "data": {
      "application/vnd.jupyter.widget-view+json": {
       "model_id": "41c363c268f84afa8cc474a441e94645",
       "version_major": 2,
       "version_minor": 0
      },
      "text/plain": [
       "  0%|          | 0/7 [00:00<?, ?it/s]"
      ]
     },
     "metadata": {},
     "output_type": "display_data"
    },
    {
     "name": "stderr",
     "output_type": "stream",
     "text": [
      "18:31:08 - cmdstanpy - INFO - Chain [1] start processing\n",
      "18:31:08 - cmdstanpy - INFO - Chain [1] done processing\n",
      "18:31:09 - cmdstanpy - INFO - Chain [1] start processing\n",
      "18:31:09 - cmdstanpy - INFO - Chain [1] done processing\n",
      "18:31:09 - cmdstanpy - INFO - Chain [1] start processing\n",
      "18:31:09 - cmdstanpy - INFO - Chain [1] done processing\n",
      "18:31:09 - cmdstanpy - INFO - Chain [1] start processing\n",
      "18:31:10 - cmdstanpy - INFO - Chain [1] done processing\n",
      "18:31:10 - cmdstanpy - INFO - Chain [1] start processing\n",
      "18:31:10 - cmdstanpy - INFO - Chain [1] done processing\n",
      "18:31:10 - cmdstanpy - INFO - Chain [1] start processing\n",
      "18:31:10 - cmdstanpy - INFO - Chain [1] done processing\n",
      "18:31:10 - cmdstanpy - INFO - Chain [1] start processing\n",
      "18:31:11 - cmdstanpy - INFO - Chain [1] done processing\n"
     ]
    },
    {
     "name": "stdout",
     "output_type": "stream",
     "text": [
      "MAPE:0.22, PARAM:{'changepoint_prior_scale': 0.03, 'seasonality_prior_scale': 0.15, 'holidays_prior_scale': 0.01, 'seasonality_mode': 'additive'}\n"
     ]
    },
    {
     "name": "stderr",
     "output_type": "stream",
     "text": [
      "18:31:11 - cmdstanpy - INFO - Chain [1] start processing\n",
      "18:31:11 - cmdstanpy - INFO - Chain [1] done processing\n",
      "Seasonality has period of 365.25 days which is larger than initial window. Consider increasing initial.\n"
     ]
    },
    {
     "data": {
      "application/vnd.jupyter.widget-view+json": {
       "model_id": "408dcda3e9d8480a90ee3568c69365f0",
       "version_major": 2,
       "version_minor": 0
      },
      "text/plain": [
       "  0%|          | 0/7 [00:00<?, ?it/s]"
      ]
     },
     "metadata": {},
     "output_type": "display_data"
    },
    {
     "name": "stderr",
     "output_type": "stream",
     "text": [
      "18:31:11 - cmdstanpy - INFO - Chain [1] start processing\n",
      "18:31:13 - cmdstanpy - INFO - Chain [1] done processing\n",
      "18:31:13 - cmdstanpy - INFO - Chain [1] start processing\n",
      "18:31:15 - cmdstanpy - INFO - Chain [1] done processing\n",
      "18:31:15 - cmdstanpy - INFO - Chain [1] start processing\n",
      "18:31:15 - cmdstanpy - INFO - Chain [1] done processing\n",
      "18:31:15 - cmdstanpy - INFO - Chain [1] start processing\n",
      "18:31:15 - cmdstanpy - INFO - Chain [1] done processing\n",
      "18:31:16 - cmdstanpy - INFO - Chain [1] start processing\n",
      "18:31:16 - cmdstanpy - INFO - Chain [1] done processing\n",
      "18:31:16 - cmdstanpy - INFO - Chain [1] start processing\n",
      "18:31:16 - cmdstanpy - INFO - Chain [1] done processing\n",
      "18:31:16 - cmdstanpy - INFO - Chain [1] start processing\n",
      "18:31:16 - cmdstanpy - INFO - Chain [1] done processing\n",
      "18:31:17 - cmdstanpy - INFO - Chain [1] start processing\n"
     ]
    },
    {
     "name": "stdout",
     "output_type": "stream",
     "text": [
      "MAPE:0.17, PARAM:{'changepoint_prior_scale': 0.03, 'seasonality_prior_scale': 0.15, 'holidays_prior_scale': 0.01, 'seasonality_mode': 'multiplicative'}\n"
     ]
    },
    {
     "name": "stderr",
     "output_type": "stream",
     "text": [
      "18:31:17 - cmdstanpy - INFO - Chain [1] done processing\n",
      "Seasonality has period of 365.25 days which is larger than initial window. Consider increasing initial.\n"
     ]
    },
    {
     "data": {
      "application/vnd.jupyter.widget-view+json": {
       "model_id": "152c9dbe677c423c975e7a01394e24e9",
       "version_major": 2,
       "version_minor": 0
      },
      "text/plain": [
       "  0%|          | 0/7 [00:00<?, ?it/s]"
      ]
     },
     "metadata": {},
     "output_type": "display_data"
    },
    {
     "name": "stderr",
     "output_type": "stream",
     "text": [
      "18:31:17 - cmdstanpy - INFO - Chain [1] start processing\n",
      "18:31:18 - cmdstanpy - INFO - Chain [1] done processing\n",
      "18:31:18 - cmdstanpy - INFO - Chain [1] start processing\n",
      "18:31:19 - cmdstanpy - INFO - Chain [1] done processing\n",
      "18:31:19 - cmdstanpy - INFO - Chain [1] start processing\n",
      "18:31:19 - cmdstanpy - INFO - Chain [1] done processing\n",
      "18:31:19 - cmdstanpy - INFO - Chain [1] start processing\n",
      "18:31:19 - cmdstanpy - INFO - Chain [1] done processing\n",
      "18:31:20 - cmdstanpy - INFO - Chain [1] start processing\n",
      "18:31:20 - cmdstanpy - INFO - Chain [1] done processing\n",
      "18:31:20 - cmdstanpy - INFO - Chain [1] start processing\n",
      "18:31:20 - cmdstanpy - INFO - Chain [1] done processing\n",
      "18:31:20 - cmdstanpy - INFO - Chain [1] start processing\n",
      "18:31:21 - cmdstanpy - INFO - Chain [1] done processing\n",
      "18:31:21 - cmdstanpy - INFO - Chain [1] start processing\n"
     ]
    },
    {
     "name": "stdout",
     "output_type": "stream",
     "text": [
      "MAPE:0.12, PARAM:{'changepoint_prior_scale': 0.0325, 'seasonality_prior_scale': 0.001, 'holidays_prior_scale': 0.01, 'seasonality_mode': 'additive'}\n"
     ]
    },
    {
     "name": "stderr",
     "output_type": "stream",
     "text": [
      "18:31:21 - cmdstanpy - INFO - Chain [1] done processing\n",
      "Seasonality has period of 365.25 days which is larger than initial window. Consider increasing initial.\n"
     ]
    },
    {
     "data": {
      "application/vnd.jupyter.widget-view+json": {
       "model_id": "9808e6a552e34afc83b6fda10dba0790",
       "version_major": 2,
       "version_minor": 0
      },
      "text/plain": [
       "  0%|          | 0/7 [00:00<?, ?it/s]"
      ]
     },
     "metadata": {},
     "output_type": "display_data"
    },
    {
     "name": "stderr",
     "output_type": "stream",
     "text": [
      "18:31:21 - cmdstanpy - INFO - Chain [1] start processing\n",
      "18:31:22 - cmdstanpy - INFO - Chain [1] done processing\n",
      "18:31:22 - cmdstanpy - INFO - Chain [1] start processing\n",
      "18:31:23 - cmdstanpy - INFO - Chain [1] done processing\n",
      "18:31:23 - cmdstanpy - INFO - Chain [1] start processing\n",
      "18:31:23 - cmdstanpy - INFO - Chain [1] done processing\n",
      "18:31:23 - cmdstanpy - INFO - Chain [1] start processing\n",
      "18:31:23 - cmdstanpy - INFO - Chain [1] done processing\n",
      "18:31:24 - cmdstanpy - INFO - Chain [1] start processing\n",
      "18:31:24 - cmdstanpy - INFO - Chain [1] done processing\n",
      "18:31:24 - cmdstanpy - INFO - Chain [1] start processing\n",
      "18:31:24 - cmdstanpy - INFO - Chain [1] done processing\n",
      "18:31:24 - cmdstanpy - INFO - Chain [1] start processing\n",
      "18:31:24 - cmdstanpy - INFO - Chain [1] done processing\n"
     ]
    },
    {
     "name": "stdout",
     "output_type": "stream",
     "text": [
      "MAPE:0.13, PARAM:{'changepoint_prior_scale': 0.0325, 'seasonality_prior_scale': 0.001, 'holidays_prior_scale': 0.01, 'seasonality_mode': 'multiplicative'}\n"
     ]
    },
    {
     "name": "stderr",
     "output_type": "stream",
     "text": [
      "18:31:25 - cmdstanpy - INFO - Chain [1] start processing\n",
      "18:31:25 - cmdstanpy - INFO - Chain [1] done processing\n",
      "Seasonality has period of 365.25 days which is larger than initial window. Consider increasing initial.\n"
     ]
    },
    {
     "data": {
      "application/vnd.jupyter.widget-view+json": {
       "model_id": "61dd5f9e9314407cb96c3cd2c178991e",
       "version_major": 2,
       "version_minor": 0
      },
      "text/plain": [
       "  0%|          | 0/7 [00:00<?, ?it/s]"
      ]
     },
     "metadata": {},
     "output_type": "display_data"
    },
    {
     "name": "stderr",
     "output_type": "stream",
     "text": [
      "18:31:25 - cmdstanpy - INFO - Chain [1] start processing\n",
      "18:31:26 - cmdstanpy - INFO - Chain [1] done processing\n",
      "18:31:26 - cmdstanpy - INFO - Chain [1] start processing\n",
      "18:31:26 - cmdstanpy - INFO - Chain [1] done processing\n",
      "18:31:27 - cmdstanpy - INFO - Chain [1] start processing\n",
      "18:31:27 - cmdstanpy - INFO - Chain [1] done processing\n",
      "18:31:27 - cmdstanpy - INFO - Chain [1] start processing\n",
      "18:31:27 - cmdstanpy - INFO - Chain [1] done processing\n",
      "18:31:27 - cmdstanpy - INFO - Chain [1] start processing\n",
      "18:31:27 - cmdstanpy - INFO - Chain [1] done processing\n",
      "18:31:28 - cmdstanpy - INFO - Chain [1] start processing\n",
      "18:31:28 - cmdstanpy - INFO - Chain [1] done processing\n",
      "18:31:28 - cmdstanpy - INFO - Chain [1] start processing\n",
      "18:31:28 - cmdstanpy - INFO - Chain [1] done processing\n"
     ]
    },
    {
     "name": "stdout",
     "output_type": "stream",
     "text": [
      "MAPE:0.10, PARAM:{'changepoint_prior_scale': 0.0325, 'seasonality_prior_scale': 0.01, 'holidays_prior_scale': 0.01, 'seasonality_mode': 'additive'}\n"
     ]
    },
    {
     "name": "stderr",
     "output_type": "stream",
     "text": [
      "18:31:28 - cmdstanpy - INFO - Chain [1] start processing\n",
      "18:31:28 - cmdstanpy - INFO - Chain [1] done processing\n",
      "Seasonality has period of 365.25 days which is larger than initial window. Consider increasing initial.\n"
     ]
    },
    {
     "data": {
      "application/vnd.jupyter.widget-view+json": {
       "model_id": "7ee266041e354bb39f5c77055e66a93a",
       "version_major": 2,
       "version_minor": 0
      },
      "text/plain": [
       "  0%|          | 0/7 [00:00<?, ?it/s]"
      ]
     },
     "metadata": {},
     "output_type": "display_data"
    },
    {
     "name": "stderr",
     "output_type": "stream",
     "text": [
      "18:31:29 - cmdstanpy - INFO - Chain [1] start processing\n",
      "18:31:29 - cmdstanpy - INFO - Chain [1] done processing\n",
      "18:31:29 - cmdstanpy - INFO - Chain [1] start processing\n",
      "18:31:30 - cmdstanpy - INFO - Chain [1] done processing\n",
      "18:31:30 - cmdstanpy - INFO - Chain [1] start processing\n",
      "18:31:30 - cmdstanpy - INFO - Chain [1] done processing\n",
      "18:31:31 - cmdstanpy - INFO - Chain [1] start processing\n",
      "18:31:31 - cmdstanpy - INFO - Chain [1] done processing\n",
      "18:31:31 - cmdstanpy - INFO - Chain [1] start processing\n",
      "18:31:31 - cmdstanpy - INFO - Chain [1] done processing\n",
      "18:31:31 - cmdstanpy - INFO - Chain [1] start processing\n",
      "18:31:31 - cmdstanpy - INFO - Chain [1] done processing\n",
      "18:31:32 - cmdstanpy - INFO - Chain [1] start processing\n",
      "18:31:32 - cmdstanpy - INFO - Chain [1] done processing\n"
     ]
    },
    {
     "name": "stdout",
     "output_type": "stream",
     "text": [
      "MAPE:0.10, PARAM:{'changepoint_prior_scale': 0.0325, 'seasonality_prior_scale': 0.01, 'holidays_prior_scale': 0.01, 'seasonality_mode': 'multiplicative'}\n"
     ]
    },
    {
     "name": "stderr",
     "output_type": "stream",
     "text": [
      "18:31:32 - cmdstanpy - INFO - Chain [1] start processing\n",
      "18:31:32 - cmdstanpy - INFO - Chain [1] done processing\n",
      "Seasonality has period of 365.25 days which is larger than initial window. Consider increasing initial.\n"
     ]
    },
    {
     "data": {
      "application/vnd.jupyter.widget-view+json": {
       "model_id": "cef896b9494a4883b622439f2b144224",
       "version_major": 2,
       "version_minor": 0
      },
      "text/plain": [
       "  0%|          | 0/7 [00:00<?, ?it/s]"
      ]
     },
     "metadata": {},
     "output_type": "display_data"
    },
    {
     "name": "stderr",
     "output_type": "stream",
     "text": [
      "18:31:32 - cmdstanpy - INFO - Chain [1] start processing\n",
      "18:31:33 - cmdstanpy - INFO - Chain [1] done processing\n",
      "18:31:33 - cmdstanpy - INFO - Chain [1] start processing\n",
      "18:31:33 - cmdstanpy - INFO - Chain [1] done processing\n",
      "18:31:34 - cmdstanpy - INFO - Chain [1] start processing\n",
      "18:31:34 - cmdstanpy - INFO - Chain [1] done processing\n",
      "18:31:34 - cmdstanpy - INFO - Chain [1] start processing\n",
      "18:31:34 - cmdstanpy - INFO - Chain [1] done processing\n",
      "18:31:34 - cmdstanpy - INFO - Chain [1] start processing\n",
      "18:31:34 - cmdstanpy - INFO - Chain [1] done processing\n",
      "18:31:35 - cmdstanpy - INFO - Chain [1] start processing\n",
      "18:31:35 - cmdstanpy - INFO - Chain [1] done processing\n",
      "18:31:35 - cmdstanpy - INFO - Chain [1] start processing\n",
      "18:31:35 - cmdstanpy - INFO - Chain [1] done processing\n"
     ]
    },
    {
     "name": "stdout",
     "output_type": "stream",
     "text": [
      "MAPE:0.18, PARAM:{'changepoint_prior_scale': 0.0325, 'seasonality_prior_scale': 0.1, 'holidays_prior_scale': 0.01, 'seasonality_mode': 'additive'}\n"
     ]
    },
    {
     "name": "stderr",
     "output_type": "stream",
     "text": [
      "18:31:35 - cmdstanpy - INFO - Chain [1] start processing\n",
      "18:31:35 - cmdstanpy - INFO - Chain [1] done processing\n",
      "Seasonality has period of 365.25 days which is larger than initial window. Consider increasing initial.\n"
     ]
    },
    {
     "data": {
      "application/vnd.jupyter.widget-view+json": {
       "model_id": "057ce8ebe0c04ee8a677c06897a79fdb",
       "version_major": 2,
       "version_minor": 0
      },
      "text/plain": [
       "  0%|          | 0/7 [00:00<?, ?it/s]"
      ]
     },
     "metadata": {},
     "output_type": "display_data"
    },
    {
     "name": "stderr",
     "output_type": "stream",
     "text": [
      "18:31:36 - cmdstanpy - INFO - Chain [1] start processing\n",
      "18:31:36 - cmdstanpy - INFO - Chain [1] done processing\n",
      "18:31:36 - cmdstanpy - INFO - Chain [1] start processing\n",
      "18:31:37 - cmdstanpy - INFO - Chain [1] done processing\n",
      "18:31:37 - cmdstanpy - INFO - Chain [1] start processing\n",
      "18:31:37 - cmdstanpy - INFO - Chain [1] done processing\n",
      "18:31:38 - cmdstanpy - INFO - Chain [1] start processing\n",
      "18:31:38 - cmdstanpy - INFO - Chain [1] done processing\n",
      "18:31:38 - cmdstanpy - INFO - Chain [1] start processing\n",
      "18:31:38 - cmdstanpy - INFO - Chain [1] done processing\n",
      "18:31:38 - cmdstanpy - INFO - Chain [1] start processing\n",
      "18:31:38 - cmdstanpy - INFO - Chain [1] done processing\n",
      "18:31:39 - cmdstanpy - INFO - Chain [1] start processing\n",
      "18:31:39 - cmdstanpy - INFO - Chain [1] done processing\n"
     ]
    },
    {
     "name": "stdout",
     "output_type": "stream",
     "text": [
      "MAPE:0.14, PARAM:{'changepoint_prior_scale': 0.0325, 'seasonality_prior_scale': 0.1, 'holidays_prior_scale': 0.01, 'seasonality_mode': 'multiplicative'}\n"
     ]
    },
    {
     "name": "stderr",
     "output_type": "stream",
     "text": [
      "18:31:39 - cmdstanpy - INFO - Chain [1] start processing\n",
      "18:31:39 - cmdstanpy - INFO - Chain [1] done processing\n",
      "Seasonality has period of 365.25 days which is larger than initial window. Consider increasing initial.\n"
     ]
    },
    {
     "data": {
      "application/vnd.jupyter.widget-view+json": {
       "model_id": "337c5c7563284c42b3808990e7a6af73",
       "version_major": 2,
       "version_minor": 0
      },
      "text/plain": [
       "  0%|          | 0/7 [00:00<?, ?it/s]"
      ]
     },
     "metadata": {},
     "output_type": "display_data"
    },
    {
     "name": "stderr",
     "output_type": "stream",
     "text": [
      "18:31:39 - cmdstanpy - INFO - Chain [1] start processing\n",
      "18:31:40 - cmdstanpy - INFO - Chain [1] done processing\n",
      "18:31:40 - cmdstanpy - INFO - Chain [1] start processing\n",
      "18:31:40 - cmdstanpy - INFO - Chain [1] done processing\n",
      "18:31:41 - cmdstanpy - INFO - Chain [1] start processing\n",
      "18:31:41 - cmdstanpy - INFO - Chain [1] done processing\n",
      "18:31:41 - cmdstanpy - INFO - Chain [1] start processing\n",
      "18:31:41 - cmdstanpy - INFO - Chain [1] done processing\n",
      "18:31:41 - cmdstanpy - INFO - Chain [1] start processing\n",
      "18:31:41 - cmdstanpy - INFO - Chain [1] done processing\n",
      "18:31:42 - cmdstanpy - INFO - Chain [1] start processing\n",
      "18:31:42 - cmdstanpy - INFO - Chain [1] done processing\n",
      "18:31:42 - cmdstanpy - INFO - Chain [1] start processing\n",
      "18:31:42 - cmdstanpy - INFO - Chain [1] done processing\n"
     ]
    },
    {
     "name": "stdout",
     "output_type": "stream",
     "text": [
      "MAPE:0.22, PARAM:{'changepoint_prior_scale': 0.0325, 'seasonality_prior_scale': 0.15, 'holidays_prior_scale': 0.01, 'seasonality_mode': 'additive'}\n"
     ]
    },
    {
     "name": "stderr",
     "output_type": "stream",
     "text": [
      "18:31:42 - cmdstanpy - INFO - Chain [1] start processing\n",
      "18:31:43 - cmdstanpy - INFO - Chain [1] done processing\n",
      "Seasonality has period of 365.25 days which is larger than initial window. Consider increasing initial.\n"
     ]
    },
    {
     "data": {
      "application/vnd.jupyter.widget-view+json": {
       "model_id": "75083d63d82049ff8942f92e36520145",
       "version_major": 2,
       "version_minor": 0
      },
      "text/plain": [
       "  0%|          | 0/7 [00:00<?, ?it/s]"
      ]
     },
     "metadata": {},
     "output_type": "display_data"
    },
    {
     "name": "stderr",
     "output_type": "stream",
     "text": [
      "18:31:43 - cmdstanpy - INFO - Chain [1] start processing\n",
      "18:31:47 - cmdstanpy - INFO - Chain [1] done processing\n",
      "18:31:47 - cmdstanpy - INFO - Chain [1] start processing\n",
      "18:31:49 - cmdstanpy - INFO - Chain [1] done processing\n",
      "18:31:49 - cmdstanpy - INFO - Chain [1] start processing\n",
      "18:31:49 - cmdstanpy - INFO - Chain [1] done processing\n",
      "18:31:49 - cmdstanpy - INFO - Chain [1] start processing\n",
      "18:31:49 - cmdstanpy - INFO - Chain [1] done processing\n",
      "18:31:50 - cmdstanpy - INFO - Chain [1] start processing\n",
      "18:31:50 - cmdstanpy - INFO - Chain [1] done processing\n",
      "18:31:50 - cmdstanpy - INFO - Chain [1] start processing\n",
      "18:31:50 - cmdstanpy - INFO - Chain [1] done processing\n",
      "18:31:50 - cmdstanpy - INFO - Chain [1] start processing\n",
      "18:31:50 - cmdstanpy - INFO - Chain [1] done processing\n"
     ]
    },
    {
     "name": "stdout",
     "output_type": "stream",
     "text": [
      "MAPE:0.17, PARAM:{'changepoint_prior_scale': 0.0325, 'seasonality_prior_scale': 0.15, 'holidays_prior_scale': 0.01, 'seasonality_mode': 'multiplicative'}\n"
     ]
    },
    {
     "name": "stderr",
     "output_type": "stream",
     "text": [
      "18:31:51 - cmdstanpy - INFO - Chain [1] start processing\n",
      "18:31:51 - cmdstanpy - INFO - Chain [1] done processing\n",
      "Seasonality has period of 365.25 days which is larger than initial window. Consider increasing initial.\n"
     ]
    },
    {
     "data": {
      "application/vnd.jupyter.widget-view+json": {
       "model_id": "44b2c0a50c374a5091b0b35f01903167",
       "version_major": 2,
       "version_minor": 0
      },
      "text/plain": [
       "  0%|          | 0/7 [00:00<?, ?it/s]"
      ]
     },
     "metadata": {},
     "output_type": "display_data"
    },
    {
     "name": "stderr",
     "output_type": "stream",
     "text": [
      "18:31:51 - cmdstanpy - INFO - Chain [1] start processing\n",
      "18:31:51 - cmdstanpy - INFO - Chain [1] done processing\n",
      "18:31:52 - cmdstanpy - INFO - Chain [1] start processing\n",
      "18:31:52 - cmdstanpy - INFO - Chain [1] done processing\n",
      "18:31:53 - cmdstanpy - INFO - Chain [1] start processing\n",
      "18:31:53 - cmdstanpy - INFO - Chain [1] done processing\n",
      "18:31:53 - cmdstanpy - INFO - Chain [1] start processing\n",
      "18:31:53 - cmdstanpy - INFO - Chain [1] done processing\n",
      "18:31:53 - cmdstanpy - INFO - Chain [1] start processing\n",
      "18:31:53 - cmdstanpy - INFO - Chain [1] done processing\n",
      "18:31:54 - cmdstanpy - INFO - Chain [1] start processing\n",
      "18:31:54 - cmdstanpy - INFO - Chain [1] done processing\n",
      "18:31:54 - cmdstanpy - INFO - Chain [1] start processing\n",
      "18:31:54 - cmdstanpy - INFO - Chain [1] done processing\n",
      "18:31:54 - cmdstanpy - INFO - Chain [1] start processing\n"
     ]
    },
    {
     "name": "stdout",
     "output_type": "stream",
     "text": [
      "MAPE:0.12, PARAM:{'changepoint_prior_scale': 0.035, 'seasonality_prior_scale': 0.001, 'holidays_prior_scale': 0.01, 'seasonality_mode': 'additive'}\n"
     ]
    },
    {
     "name": "stderr",
     "output_type": "stream",
     "text": [
      "18:31:55 - cmdstanpy - INFO - Chain [1] done processing\n",
      "Seasonality has period of 365.25 days which is larger than initial window. Consider increasing initial.\n"
     ]
    },
    {
     "data": {
      "application/vnd.jupyter.widget-view+json": {
       "model_id": "660853f4a7584202a4f24ca59a9ba022",
       "version_major": 2,
       "version_minor": 0
      },
      "text/plain": [
       "  0%|          | 0/7 [00:00<?, ?it/s]"
      ]
     },
     "metadata": {},
     "output_type": "display_data"
    },
    {
     "name": "stderr",
     "output_type": "stream",
     "text": [
      "18:31:55 - cmdstanpy - INFO - Chain [1] start processing\n",
      "18:31:55 - cmdstanpy - INFO - Chain [1] done processing\n",
      "18:31:55 - cmdstanpy - INFO - Chain [1] start processing\n",
      "18:31:56 - cmdstanpy - INFO - Chain [1] done processing\n",
      "18:31:56 - cmdstanpy - INFO - Chain [1] start processing\n",
      "18:31:56 - cmdstanpy - INFO - Chain [1] done processing\n",
      "18:31:57 - cmdstanpy - INFO - Chain [1] start processing\n",
      "18:31:57 - cmdstanpy - INFO - Chain [1] done processing\n",
      "18:31:57 - cmdstanpy - INFO - Chain [1] start processing\n",
      "18:31:57 - cmdstanpy - INFO - Chain [1] done processing\n",
      "18:31:57 - cmdstanpy - INFO - Chain [1] start processing\n",
      "18:31:57 - cmdstanpy - INFO - Chain [1] done processing\n",
      "18:31:58 - cmdstanpy - INFO - Chain [1] start processing\n",
      "18:31:58 - cmdstanpy - INFO - Chain [1] done processing\n",
      "18:31:58 - cmdstanpy - INFO - Chain [1] start processing\n"
     ]
    },
    {
     "name": "stdout",
     "output_type": "stream",
     "text": [
      "MAPE:0.12, PARAM:{'changepoint_prior_scale': 0.035, 'seasonality_prior_scale': 0.001, 'holidays_prior_scale': 0.01, 'seasonality_mode': 'multiplicative'}\n"
     ]
    },
    {
     "name": "stderr",
     "output_type": "stream",
     "text": [
      "18:31:58 - cmdstanpy - INFO - Chain [1] done processing\n",
      "Seasonality has period of 365.25 days which is larger than initial window. Consider increasing initial.\n"
     ]
    },
    {
     "data": {
      "application/vnd.jupyter.widget-view+json": {
       "model_id": "c937d082097a4df7980f495a05848bf9",
       "version_major": 2,
       "version_minor": 0
      },
      "text/plain": [
       "  0%|          | 0/7 [00:00<?, ?it/s]"
      ]
     },
     "metadata": {},
     "output_type": "display_data"
    },
    {
     "name": "stderr",
     "output_type": "stream",
     "text": [
      "18:31:58 - cmdstanpy - INFO - Chain [1] start processing\n",
      "18:31:59 - cmdstanpy - INFO - Chain [1] done processing\n",
      "18:31:59 - cmdstanpy - INFO - Chain [1] start processing\n",
      "18:32:00 - cmdstanpy - INFO - Chain [1] done processing\n",
      "18:32:00 - cmdstanpy - INFO - Chain [1] start processing\n",
      "18:32:00 - cmdstanpy - INFO - Chain [1] done processing\n",
      "18:32:00 - cmdstanpy - INFO - Chain [1] start processing\n",
      "18:32:00 - cmdstanpy - INFO - Chain [1] done processing\n",
      "18:32:01 - cmdstanpy - INFO - Chain [1] start processing\n",
      "18:32:01 - cmdstanpy - INFO - Chain [1] done processing\n",
      "18:32:01 - cmdstanpy - INFO - Chain [1] start processing\n",
      "18:32:01 - cmdstanpy - INFO - Chain [1] done processing\n",
      "18:32:01 - cmdstanpy - INFO - Chain [1] start processing\n",
      "18:32:01 - cmdstanpy - INFO - Chain [1] done processing\n"
     ]
    },
    {
     "name": "stdout",
     "output_type": "stream",
     "text": [
      "MAPE:0.10, PARAM:{'changepoint_prior_scale': 0.035, 'seasonality_prior_scale': 0.01, 'holidays_prior_scale': 0.01, 'seasonality_mode': 'additive'}\n"
     ]
    },
    {
     "name": "stderr",
     "output_type": "stream",
     "text": [
      "18:32:02 - cmdstanpy - INFO - Chain [1] start processing\n",
      "18:32:02 - cmdstanpy - INFO - Chain [1] done processing\n",
      "Seasonality has period of 365.25 days which is larger than initial window. Consider increasing initial.\n"
     ]
    },
    {
     "data": {
      "application/vnd.jupyter.widget-view+json": {
       "model_id": "b2ed6ac769504f47bc9fd766da5365c3",
       "version_major": 2,
       "version_minor": 0
      },
      "text/plain": [
       "  0%|          | 0/7 [00:00<?, ?it/s]"
      ]
     },
     "metadata": {},
     "output_type": "display_data"
    },
    {
     "name": "stderr",
     "output_type": "stream",
     "text": [
      "18:32:02 - cmdstanpy - INFO - Chain [1] start processing\n",
      "18:32:02 - cmdstanpy - INFO - Chain [1] done processing\n",
      "18:32:03 - cmdstanpy - INFO - Chain [1] start processing\n",
      "18:32:03 - cmdstanpy - INFO - Chain [1] done processing\n",
      "18:32:04 - cmdstanpy - INFO - Chain [1] start processing\n",
      "18:32:04 - cmdstanpy - INFO - Chain [1] done processing\n",
      "18:32:04 - cmdstanpy - INFO - Chain [1] start processing\n",
      "18:32:04 - cmdstanpy - INFO - Chain [1] done processing\n",
      "18:32:04 - cmdstanpy - INFO - Chain [1] start processing\n",
      "18:32:04 - cmdstanpy - INFO - Chain [1] done processing\n",
      "18:32:05 - cmdstanpy - INFO - Chain [1] start processing\n",
      "18:32:05 - cmdstanpy - INFO - Chain [1] done processing\n",
      "18:32:05 - cmdstanpy - INFO - Chain [1] start processing\n",
      "18:32:05 - cmdstanpy - INFO - Chain [1] done processing\n"
     ]
    },
    {
     "name": "stdout",
     "output_type": "stream",
     "text": [
      "MAPE:0.10, PARAM:{'changepoint_prior_scale': 0.035, 'seasonality_prior_scale': 0.01, 'holidays_prior_scale': 0.01, 'seasonality_mode': 'multiplicative'}\n"
     ]
    },
    {
     "name": "stderr",
     "output_type": "stream",
     "text": [
      "18:32:05 - cmdstanpy - INFO - Chain [1] start processing\n",
      "18:32:06 - cmdstanpy - INFO - Chain [1] done processing\n",
      "Seasonality has period of 365.25 days which is larger than initial window. Consider increasing initial.\n"
     ]
    },
    {
     "data": {
      "application/vnd.jupyter.widget-view+json": {
       "model_id": "4d1f3311f8324316929c2cd8e175b55b",
       "version_major": 2,
       "version_minor": 0
      },
      "text/plain": [
       "  0%|          | 0/7 [00:00<?, ?it/s]"
      ]
     },
     "metadata": {},
     "output_type": "display_data"
    },
    {
     "name": "stderr",
     "output_type": "stream",
     "text": [
      "18:32:06 - cmdstanpy - INFO - Chain [1] start processing\n",
      "18:32:06 - cmdstanpy - INFO - Chain [1] done processing\n",
      "18:32:06 - cmdstanpy - INFO - Chain [1] start processing\n",
      "18:32:07 - cmdstanpy - INFO - Chain [1] done processing\n",
      "18:32:07 - cmdstanpy - INFO - Chain [1] start processing\n",
      "18:32:07 - cmdstanpy - INFO - Chain [1] done processing\n",
      "18:32:07 - cmdstanpy - INFO - Chain [1] start processing\n",
      "18:32:07 - cmdstanpy - INFO - Chain [1] done processing\n",
      "18:32:08 - cmdstanpy - INFO - Chain [1] start processing\n",
      "18:32:08 - cmdstanpy - INFO - Chain [1] done processing\n",
      "18:32:08 - cmdstanpy - INFO - Chain [1] start processing\n",
      "18:32:08 - cmdstanpy - INFO - Chain [1] done processing\n",
      "18:32:08 - cmdstanpy - INFO - Chain [1] start processing\n",
      "18:32:08 - cmdstanpy - INFO - Chain [1] done processing\n"
     ]
    },
    {
     "name": "stdout",
     "output_type": "stream",
     "text": [
      "MAPE:0.18, PARAM:{'changepoint_prior_scale': 0.035, 'seasonality_prior_scale': 0.1, 'holidays_prior_scale': 0.01, 'seasonality_mode': 'additive'}\n"
     ]
    },
    {
     "name": "stderr",
     "output_type": "stream",
     "text": [
      "18:32:09 - cmdstanpy - INFO - Chain [1] start processing\n",
      "18:32:09 - cmdstanpy - INFO - Chain [1] done processing\n",
      "Seasonality has period of 365.25 days which is larger than initial window. Consider increasing initial.\n"
     ]
    },
    {
     "data": {
      "application/vnd.jupyter.widget-view+json": {
       "model_id": "b66936d865474751ae24433ae8092d34",
       "version_major": 2,
       "version_minor": 0
      },
      "text/plain": [
       "  0%|          | 0/7 [00:00<?, ?it/s]"
      ]
     },
     "metadata": {},
     "output_type": "display_data"
    },
    {
     "name": "stderr",
     "output_type": "stream",
     "text": [
      "18:32:09 - cmdstanpy - INFO - Chain [1] start processing\n",
      "18:32:09 - cmdstanpy - INFO - Chain [1] done processing\n",
      "18:32:10 - cmdstanpy - INFO - Chain [1] start processing\n",
      "18:32:11 - cmdstanpy - INFO - Chain [1] done processing\n",
      "18:32:11 - cmdstanpy - INFO - Chain [1] start processing\n",
      "18:32:11 - cmdstanpy - INFO - Chain [1] done processing\n",
      "18:32:11 - cmdstanpy - INFO - Chain [1] start processing\n",
      "18:32:11 - cmdstanpy - INFO - Chain [1] done processing\n",
      "18:32:11 - cmdstanpy - INFO - Chain [1] start processing\n",
      "18:32:12 - cmdstanpy - INFO - Chain [1] done processing\n",
      "18:32:12 - cmdstanpy - INFO - Chain [1] start processing\n",
      "18:32:12 - cmdstanpy - INFO - Chain [1] done processing\n",
      "18:32:12 - cmdstanpy - INFO - Chain [1] start processing\n",
      "18:32:12 - cmdstanpy - INFO - Chain [1] done processing\n"
     ]
    },
    {
     "name": "stdout",
     "output_type": "stream",
     "text": [
      "MAPE:0.15, PARAM:{'changepoint_prior_scale': 0.035, 'seasonality_prior_scale': 0.1, 'holidays_prior_scale': 0.01, 'seasonality_mode': 'multiplicative'}\n"
     ]
    },
    {
     "name": "stderr",
     "output_type": "stream",
     "text": [
      "18:32:13 - cmdstanpy - INFO - Chain [1] start processing\n",
      "18:32:13 - cmdstanpy - INFO - Chain [1] done processing\n",
      "Seasonality has period of 365.25 days which is larger than initial window. Consider increasing initial.\n"
     ]
    },
    {
     "data": {
      "application/vnd.jupyter.widget-view+json": {
       "model_id": "267a69aa4e6f4337903c4938aeda21dd",
       "version_major": 2,
       "version_minor": 0
      },
      "text/plain": [
       "  0%|          | 0/7 [00:00<?, ?it/s]"
      ]
     },
     "metadata": {},
     "output_type": "display_data"
    },
    {
     "name": "stderr",
     "output_type": "stream",
     "text": [
      "18:32:13 - cmdstanpy - INFO - Chain [1] start processing\n",
      "18:32:13 - cmdstanpy - INFO - Chain [1] done processing\n",
      "18:32:13 - cmdstanpy - INFO - Chain [1] start processing\n",
      "18:32:14 - cmdstanpy - INFO - Chain [1] done processing\n",
      "18:32:14 - cmdstanpy - INFO - Chain [1] start processing\n",
      "18:32:14 - cmdstanpy - INFO - Chain [1] done processing\n",
      "18:32:15 - cmdstanpy - INFO - Chain [1] start processing\n",
      "18:32:15 - cmdstanpy - INFO - Chain [1] done processing\n",
      "18:32:15 - cmdstanpy - INFO - Chain [1] start processing\n",
      "18:32:15 - cmdstanpy - INFO - Chain [1] done processing\n",
      "18:32:15 - cmdstanpy - INFO - Chain [1] start processing\n",
      "18:32:15 - cmdstanpy - INFO - Chain [1] done processing\n",
      "18:32:16 - cmdstanpy - INFO - Chain [1] start processing\n",
      "18:32:16 - cmdstanpy - INFO - Chain [1] done processing\n"
     ]
    },
    {
     "name": "stdout",
     "output_type": "stream",
     "text": [
      "MAPE:0.22, PARAM:{'changepoint_prior_scale': 0.035, 'seasonality_prior_scale': 0.15, 'holidays_prior_scale': 0.01, 'seasonality_mode': 'additive'}\n"
     ]
    },
    {
     "name": "stderr",
     "output_type": "stream",
     "text": [
      "18:32:16 - cmdstanpy - INFO - Chain [1] start processing\n",
      "18:32:16 - cmdstanpy - INFO - Chain [1] done processing\n",
      "Seasonality has period of 365.25 days which is larger than initial window. Consider increasing initial.\n"
     ]
    },
    {
     "data": {
      "application/vnd.jupyter.widget-view+json": {
       "model_id": "fcf368d774634a8da2d053ad69fd10a2",
       "version_major": 2,
       "version_minor": 0
      },
      "text/plain": [
       "  0%|          | 0/7 [00:00<?, ?it/s]"
      ]
     },
     "metadata": {},
     "output_type": "display_data"
    },
    {
     "name": "stderr",
     "output_type": "stream",
     "text": [
      "18:32:16 - cmdstanpy - INFO - Chain [1] start processing\n",
      "18:32:18 - cmdstanpy - INFO - Chain [1] done processing\n",
      "18:32:18 - cmdstanpy - INFO - Chain [1] start processing\n",
      "18:32:19 - cmdstanpy - INFO - Chain [1] done processing\n",
      "18:32:19 - cmdstanpy - INFO - Chain [1] start processing\n",
      "18:32:19 - cmdstanpy - INFO - Chain [1] done processing\n",
      "18:32:20 - cmdstanpy - INFO - Chain [1] start processing\n",
      "18:32:20 - cmdstanpy - INFO - Chain [1] done processing\n",
      "18:32:20 - cmdstanpy - INFO - Chain [1] start processing\n",
      "18:32:20 - cmdstanpy - INFO - Chain [1] done processing\n",
      "18:32:20 - cmdstanpy - INFO - Chain [1] start processing\n",
      "18:32:20 - cmdstanpy - INFO - Chain [1] done processing\n",
      "18:32:21 - cmdstanpy - INFO - Chain [1] start processing\n",
      "18:32:21 - cmdstanpy - INFO - Chain [1] done processing\n"
     ]
    },
    {
     "name": "stdout",
     "output_type": "stream",
     "text": [
      "MAPE:0.17, PARAM:{'changepoint_prior_scale': 0.035, 'seasonality_prior_scale': 0.15, 'holidays_prior_scale': 0.01, 'seasonality_mode': 'multiplicative'}\n"
     ]
    },
    {
     "name": "stderr",
     "output_type": "stream",
     "text": [
      "18:32:21 - cmdstanpy - INFO - Chain [1] start processing\n",
      "18:32:21 - cmdstanpy - INFO - Chain [1] done processing\n",
      "Seasonality has period of 365.25 days which is larger than initial window. Consider increasing initial.\n"
     ]
    },
    {
     "data": {
      "application/vnd.jupyter.widget-view+json": {
       "model_id": "38e86404168b48869cd27f64b85a1a70",
       "version_major": 2,
       "version_minor": 0
      },
      "text/plain": [
       "  0%|          | 0/7 [00:00<?, ?it/s]"
      ]
     },
     "metadata": {},
     "output_type": "display_data"
    },
    {
     "name": "stderr",
     "output_type": "stream",
     "text": [
      "18:32:21 - cmdstanpy - INFO - Chain [1] start processing\n",
      "18:32:22 - cmdstanpy - INFO - Chain [1] done processing\n",
      "18:32:22 - cmdstanpy - INFO - Chain [1] start processing\n",
      "18:32:23 - cmdstanpy - INFO - Chain [1] done processing\n",
      "18:32:23 - cmdstanpy - INFO - Chain [1] start processing\n",
      "18:32:23 - cmdstanpy - INFO - Chain [1] done processing\n",
      "18:32:24 - cmdstanpy - INFO - Chain [1] start processing\n",
      "18:32:24 - cmdstanpy - INFO - Chain [1] done processing\n",
      "18:32:24 - cmdstanpy - INFO - Chain [1] start processing\n",
      "18:32:24 - cmdstanpy - INFO - Chain [1] done processing\n",
      "18:32:24 - cmdstanpy - INFO - Chain [1] start processing\n",
      "18:32:24 - cmdstanpy - INFO - Chain [1] done processing\n",
      "18:32:25 - cmdstanpy - INFO - Chain [1] start processing\n",
      "18:32:25 - cmdstanpy - INFO - Chain [1] done processing\n"
     ]
    },
    {
     "name": "stdout",
     "output_type": "stream",
     "text": [
      "MAPE:0.11, PARAM:{'changepoint_prior_scale': 0.0375, 'seasonality_prior_scale': 0.001, 'holidays_prior_scale': 0.01, 'seasonality_mode': 'additive'}\n"
     ]
    },
    {
     "name": "stderr",
     "output_type": "stream",
     "text": [
      "18:32:25 - cmdstanpy - INFO - Chain [1] start processing\n",
      "18:32:25 - cmdstanpy - INFO - Chain [1] done processing\n",
      "Seasonality has period of 365.25 days which is larger than initial window. Consider increasing initial.\n"
     ]
    },
    {
     "data": {
      "application/vnd.jupyter.widget-view+json": {
       "model_id": "11bb7f10a6a841c794dfdb57acb8407f",
       "version_major": 2,
       "version_minor": 0
      },
      "text/plain": [
       "  0%|          | 0/7 [00:00<?, ?it/s]"
      ]
     },
     "metadata": {},
     "output_type": "display_data"
    },
    {
     "name": "stderr",
     "output_type": "stream",
     "text": [
      "18:32:26 - cmdstanpy - INFO - Chain [1] start processing\n",
      "18:32:26 - cmdstanpy - INFO - Chain [1] done processing\n",
      "18:32:26 - cmdstanpy - INFO - Chain [1] start processing\n",
      "18:32:27 - cmdstanpy - INFO - Chain [1] done processing\n",
      "18:32:27 - cmdstanpy - INFO - Chain [1] start processing\n",
      "18:32:27 - cmdstanpy - INFO - Chain [1] done processing\n",
      "18:32:28 - cmdstanpy - INFO - Chain [1] start processing\n",
      "18:32:28 - cmdstanpy - INFO - Chain [1] done processing\n",
      "18:32:28 - cmdstanpy - INFO - Chain [1] start processing\n",
      "18:32:28 - cmdstanpy - INFO - Chain [1] done processing\n",
      "18:32:28 - cmdstanpy - INFO - Chain [1] start processing\n",
      "18:32:29 - cmdstanpy - INFO - Chain [1] done processing\n",
      "18:32:29 - cmdstanpy - INFO - Chain [1] start processing\n",
      "18:32:29 - cmdstanpy - INFO - Chain [1] done processing\n"
     ]
    },
    {
     "name": "stdout",
     "output_type": "stream",
     "text": [
      "MAPE:0.12, PARAM:{'changepoint_prior_scale': 0.0375, 'seasonality_prior_scale': 0.001, 'holidays_prior_scale': 0.01, 'seasonality_mode': 'multiplicative'}\n"
     ]
    },
    {
     "name": "stderr",
     "output_type": "stream",
     "text": [
      "18:32:29 - cmdstanpy - INFO - Chain [1] start processing\n",
      "18:32:29 - cmdstanpy - INFO - Chain [1] done processing\n",
      "Seasonality has period of 365.25 days which is larger than initial window. Consider increasing initial.\n"
     ]
    },
    {
     "data": {
      "application/vnd.jupyter.widget-view+json": {
       "model_id": "3e905ef5eebd4823bc57d8c6c1b31e4f",
       "version_major": 2,
       "version_minor": 0
      },
      "text/plain": [
       "  0%|          | 0/7 [00:00<?, ?it/s]"
      ]
     },
     "metadata": {},
     "output_type": "display_data"
    },
    {
     "name": "stderr",
     "output_type": "stream",
     "text": [
      "18:32:30 - cmdstanpy - INFO - Chain [1] start processing\n",
      "18:32:30 - cmdstanpy - INFO - Chain [1] done processing\n",
      "18:32:30 - cmdstanpy - INFO - Chain [1] start processing\n",
      "18:32:31 - cmdstanpy - INFO - Chain [1] done processing\n",
      "18:32:31 - cmdstanpy - INFO - Chain [1] start processing\n",
      "18:32:31 - cmdstanpy - INFO - Chain [1] done processing\n",
      "18:32:31 - cmdstanpy - INFO - Chain [1] start processing\n",
      "18:32:31 - cmdstanpy - INFO - Chain [1] done processing\n",
      "18:32:32 - cmdstanpy - INFO - Chain [1] start processing\n",
      "18:32:32 - cmdstanpy - INFO - Chain [1] done processing\n",
      "18:32:32 - cmdstanpy - INFO - Chain [1] start processing\n",
      "18:32:32 - cmdstanpy - INFO - Chain [1] done processing\n",
      "18:32:33 - cmdstanpy - INFO - Chain [1] start processing\n",
      "18:32:33 - cmdstanpy - INFO - Chain [1] done processing\n"
     ]
    },
    {
     "name": "stdout",
     "output_type": "stream",
     "text": [
      "MAPE:0.10, PARAM:{'changepoint_prior_scale': 0.0375, 'seasonality_prior_scale': 0.01, 'holidays_prior_scale': 0.01, 'seasonality_mode': 'additive'}\n"
     ]
    },
    {
     "name": "stderr",
     "output_type": "stream",
     "text": [
      "18:32:33 - cmdstanpy - INFO - Chain [1] start processing\n",
      "18:32:33 - cmdstanpy - INFO - Chain [1] done processing\n",
      "Seasonality has period of 365.25 days which is larger than initial window. Consider increasing initial.\n"
     ]
    },
    {
     "data": {
      "application/vnd.jupyter.widget-view+json": {
       "model_id": "a44cf01c310d4b769d268b685d0cb6c2",
       "version_major": 2,
       "version_minor": 0
      },
      "text/plain": [
       "  0%|          | 0/7 [00:00<?, ?it/s]"
      ]
     },
     "metadata": {},
     "output_type": "display_data"
    },
    {
     "name": "stderr",
     "output_type": "stream",
     "text": [
      "18:32:34 - cmdstanpy - INFO - Chain [1] start processing\n",
      "18:32:34 - cmdstanpy - INFO - Chain [1] done processing\n",
      "18:32:34 - cmdstanpy - INFO - Chain [1] start processing\n",
      "18:32:35 - cmdstanpy - INFO - Chain [1] done processing\n",
      "18:32:35 - cmdstanpy - INFO - Chain [1] start processing\n",
      "18:32:35 - cmdstanpy - INFO - Chain [1] done processing\n",
      "18:32:36 - cmdstanpy - INFO - Chain [1] start processing\n",
      "18:32:36 - cmdstanpy - INFO - Chain [1] done processing\n",
      "18:32:36 - cmdstanpy - INFO - Chain [1] start processing\n",
      "18:32:36 - cmdstanpy - INFO - Chain [1] done processing\n",
      "18:32:36 - cmdstanpy - INFO - Chain [1] start processing\n",
      "18:32:36 - cmdstanpy - INFO - Chain [1] done processing\n",
      "18:32:37 - cmdstanpy - INFO - Chain [1] start processing\n",
      "18:32:37 - cmdstanpy - INFO - Chain [1] done processing\n"
     ]
    },
    {
     "name": "stdout",
     "output_type": "stream",
     "text": [
      "MAPE:0.10, PARAM:{'changepoint_prior_scale': 0.0375, 'seasonality_prior_scale': 0.01, 'holidays_prior_scale': 0.01, 'seasonality_mode': 'multiplicative'}\n"
     ]
    },
    {
     "name": "stderr",
     "output_type": "stream",
     "text": [
      "18:32:37 - cmdstanpy - INFO - Chain [1] start processing\n",
      "18:32:37 - cmdstanpy - INFO - Chain [1] done processing\n",
      "Seasonality has period of 365.25 days which is larger than initial window. Consider increasing initial.\n"
     ]
    },
    {
     "data": {
      "application/vnd.jupyter.widget-view+json": {
       "model_id": "661df4b76d1743579d2513ace18d5046",
       "version_major": 2,
       "version_minor": 0
      },
      "text/plain": [
       "  0%|          | 0/7 [00:00<?, ?it/s]"
      ]
     },
     "metadata": {},
     "output_type": "display_data"
    },
    {
     "name": "stderr",
     "output_type": "stream",
     "text": [
      "18:32:38 - cmdstanpy - INFO - Chain [1] start processing\n",
      "18:32:38 - cmdstanpy - INFO - Chain [1] done processing\n",
      "18:32:38 - cmdstanpy - INFO - Chain [1] start processing\n",
      "18:32:39 - cmdstanpy - INFO - Chain [1] done processing\n",
      "18:32:39 - cmdstanpy - INFO - Chain [1] start processing\n",
      "18:32:39 - cmdstanpy - INFO - Chain [1] done processing\n",
      "18:32:40 - cmdstanpy - INFO - Chain [1] start processing\n",
      "18:32:40 - cmdstanpy - INFO - Chain [1] done processing\n",
      "18:32:40 - cmdstanpy - INFO - Chain [1] start processing\n",
      "18:32:40 - cmdstanpy - INFO - Chain [1] done processing\n",
      "18:32:40 - cmdstanpy - INFO - Chain [1] start processing\n",
      "18:32:40 - cmdstanpy - INFO - Chain [1] done processing\n",
      "18:32:41 - cmdstanpy - INFO - Chain [1] start processing\n",
      "18:32:41 - cmdstanpy - INFO - Chain [1] done processing\n"
     ]
    },
    {
     "name": "stdout",
     "output_type": "stream",
     "text": [
      "MAPE:0.17, PARAM:{'changepoint_prior_scale': 0.0375, 'seasonality_prior_scale': 0.1, 'holidays_prior_scale': 0.01, 'seasonality_mode': 'additive'}\n"
     ]
    },
    {
     "name": "stderr",
     "output_type": "stream",
     "text": [
      "18:32:41 - cmdstanpy - INFO - Chain [1] start processing\n",
      "18:32:41 - cmdstanpy - INFO - Chain [1] done processing\n",
      "Seasonality has period of 365.25 days which is larger than initial window. Consider increasing initial.\n"
     ]
    },
    {
     "data": {
      "application/vnd.jupyter.widget-view+json": {
       "model_id": "59225243fcd148ada43b97a4d31fee03",
       "version_major": 2,
       "version_minor": 0
      },
      "text/plain": [
       "  0%|          | 0/7 [00:00<?, ?it/s]"
      ]
     },
     "metadata": {},
     "output_type": "display_data"
    },
    {
     "name": "stderr",
     "output_type": "stream",
     "text": [
      "18:32:41 - cmdstanpy - INFO - Chain [1] start processing\n",
      "18:32:42 - cmdstanpy - INFO - Chain [1] done processing\n",
      "18:32:42 - cmdstanpy - INFO - Chain [1] start processing\n",
      "18:32:44 - cmdstanpy - INFO - Chain [1] done processing\n",
      "18:32:44 - cmdstanpy - INFO - Chain [1] start processing\n",
      "18:32:44 - cmdstanpy - INFO - Chain [1] done processing\n",
      "18:32:44 - cmdstanpy - INFO - Chain [1] start processing\n",
      "18:32:45 - cmdstanpy - INFO - Chain [1] done processing\n",
      "18:32:45 - cmdstanpy - INFO - Chain [1] start processing\n",
      "18:32:45 - cmdstanpy - INFO - Chain [1] done processing\n",
      "18:32:45 - cmdstanpy - INFO - Chain [1] start processing\n",
      "18:32:45 - cmdstanpy - INFO - Chain [1] done processing\n",
      "18:32:46 - cmdstanpy - INFO - Chain [1] start processing\n",
      "18:32:46 - cmdstanpy - INFO - Chain [1] done processing\n"
     ]
    },
    {
     "name": "stdout",
     "output_type": "stream",
     "text": [
      "MAPE:0.14, PARAM:{'changepoint_prior_scale': 0.0375, 'seasonality_prior_scale': 0.1, 'holidays_prior_scale': 0.01, 'seasonality_mode': 'multiplicative'}\n"
     ]
    },
    {
     "name": "stderr",
     "output_type": "stream",
     "text": [
      "18:32:46 - cmdstanpy - INFO - Chain [1] start processing\n",
      "18:32:46 - cmdstanpy - INFO - Chain [1] done processing\n",
      "Seasonality has period of 365.25 days which is larger than initial window. Consider increasing initial.\n"
     ]
    },
    {
     "data": {
      "application/vnd.jupyter.widget-view+json": {
       "model_id": "22e3723e58e749b98fb77df888b21c59",
       "version_major": 2,
       "version_minor": 0
      },
      "text/plain": [
       "  0%|          | 0/7 [00:00<?, ?it/s]"
      ]
     },
     "metadata": {},
     "output_type": "display_data"
    },
    {
     "name": "stderr",
     "output_type": "stream",
     "text": [
      "18:32:46 - cmdstanpy - INFO - Chain [1] start processing\n",
      "18:32:47 - cmdstanpy - INFO - Chain [1] done processing\n",
      "18:32:47 - cmdstanpy - INFO - Chain [1] start processing\n",
      "18:32:47 - cmdstanpy - INFO - Chain [1] done processing\n",
      "18:32:48 - cmdstanpy - INFO - Chain [1] start processing\n",
      "18:32:48 - cmdstanpy - INFO - Chain [1] done processing\n",
      "18:32:48 - cmdstanpy - INFO - Chain [1] start processing\n",
      "18:32:48 - cmdstanpy - INFO - Chain [1] done processing\n",
      "18:32:48 - cmdstanpy - INFO - Chain [1] start processing\n",
      "18:32:48 - cmdstanpy - INFO - Chain [1] done processing\n",
      "18:32:49 - cmdstanpy - INFO - Chain [1] start processing\n",
      "18:32:49 - cmdstanpy - INFO - Chain [1] done processing\n",
      "18:32:49 - cmdstanpy - INFO - Chain [1] start processing\n",
      "18:32:49 - cmdstanpy - INFO - Chain [1] done processing\n"
     ]
    },
    {
     "name": "stdout",
     "output_type": "stream",
     "text": [
      "MAPE:0.23, PARAM:{'changepoint_prior_scale': 0.0375, 'seasonality_prior_scale': 0.15, 'holidays_prior_scale': 0.01, 'seasonality_mode': 'additive'}\n"
     ]
    },
    {
     "name": "stderr",
     "output_type": "stream",
     "text": [
      "18:32:50 - cmdstanpy - INFO - Chain [1] start processing\n",
      "18:32:50 - cmdstanpy - INFO - Chain [1] done processing\n",
      "Seasonality has period of 365.25 days which is larger than initial window. Consider increasing initial.\n"
     ]
    },
    {
     "data": {
      "application/vnd.jupyter.widget-view+json": {
       "model_id": "2bde333edd4347c3b7631c69c3eb1a66",
       "version_major": 2,
       "version_minor": 0
      },
      "text/plain": [
       "  0%|          | 0/7 [00:00<?, ?it/s]"
      ]
     },
     "metadata": {},
     "output_type": "display_data"
    },
    {
     "name": "stderr",
     "output_type": "stream",
     "text": [
      "18:32:50 - cmdstanpy - INFO - Chain [1] start processing\n",
      "18:32:51 - cmdstanpy - INFO - Chain [1] done processing\n",
      "18:32:51 - cmdstanpy - INFO - Chain [1] start processing\n",
      "18:32:53 - cmdstanpy - INFO - Chain [1] done processing\n",
      "18:32:53 - cmdstanpy - INFO - Chain [1] start processing\n",
      "18:32:53 - cmdstanpy - INFO - Chain [1] done processing\n",
      "18:32:53 - cmdstanpy - INFO - Chain [1] start processing\n",
      "18:32:54 - cmdstanpy - INFO - Chain [1] done processing\n",
      "18:32:54 - cmdstanpy - INFO - Chain [1] start processing\n",
      "18:32:54 - cmdstanpy - INFO - Chain [1] done processing\n",
      "18:32:54 - cmdstanpy - INFO - Chain [1] start processing\n",
      "18:32:54 - cmdstanpy - INFO - Chain [1] done processing\n",
      "18:32:55 - cmdstanpy - INFO - Chain [1] start processing\n",
      "18:32:55 - cmdstanpy - INFO - Chain [1] done processing\n"
     ]
    },
    {
     "name": "stdout",
     "output_type": "stream",
     "text": [
      "MAPE:0.17, PARAM:{'changepoint_prior_scale': 0.0375, 'seasonality_prior_scale': 0.15, 'holidays_prior_scale': 0.01, 'seasonality_mode': 'multiplicative'}\n"
     ]
    },
    {
     "name": "stderr",
     "output_type": "stream",
     "text": [
      "18:32:55 - cmdstanpy - INFO - Chain [1] start processing\n",
      "18:32:55 - cmdstanpy - INFO - Chain [1] done processing\n"
     ]
    },
    {
     "name": "stdout",
     "output_type": "stream",
     "text": [
      "          ds       yhat\n",
      "0 2020-01-02  20.279425\n",
      "1 2020-01-03  20.286262\n",
      "2 2020-01-06  20.368505\n",
      "3 2020-01-07  20.493529\n",
      "4 2020-01-08  20.512349\n",
      "            ds       yhat\n",
      "337 2021-04-30  21.388167\n",
      "338 2021-05-03  21.344494\n",
      "339 2021-05-04  21.445859\n",
      "340 2021-05-05  21.451940\n",
      "341 2021-05-06  21.515371\n",
      " \n",
      "best_mape_from_fuction = best_mape 0.10053312493604236\n",
      " \n",
      "best_params_from_function =  {'changepoint_prior_scale': 0.035, 'seasonality_prior_scale': 0.01, 'holidays_prior_scale': 0.01, 'seasonality_mode': 'additive'}\n",
      "forecast_df.shape =  (90, 2)\n",
      "merged_data.shape =  (63, 3)\n",
      " \n",
      "MAPE_Score =  5.67743314573641\n",
      " \n"
     ]
    }
   ],
   "source": [
    "# Iteration 3\n",
    "best_mape,  best_params = optimize_prophet(df_train = df2_train,total_days = 252,params = {\n",
    "    \n",
    "        'changepoint_prior_scale': [0.03,0.0325,0.035,0.0375], \n",
    "        'seasonality_prior_scale': [0.001,0.01, 0.1,0.15],\n",
    "        'holidays_prior_scale': [0.01],\n",
    "        'seasonality_mode': ['additive','multiplicative']\n",
    "} )\n",
    "forecast_df, merged_data, MAPE_Score = func_test_forecast_MAPE(\n",
    "best_mape_from_function = best_mape,\n",
    "params = best_params,\n",
    "country = 'Turkey',\n",
    "df_train = df2_train)"
   ]
  },
  {
   "cell_type": "code",
   "execution_count": null,
   "id": "68198c83-796f-45c0-a7b9-a44ba0ce62e5",
   "metadata": {},
   "outputs": [],
   "source": [
    "# Iteration 3 MAPE_train_test =  5.67743314573641"
   ]
  },
  {
   "cell_type": "code",
   "execution_count": 128,
   "id": "b4e9c414-d943-4a0a-9be5-1381b0516019",
   "metadata": {},
   "outputs": [
    {
     "name": "stderr",
     "output_type": "stream",
     "text": [
      "18:32:56 - cmdstanpy - INFO - Chain [1] start processing\n",
      "18:32:56 - cmdstanpy - INFO - Chain [1] done processing\n"
     ]
    },
    {
     "name": "stdout",
     "output_type": "stream",
     "text": [
      "          ds       yhat\n",
      "0 2020-01-02  20.279425\n",
      "1 2020-01-03  20.286262\n",
      "2 2020-01-06  20.368505\n",
      "3 2020-01-07  20.493529\n",
      "4 2020-01-08  20.512349\n",
      "            ds       yhat\n",
      "337 2021-04-30  21.388167\n",
      "338 2021-05-03  21.344494\n",
      "339 2021-05-04  21.445859\n",
      "340 2021-05-05  21.451940\n",
      "341 2021-05-06  21.515371\n",
      " \n",
      "best_mape_from_fuction = best_mape 0.10053312493604236\n",
      " \n",
      "best_params_from_function =  {'changepoint_prior_scale': 0.035, 'seasonality_prior_scale': 0.01, 'holidays_prior_scale': 0.01, 'seasonality_mode': 'additive'}\n",
      "forecast_df.shape =  (90, 2)\n",
      "merged_data.shape =  (63, 3)\n",
      " \n",
      "MAPE_Score =  5.67743314573641\n",
      " \n"
     ]
    }
   ],
   "source": [
    "forecast_df2_Prophet, merged_data_Prophet2, MAPE_Score = func_test_forecast_MAPE(\n",
    "    best_mape_from_function = best_mape,\n",
    "    params = best_params,\n",
    "    country = 'Turkey',\n",
    "    df_train = df2_train)\n"
   ]
  },
  {
   "cell_type": "code",
   "execution_count": 133,
   "id": "82cf7dd2-80e5-41d9-8ae6-0677f26c14d2",
   "metadata": {},
   "outputs": [],
   "source": [
    "turkey_dict['Prophet MAPE'] = 5.67743314573641"
   ]
  },
  {
   "cell_type": "code",
   "execution_count": 135,
   "id": "9e536957-e530-4870-8468-d45cc56c3ae0",
   "metadata": {},
   "outputs": [
    {
     "data": {
      "text/html": [
       "<div>\n",
       "<style scoped>\n",
       "    .dataframe tbody tr th:only-of-type {\n",
       "        vertical-align: middle;\n",
       "    }\n",
       "\n",
       "    .dataframe tbody tr th {\n",
       "        vertical-align: top;\n",
       "    }\n",
       "\n",
       "    .dataframe thead th {\n",
       "        text-align: right;\n",
       "    }\n",
       "</style>\n",
       "<table border=\"1\" class=\"dataframe\">\n",
       "  <thead>\n",
       "    <tr style=\"text-align: right;\">\n",
       "      <th></th>\n",
       "      <th>ds</th>\n",
       "      <th>yhat</th>\n",
       "    </tr>\n",
       "  </thead>\n",
       "  <tbody>\n",
       "    <tr>\n",
       "      <th>252</th>\n",
       "      <td>2021-01-01</td>\n",
       "      <td>20.840260</td>\n",
       "    </tr>\n",
       "    <tr>\n",
       "      <th>253</th>\n",
       "      <td>2021-01-04</td>\n",
       "      <td>21.082735</td>\n",
       "    </tr>\n",
       "    <tr>\n",
       "      <th>254</th>\n",
       "      <td>2021-01-05</td>\n",
       "      <td>21.261501</td>\n",
       "    </tr>\n",
       "    <tr>\n",
       "      <th>255</th>\n",
       "      <td>2021-01-06</td>\n",
       "      <td>21.334247</td>\n",
       "    </tr>\n",
       "    <tr>\n",
       "      <th>256</th>\n",
       "      <td>2021-01-07</td>\n",
       "      <td>21.452804</td>\n",
       "    </tr>\n",
       "  </tbody>\n",
       "</table>\n",
       "</div>"
      ],
      "text/plain": [
       "            ds       yhat\n",
       "252 2021-01-01  20.840260\n",
       "253 2021-01-04  21.082735\n",
       "254 2021-01-05  21.261501\n",
       "255 2021-01-06  21.334247\n",
       "256 2021-01-07  21.452804"
      ]
     },
     "execution_count": 135,
     "metadata": {},
     "output_type": "execute_result"
    }
   ],
   "source": [
    "forecast_df2_Prophet.head()"
   ]
  },
  {
   "cell_type": "code",
   "execution_count": 137,
   "id": "c0a810c4-14b4-4ded-b944-40d7cb921a32",
   "metadata": {},
   "outputs": [
    {
     "data": {
      "text/html": [
       "<div>\n",
       "<style scoped>\n",
       "    .dataframe tbody tr th:only-of-type {\n",
       "        vertical-align: middle;\n",
       "    }\n",
       "\n",
       "    .dataframe tbody tr th {\n",
       "        vertical-align: top;\n",
       "    }\n",
       "\n",
       "    .dataframe thead th {\n",
       "        text-align: right;\n",
       "    }\n",
       "</style>\n",
       "<table border=\"1\" class=\"dataframe\">\n",
       "  <thead>\n",
       "    <tr style=\"text-align: right;\">\n",
       "      <th></th>\n",
       "      <th>ds</th>\n",
       "      <th>y</th>\n",
       "      <th>yhat</th>\n",
       "    </tr>\n",
       "  </thead>\n",
       "  <tbody>\n",
       "    <tr>\n",
       "      <th>0</th>\n",
       "      <td>2021-01-04</td>\n",
       "      <td>21.20</td>\n",
       "      <td>21.082735</td>\n",
       "    </tr>\n",
       "    <tr>\n",
       "      <th>1</th>\n",
       "      <td>2021-01-05</td>\n",
       "      <td>21.14</td>\n",
       "      <td>21.261501</td>\n",
       "    </tr>\n",
       "    <tr>\n",
       "      <th>2</th>\n",
       "      <td>2021-01-06</td>\n",
       "      <td>21.14</td>\n",
       "      <td>21.334247</td>\n",
       "    </tr>\n",
       "    <tr>\n",
       "      <th>3</th>\n",
       "      <td>2021-01-07</td>\n",
       "      <td>21.10</td>\n",
       "      <td>21.452804</td>\n",
       "    </tr>\n",
       "    <tr>\n",
       "      <th>4</th>\n",
       "      <td>2021-01-08</td>\n",
       "      <td>21.52</td>\n",
       "      <td>21.495135</td>\n",
       "    </tr>\n",
       "  </tbody>\n",
       "</table>\n",
       "</div>"
      ],
      "text/plain": [
       "          ds      y       yhat\n",
       "0 2021-01-04  21.20  21.082735\n",
       "1 2021-01-05  21.14  21.261501\n",
       "2 2021-01-06  21.14  21.334247\n",
       "3 2021-01-07  21.10  21.452804\n",
       "4 2021-01-08  21.52  21.495135"
      ]
     },
     "execution_count": 137,
     "metadata": {},
     "output_type": "execute_result"
    }
   ],
   "source": [
    "merged_data_Prophet2.head()"
   ]
  },
  {
   "cell_type": "code",
   "execution_count": 139,
   "id": "967f2e3d-c526-4932-a7f2-e202863c4cd9",
   "metadata": {},
   "outputs": [
    {
     "data": {
      "text/plain": [
       "{'Moving Average MAPE Score': 3.1272017339574236,\n",
       " 'Exponential Smoothing MAPE Score': 7.143134620559723,\n",
       " 'ARIMA MAPE Score': 5.381704470639473,\n",
       " 'LSTM MAPE Score': 14.131276352116592,\n",
       " 'Prophet MAPE': 5.67743314573641}"
      ]
     },
     "execution_count": 139,
     "metadata": {},
     "output_type": "execute_result"
    }
   ],
   "source": [
    "turkey_dict"
   ]
  },
  {
   "cell_type": "code",
   "execution_count": 149,
   "id": "fc3ee00a-4757-47b6-a7ee-6b229297d87f",
   "metadata": {},
   "outputs": [
    {
     "name": "stdout",
     "output_type": "stream",
     "text": [
      "Turkey\n",
      " \n",
      "Moving Average MAPE Score  = 3.1272017339574236\n",
      "Exponential Smoothing MAPE Score  = 7.143134620559723\n",
      "ARIMA MAPE Score  = 5.381704470639473\n",
      "LSTM MAPE Score  = 14.131276352116592\n",
      "Prophet MAPE  = 5.67743314573641\n"
     ]
    }
   ],
   "source": [
    "print('Turkey')\n",
    "print(' ')\n",
    "for k, v in turkey_dict.items():\n",
    "    print(k, ' =', v)"
   ]
  },
  {
   "cell_type": "code",
   "execution_count": 151,
   "id": "02bdcabe-1b4b-488b-8f4f-9009eac4aa6a",
   "metadata": {},
   "outputs": [
    {
     "name": "stdout",
     "output_type": "stream",
     "text": [
      "           ds      y       yhat        SMA        SD         UB         LB\n",
      "58 2021-03-25  20.02  18.127170  19.870696  1.464698  22.800092  16.941299\n",
      "59 2021-03-26  19.25  18.113466  19.664759  1.403463  22.471685  16.857833\n",
      "60 2021-03-29  19.10  18.286840  19.486265  1.335373  22.157011  16.815519\n",
      "61 2021-03-30  19.50  18.488635  19.320627  1.234757  21.790142  16.851112\n",
      "62 2021-03-31  19.41  18.604436  19.169507  1.116986  21.403480  16.935534\n"
     ]
    }
   ],
   "source": [
    "# Bollinger Bands¶\n",
    "\n",
    "df_b2 = bollinger_bands(dataframe=merged_data_Prophet2, forecast='yhat')\n"
   ]
  },
  {
   "cell_type": "code",
   "execution_count": 153,
   "id": "d506e136-0160-4af5-8561-8585feeccf73",
   "metadata": {},
   "outputs": [
    {
     "data": {
      "text/html": [
       "<div>\n",
       "<style scoped>\n",
       "    .dataframe tbody tr th:only-of-type {\n",
       "        vertical-align: middle;\n",
       "    }\n",
       "\n",
       "    .dataframe tbody tr th {\n",
       "        vertical-align: top;\n",
       "    }\n",
       "\n",
       "    .dataframe thead th {\n",
       "        text-align: right;\n",
       "    }\n",
       "</style>\n",
       "<table border=\"1\" class=\"dataframe\">\n",
       "  <thead>\n",
       "    <tr style=\"text-align: right;\">\n",
       "      <th></th>\n",
       "      <th>ds</th>\n",
       "      <th>y</th>\n",
       "      <th>yhat</th>\n",
       "      <th>SMA</th>\n",
       "      <th>SD</th>\n",
       "      <th>UB</th>\n",
       "      <th>LB</th>\n",
       "    </tr>\n",
       "  </thead>\n",
       "  <tbody>\n",
       "    <tr>\n",
       "      <th>58</th>\n",
       "      <td>2021-03-25</td>\n",
       "      <td>20.02</td>\n",
       "      <td>18.127170</td>\n",
       "      <td>19.870696</td>\n",
       "      <td>1.464698</td>\n",
       "      <td>22.800092</td>\n",
       "      <td>16.941299</td>\n",
       "    </tr>\n",
       "    <tr>\n",
       "      <th>59</th>\n",
       "      <td>2021-03-26</td>\n",
       "      <td>19.25</td>\n",
       "      <td>18.113466</td>\n",
       "      <td>19.664759</td>\n",
       "      <td>1.403463</td>\n",
       "      <td>22.471685</td>\n",
       "      <td>16.857833</td>\n",
       "    </tr>\n",
       "    <tr>\n",
       "      <th>60</th>\n",
       "      <td>2021-03-29</td>\n",
       "      <td>19.10</td>\n",
       "      <td>18.286840</td>\n",
       "      <td>19.486265</td>\n",
       "      <td>1.335373</td>\n",
       "      <td>22.157011</td>\n",
       "      <td>16.815519</td>\n",
       "    </tr>\n",
       "    <tr>\n",
       "      <th>61</th>\n",
       "      <td>2021-03-30</td>\n",
       "      <td>19.50</td>\n",
       "      <td>18.488635</td>\n",
       "      <td>19.320627</td>\n",
       "      <td>1.234757</td>\n",
       "      <td>21.790142</td>\n",
       "      <td>16.851112</td>\n",
       "    </tr>\n",
       "    <tr>\n",
       "      <th>62</th>\n",
       "      <td>2021-03-31</td>\n",
       "      <td>19.41</td>\n",
       "      <td>18.604436</td>\n",
       "      <td>19.169507</td>\n",
       "      <td>1.116986</td>\n",
       "      <td>21.403480</td>\n",
       "      <td>16.935534</td>\n",
       "    </tr>\n",
       "  </tbody>\n",
       "</table>\n",
       "</div>"
      ],
      "text/plain": [
       "           ds      y       yhat        SMA        SD         UB         LB\n",
       "58 2021-03-25  20.02  18.127170  19.870696  1.464698  22.800092  16.941299\n",
       "59 2021-03-26  19.25  18.113466  19.664759  1.403463  22.471685  16.857833\n",
       "60 2021-03-29  19.10  18.286840  19.486265  1.335373  22.157011  16.815519\n",
       "61 2021-03-30  19.50  18.488635  19.320627  1.234757  21.790142  16.851112\n",
       "62 2021-03-31  19.41  18.604436  19.169507  1.116986  21.403480  16.935534"
      ]
     },
     "execution_count": 153,
     "metadata": {},
     "output_type": "execute_result"
    }
   ],
   "source": [
    "df_b2.tail()"
   ]
  },
  {
   "cell_type": "code",
   "execution_count": 155,
   "id": "2ae86af2-e92a-4fe7-b73f-e298e94d7d47",
   "metadata": {},
   "outputs": [
    {
     "data": {
      "text/plain": [
       "Index(['ds', 'y', 'yhat', 'SMA', 'SD', 'UB', 'LB'], dtype='object')"
      ]
     },
     "execution_count": 155,
     "metadata": {},
     "output_type": "execute_result"
    }
   ],
   "source": [
    "df_b2.columns"
   ]
  },
  {
   "cell_type": "code",
   "execution_count": 157,
   "id": "45f5f9a3-a3bc-42a2-9c3d-3a0d681a042b",
   "metadata": {},
   "outputs": [],
   "source": [
    "df_b2.columns = ['Date', 'Price', 'yhat', 'SMA', 'SD', 'UB', 'LB']"
   ]
  },
  {
   "cell_type": "code",
   "execution_count": 166,
   "id": "5ea128b3-03a8-473a-b539-6261655d323e",
   "metadata": {},
   "outputs": [
    {
     "data": {
      "image/png": "[encoded data removed]",
      "text/plain": [
       "<Figure size 1500x800 with 1 Axes>"
      ]
     },
     "metadata": {},
     "output_type": "display_data"
    }
   ],
   "source": [
    "plot_bollinger_bands (dataframe = df_b2,mdl_type = 'Turkey: Prophet',savefig = 'Turkey Bollinger Band Graph  .png')"
   ]
  },
  {
   "cell_type": "markdown",
   "id": "97fe9633-083d-4a96-af7c-e399f7289fea",
   "metadata": {},
   "source": [
    "**Strategy For Turkey**\n",
    "\n",
    "    From around the last week in January through the end of the first week in February buy. \n",
    "    After that, there are some fluctuations in price but the price is primarily between the Bollinger bands so hold.\n"
   ]
  }
 ],
 "metadata": {
  "kernelspec": {
   "display_name": "Python 3 (ipykernel)",
   "language": "python",
   "name": "python3"
  },
  "language_info": {
   "codemirror_mode": {
    "name": "ipython",
    "version": 3
   },
   "file_extension": ".py",
   "mimetype": "text/x-python",
   "name": "python",
   "nbconvert_exporter": "python",
   "pygments_lexer": "ipython3",
   "version": "3.12.4"
  }
 },
 "nbformat": 4,
 "nbformat_minor": 5
}
